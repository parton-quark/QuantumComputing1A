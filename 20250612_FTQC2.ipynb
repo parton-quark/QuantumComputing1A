{
 "cells": [
  {
   "cell_type": "markdown",
   "metadata": {
    "id": "YEwLemciIT88"
   },
   "source": [
    "# 量子コンピューティング I 第9回 FTQC編 第二回 スタビライザ符号とフォールトトレランス​"
   ]
  },
  {
   "cell_type": "markdown",
   "metadata": {
    "id": "Psb5Ah9WMv2E"
   },
   "source": [
    "## 量子誤り訂正符号の閾値導出\n",
    "量子誤り訂正符号(や符号族)の閾値は解析的に得ることが難しいことがほとんどです。そこで符号スケール(符号長や連接レベル)を変更した際に物理誤り率に対して論理誤り率がどのように振る舞うかをモンテカルロシミュレーションしてみましょう。今回はGoogleのシミュレータライブラリStimを用いて実際にシミュレーションを行ってみましょう。"
   ]
  },
  {
   "cell_type": "code",
   "execution_count": 1,
   "metadata": {
    "colab": {
     "base_uri": "https://localhost:8080/"
    },
    "executionInfo": {
     "elapsed": 21589,
     "status": "ok",
     "timestamp": 1749668415845,
     "user": {
      "displayName": "西尾真",
      "userId": "00115546110162814399"
     },
     "user_tz": -60
    },
    "id": "fMf_vlB7D6fR",
    "outputId": "d44e0c43-5a95-4a80-9dbe-c1d60537dacb"
   },
   "outputs": [
    {
     "name": "stdout",
     "output_type": "stream",
     "text": [
      "Requirement already satisfied: stim~=1.14 in ./.venv/lib/python3.10/site-packages (1.15.0)\n",
      "Requirement already satisfied: numpy in ./.venv/lib/python3.10/site-packages (from stim~=1.14) (1.26.4)\n",
      "Requirement already satisfied: numpy~=1.0 in ./.venv/lib/python3.10/site-packages (1.26.4)\n",
      "Requirement already satisfied: scipy in ./.venv/lib/python3.10/site-packages (1.15.3)\n",
      "Requirement already satisfied: numpy<2.5,>=1.23.5 in ./.venv/lib/python3.10/site-packages (from scipy) (1.26.4)\n"
     ]
    }
   ],
   "source": [
    "!pip install stim~=1.14\n",
    "!pip install numpy~=1.0  # 1.0 instead of 2.0 for pymatching compatibility later\n",
    "!pip install scipy"
   ]
  },
  {
   "cell_type": "code",
   "execution_count": 2,
   "metadata": {
    "colab": {
     "base_uri": "https://localhost:8080/"
    },
    "executionInfo": {
     "elapsed": 4,
     "status": "ok",
     "timestamp": 1749668415860,
     "user": {
      "displayName": "西尾真",
      "userId": "00115546110162814399"
     },
     "user_tz": -60
    },
    "id": "P0lD6ilJD8Pi",
    "outputId": "e478d46d-5141-49b0-dd12-1c4f89dfe4d7"
   },
   "outputs": [
    {
     "name": "stdout",
     "output_type": "stream",
     "text": [
      "1.15.0\n"
     ]
    }
   ],
   "source": [
    "import stim\n",
    "print(stim.__version__)"
   ]
  },
  {
   "cell_type": "markdown",
   "metadata": {
    "id": "vah6-5YpGdaG"
   },
   "source": [
    "# 単純な回路を作ってみる\n",
    "Stimでの回路は [`stim.Circuit`](https://github.com/quantumlib/Stim/blob/main/doc/python_api_reference_vDev.md#stim.Circuit) classで扱われます。`stim.Circuit()`で空の回路を作成でき、`circuit.append(name_of_gate, list_of_targets)`でゲートなどを追加できます。\n",
    "\n",
    "扱えるゲートは [Stim ゲートのリファレンス](https://github.com/quantumlib/Stim/blob/main/doc/gates.md) を参照のこと。\n",
    "\n",
    "Bellペアを作る回路は以下のように作れます。面倒さはQiskitの回路と大差ないはずです。"
   ]
  },
  {
   "cell_type": "code",
   "execution_count": 3,
   "metadata": {
    "executionInfo": {
     "elapsed": 0,
     "status": "ok",
     "timestamp": 1749668415861,
     "user": {
      "displayName": "西尾真",
      "userId": "00115546110162814399"
     },
     "user_tz": -60
    },
    "id": "UP84FdeWGodO"
   },
   "outputs": [],
   "source": [
    "circuit = stim.Circuit()\n",
    "\n",
    "# First, the circuit will initialize a Bell pair.\n",
    "circuit.append(\"H\", [0])\n",
    "circuit.append(\"CNOT\", [0, 1])\n",
    "\n",
    "# Then, the circuit will measure both qubits of the Bell pair in the Z basis.\n",
    "circuit.append(\"M\", [0, 1])"
   ]
  },
  {
   "cell_type": "markdown",
   "metadata": {
    "id": "ySG_dqfQ-qOQ"
   },
   "source": [
    "回路の中身を表示するには以下のようにします。"
   ]
  },
  {
   "cell_type": "code",
   "execution_count": 4,
   "metadata": {
    "colab": {
     "base_uri": "https://localhost:8080/"
    },
    "executionInfo": {
     "elapsed": 7,
     "status": "ok",
     "timestamp": 1749668415869,
     "user": {
      "displayName": "西尾真",
      "userId": "00115546110162814399"
     },
     "user_tz": -60
    },
    "id": "L51yrzUW-qOQ",
    "outputId": "84e68e96-fb45-4e63-da11-5106b57ca063"
   },
   "outputs": [
    {
     "data": {
      "text/plain": [
       "stim.Circuit('''\n",
       "    H 0\n",
       "    CX 0 1\n",
       "    M 0 1\n",
       "''')"
      ]
     },
     "execution_count": 4,
     "metadata": {},
     "output_type": "execute_result"
    }
   ],
   "source": [
    "circuit"
   ]
  },
  {
   "cell_type": "markdown",
   "metadata": {
    "id": "D-RpRUTw-qOQ"
   },
   "source": [
    " [`circuit.diagram`](https://github.com/quantumlib/Stim/blob/main/doc/python_api_reference_vDev.md#stim.Circuit.diagram) だとより回路的に表示できます。"
   ]
  },
  {
   "cell_type": "code",
   "execution_count": 5,
   "metadata": {
    "colab": {
     "base_uri": "https://localhost:8080/",
     "height": 69
    },
    "executionInfo": {
     "elapsed": 1,
     "status": "ok",
     "timestamp": 1749668415871,
     "user": {
      "displayName": "西尾真",
      "userId": "00115546110162814399"
     },
     "user_tz": -60
    },
    "id": "_75gRftr-qOQ",
    "outputId": "1f9eb4fa-1ebf-42e9-f642-b4e7988d545b"
   },
   "outputs": [
    {
     "data": {
      "text/html": [
       "<pre>q0: -H-@-M:rec[0]-\n",
       "       |\n",
       "q1: ---X-M:rec[1]-</pre>"
      ],
      "text/plain": [
       "q0: -H-@-M:rec[0]-\n",
       "       |\n",
       "q1: ---X-M:rec[1]-"
      ]
     },
     "execution_count": 5,
     "metadata": {},
     "output_type": "execute_result"
    }
   ],
   "source": [
    "circuit.diagram()"
   ]
  },
  {
   "cell_type": "markdown",
   "metadata": {
    "id": "XKnYuBEB-qOQ"
   },
   "source": [
    "([SVG](https://en.wikipedia.org/wiki/SVG))画像としても出力可能である。"
   ]
  },
  {
   "cell_type": "code",
   "execution_count": 6,
   "metadata": {
    "colab": {
     "base_uri": "https://localhost:8080/",
     "height": 1000
    },
    "executionInfo": {
     "elapsed": 1,
     "status": "ok",
     "timestamp": 1749668415872,
     "user": {
      "displayName": "西尾真",
      "userId": "00115546110162814399"
     },
     "user_tz": -60
    },
    "id": "NXlSD_sy-qOQ",
    "outputId": "b9c0ae83-cf61-4a99-839f-40544b007adb"
   },
   "outputs": [
    {
     "data": {
      "image/svg+xml": [
       "<svg viewBox=\"0 0 288 224\"  version=\"1.1\" xmlns=\"http://www.w3.org/2000/svg\">\n",
       "<g id=\"qubit_lines\">\n",
       "<path id=\"qubit_line:0\" d=\"M64,64 L256,64 \" stroke=\"black\"/>\n",
       "<text dominant-baseline=\"central\" text-anchor=\"end\" font-family=\"monospace\" font-size=\"12\" x=\"64\" y=\"64\">q0</text>\n",
       "<path id=\"qubit_line:1\" d=\"M64,128 L256,128 \" stroke=\"black\"/>\n",
       "<text dominant-baseline=\"central\" text-anchor=\"end\" font-family=\"monospace\" font-size=\"12\" x=\"64\" y=\"128\">q1</text>\n",
       "</g>\n",
       "<rect x=\"80\" y=\"48\" width=\"32\" height=\"32\" stroke=\"black\" fill=\"white\"/>\n",
       "<text dominant-baseline=\"central\" text-anchor=\"middle\" font-family=\"monospace\" font-size=\"30\" x=\"96\" y=\"64\">H</text>\n",
       "<path d=\"M160,64 L160,128 \" stroke=\"black\"/>\n",
       "<circle cx=\"160\" cy=\"64\" r=\"12\" stroke=\"none\" fill=\"black\"/>\n",
       "<circle cx=\"160\" cy=\"128\" r=\"12\" stroke=\"black\" fill=\"white\"/>\n",
       "<path d=\"M148,128 L172,128 M160,116 L160,140 \" stroke=\"black\"/>\n",
       "<rect x=\"208\" y=\"48\" width=\"32\" height=\"32\" stroke=\"black\" fill=\"black\"/>\n",
       "<text dominant-baseline=\"central\" text-anchor=\"middle\" font-family=\"monospace\" font-size=\"30\" x=\"224\" y=\"64\" fill=\"white\">M</text>\n",
       "<text text-anchor=\"middle\" font-family=\"monospace\" font-size=\"8\" x=\"224\" y=\"44\">rec[0]</text>\n",
       "<rect x=\"208\" y=\"112\" width=\"32\" height=\"32\" stroke=\"black\" fill=\"black\"/>\n",
       "<text dominant-baseline=\"central\" text-anchor=\"middle\" font-family=\"monospace\" font-size=\"30\" x=\"224\" y=\"128\" fill=\"white\">M</text>\n",
       "<text text-anchor=\"middle\" font-family=\"monospace\" font-size=\"8\" x=\"224\" y=\"108\">rec[1]</text>\n",
       "</svg>"
      ],
      "text/plain": [
       "<svg viewBox=\"0 0 288 224\"  version=\"1.1\" xmlns=\"http://www.w3.org/2000/svg\">\n",
       "<g id=\"qubit_lines\">\n",
       "<path id=\"qubit_line:0\" d=\"M64,64 L256,64 \" stroke=\"black\"/>\n",
       "<text dominant-baseline=\"central\" text-anchor=\"end\" font-family=\"monospace\" font-size=\"12\" x=\"64\" y=\"64\">q0</text>\n",
       "<path id=\"qubit_line:1\" d=\"M64,128 L256,128 \" stroke=\"black\"/>\n",
       "<text dominant-baseline=\"central\" text-anchor=\"end\" font-family=\"monospace\" font-size=\"12\" x=\"64\" y=\"128\">q1</text>\n",
       "</g>\n",
       "<rect x=\"80\" y=\"48\" width=\"32\" height=\"32\" stroke=\"black\" fill=\"white\"/>\n",
       "<text dominant-baseline=\"central\" text-anchor=\"middle\" font-family=\"monospace\" font-size=\"30\" x=\"96\" y=\"64\">H</text>\n",
       "<path d=\"M160,64 L160,128 \" stroke=\"black\"/>\n",
       "<circle cx=\"160\" cy=\"64\" r=\"12\" stroke=\"none\" fill=\"black\"/>\n",
       "<circle cx=\"160\" cy=\"128\" r=\"12\" stroke=\"black\" fill=\"white\"/>\n",
       "<path d=\"M148,128 L172,128 M160,116 L160,140 \" stroke=\"black\"/>\n",
       "<rect x=\"208\" y=\"48\" width=\"32\" height=\"32\" stroke=\"black\" fill=\"black\"/>\n",
       "<text dominant-baseline=\"central\" text-anchor=\"middle\" font-family=\"monospace\" font-size=\"30\" x=\"224\" y=\"64\" fill=\"white\">M</text>\n",
       "<text text-anchor=\"middle\" font-family=\"monospace\" font-size=\"8\" x=\"224\" y=\"44\">rec[0]</text>\n",
       "<rect x=\"208\" y=\"112\" width=\"32\" height=\"32\" stroke=\"black\" fill=\"black\"/>\n",
       "<text dominant-baseline=\"central\" text-anchor=\"middle\" font-family=\"monospace\" font-size=\"30\" x=\"224\" y=\"128\" fill=\"white\">M</text>\n",
       "<text text-anchor=\"middle\" font-family=\"monospace\" font-size=\"8\" x=\"224\" y=\"108\">rec[1]</text>\n",
       "</svg>"
      ]
     },
     "execution_count": 6,
     "metadata": {},
     "output_type": "execute_result"
    }
   ],
   "source": [
    "circuit.diagram('timeline-svg')"
   ]
  },
  {
   "cell_type": "markdown",
   "metadata": {
    "id": "5dRl_-WZHDP2"
   },
   "source": [
    "Anyways, let's stop looking at your circuit and start using it. You can sample from the circuit by using the [`circuit.compile_sampler()`](https://github.com/quantumlib/Stim/blob/main/doc/python_api_reference_vDev.md#stim.Circuit.compile_sampler) method を使うことでサンプリングしてみよう。"
   ]
  },
  {
   "cell_type": "code",
   "execution_count": 7,
   "metadata": {
    "colab": {
     "base_uri": "https://localhost:8080/"
    },
    "executionInfo": {
     "elapsed": 3,
     "status": "ok",
     "timestamp": 1749668415882,
     "user": {
      "displayName": "西尾真",
      "userId": "00115546110162814399"
     },
     "user_tz": -60
    },
    "id": "sJVtzniUHL1X",
    "outputId": "5a2e5df4-9ccf-4325-8246-02022f889427"
   },
   "outputs": [
    {
     "name": "stdout",
     "output_type": "stream",
     "text": [
      "[[False False]\n",
      " [False False]\n",
      " [ True  True]\n",
      " [ True  True]\n",
      " [ True  True]\n",
      " [False False]\n",
      " [False False]\n",
      " [False False]\n",
      " [ True  True]\n",
      " [False False]]\n"
     ]
    }
   ],
   "source": [
    "sampler = circuit.compile_sampler()\n",
    "print(sampler.sample(shots=10))"
   ]
  },
  {
   "cell_type": "markdown",
   "metadata": {
    "id": "D5KUSysIJB5g"
   },
   "source": [
    "1行につき2つの結果があり、各量子ビットの測定結果に対応している。\n",
    "各行はショットに対応しており、Bell状態を測定しているので行内では結果は一致していることが確かめられる。"
   ]
  },
  {
   "cell_type": "markdown",
   "metadata": {
    "id": "zX7ZyHVAHfF_"
   },
   "source": [
    "<!-- <a class=\"anchor\" id=\"sample-detectors\"></a>\n",
    "# 4. Add detector annotations to a circuit, and sample them\n",
    "\n",
    "Stim circuits can include error-correction annotations.\n",
    "In particular, you can annotate that certain sets of measurements can be used to detect errors.\n",
    "For example, in the circuit you created above, the two measurement results should always be equal.\n",
    "You can tell Stim you care about that by adding a `DETECTOR` annotation to the circuit.\n",
    "\n",
    "The `DETECTOR` annotation will take two targets: the two measurements whose parity you are asserting should be consistent from run to run. You point at the measurements by using the [`stim.target_rec`](https://github.com/quantumlib/Stim/blob/main/doc/python_api_reference_vDev.md#stim.target_rec) method (short for \"target measurement record\"). The most recent measurement is `stim.target_rec(-1)` (also known as `rec[-1]` in Stim's circuit language), and the second most recent measurement is `stim.target_rec(-2)`: -->\n",
    "\n",
    "\n",
    "<a class=\"anchor\" id=\"sample-detectors\"></a>.\n",
    "# 回路に検出器`Detector`のアノテーションを追加し、サンプリングする\n",
    "\n",
    "Stim回路は誤り訂正用の測定を含むことができます。\n",
    "例えば、上で作成した回路では、2つの測定結果は常に等しくなければなりません。\n",
    "回路に `DETECTOR` を追加することで、チェックしたいことを Stim に渡すことができます。\n",
    "\n",
    "DETECTOR`は2つのターゲットを取ります。実行ごとにパリティが一貫していることを保証する2つの測定値です。[`stim.target_rec`](https://github.com/quantumlib/Stim/blob/main/doc/python_api_reference_vDev.md#stim.target_rec) メソッド(\"target measurement record \"の略)を使用して測定値を指定します。最も新しい測定値は `stim.target_rec(-1)` (Stim の回路言語では `rec[-1]` とも呼ばれる)、2番目に新しい測定値は `stim.target_rec(-2)` で呼ぶことができます。"
   ]
  },
  {
   "cell_type": "code",
   "execution_count": 8,
   "metadata": {
    "colab": {
     "base_uri": "https://localhost:8080/"
    },
    "executionInfo": {
     "elapsed": 3,
     "status": "ok",
     "timestamp": 1749668415885,
     "user": {
      "displayName": "西尾真",
      "userId": "00115546110162814399"
     },
     "user_tz": -60
    },
    "id": "GxViFukZIVI4",
    "outputId": "dd4b8b1f-a408-493c-e29c-78a31b73912d"
   },
   "outputs": [
    {
     "name": "stdout",
     "output_type": "stream",
     "text": [
      "stim.Circuit('''\n",
      "    H 0\n",
      "    CX 0 1\n",
      "    M 0 1\n",
      "    DETECTOR rec[-1] rec[-2]\n",
      "''')\n"
     ]
    }
   ],
   "source": [
    "# Indicate the two previous measurements are supposed to consistently agree.\n",
    "circuit.append(\"DETECTOR\", [stim.target_rec(-1), stim.target_rec(-2)])\n",
    "print(repr(circuit))"
   ]
  },
  {
   "cell_type": "markdown",
   "metadata": {
    "id": "tEz4G3OjI164"
   },
   "source": [
    "検出器について注意すべきことは、検出器はノイズのない実行のもとで、測定値のパリティが常に同じであることを主張するだけだということです。検出器は、パリティが偶数であるべきか奇数であるべきかを言うのではなく、常に同じであるべきであることだけを示します。\n",
    "測定値のペアが常に異なることを注釈するのは、測定値のペアが常に同じであることを注釈するのと同じです。\n",
    "\n",
    "回路に検出器のアノテーションを付けたので、回路の測定値からサンプリングする代わりに、回路の検出器からサンプリングできます。\n",
    "そのためには、[`compile_detector_sampler`](https://github.com/quantumlib/Stim/blob/main/doc/python_api_reference_vDev.md#stim.Circuit.compile_detector_sampler)メソッドを使用して検出器サンプラーを作成し、それに対して[`sample`](https://github.com/quantumlib/Stim/blob/main/doc/python_api_reference_vDev.md#stim.CompiledDetectorSampler.sample)を呼び出します。"
   ]
  },
  {
   "cell_type": "code",
   "execution_count": 9,
   "metadata": {
    "colab": {
     "base_uri": "https://localhost:8080/"
    },
    "executionInfo": {
     "elapsed": 59,
     "status": "ok",
     "timestamp": 1749668415950,
     "user": {
      "displayName": "西尾真",
      "userId": "00115546110162814399"
     },
     "user_tz": -60
    },
    "id": "PkSoSb65JWsx",
    "outputId": "53f91d83-e846-427e-b57a-a7100cc5e1c6"
   },
   "outputs": [
    {
     "name": "stdout",
     "output_type": "stream",
     "text": [
      "[[False]\n",
      " [False]\n",
      " [False]\n",
      " [False]\n",
      " [False]]\n"
     ]
    }
   ],
   "source": [
    "sampler = circuit.compile_detector_sampler()\n",
    "print(sampler.sample(shots=5))"
   ]
  },
  {
   "cell_type": "markdown",
   "metadata": {
    "id": "kCby-NA4Jevl"
   },
   "source": [
    "<!-- There are 5 rows in the results, because you took 5 shots.\n",
    "There's one entry per row, because you put one detector in the circuit.\n",
    "\n",
    "Notice how the results are always `False`.\n",
    "This means the detector is never producing a detection event.\n",
    "That's because there's no noise in the circuit; nothing to disturb the peace and quiet of a perfectly working machine.\n",
    "Well... time to fix that!\n",
    "\n",
    "Stim has a variety of error channels to pick from, like single qubit depolarization (`DEPOLARIZE1`) and phase damping (`Z_ERROR`), but in this context a good error to try is `X_ERROR`.\n",
    "The `X_ERROR` noise channel probabilistically applies a bit flip (a Pauli X error) to each of its targets.\n",
    "Note that each target is operated on independently.\n",
    "They don't all flip together with the given probability, each one flips individually with the given probability.\n",
    "\n",
    "You can recreate the circuit, with the noise inserted, by using Stim's domain specific language for circuits. While you're at it, throw in some `TICK` instructions to indicate the progression of time: -->\n",
    "\n",
    "結果には5つの行があります。\n",
    "1つの行に1つの項目があるのは、回路に1つの検出器を入れたからです。\n",
    "\n",
    "結果が常に`False`であることに注意してください。\n",
    "これは検出器が検出イベントを生成していないことを意味します。\n",
    "これは回路内にノイズがないためで、完全に動作しているマシンの平穏と静寂を妨げるものは何もありません。\n",
    "さて...誤りを入れてみましょう！\n",
    "\n",
    "Stimには単一量子ビットの脱分極（`DEPOLARIZE1`）や位相減衰（`Z_ERROR`）のような様々なエラーチャンネルがありますが、`X_ERROR`を試してみましょう。\n",
    "X_ERROR`ノイズ・チャンネルは確率的にビット・フリップ（パウリXエラー）を各ターゲットに適用するノイズ通信路です。\n",
    "各ターゲットは独立して処理されることに注意してください。与えられた確率で一斉にフリップするのではなく、それぞれが与えられた確率で個別にフリップします。\n",
    "\n",
    "Stimの回路用ドメイン固有言語を使えば、ノイズを挿入した回路を再現できます。ついでに、時間の経過を示す`TICK`命令も入れてみます："
   ]
  },
  {
   "cell_type": "code",
   "execution_count": 10,
   "metadata": {
    "executionInfo": {
     "elapsed": 6,
     "status": "ok",
     "timestamp": 1749668415950,
     "user": {
      "displayName": "西尾真",
      "userId": "00115546110162814399"
     },
     "user_tz": -60
    },
    "id": "HniubUFXJ9jh"
   },
   "outputs": [],
   "source": [
    "circuit = stim.Circuit(\"\"\"\n",
    "    H 0\n",
    "    TICK\n",
    "\n",
    "    CX 0 1\n",
    "    X_ERROR(0.2) 0 1\n",
    "    TICK\n",
    "\n",
    "    M 0 1\n",
    "    DETECTOR rec[-1] rec[-2]\n",
    "\"\"\")"
   ]
  },
  {
   "cell_type": "markdown",
   "metadata": {
    "id": "U7_2QfyiKSBL"
   },
   "source": [
    "`TICK`命令を入れたことで、新しい画像形式`timeslice-svg`を使用可能になります。QiksitのBarrier命令のようなものだと考えれば良いです。"
   ]
  },
  {
   "cell_type": "code",
   "execution_count": 11,
   "metadata": {
    "colab": {
     "base_uri": "https://localhost:8080/",
     "height": 1000
    },
    "executionInfo": {
     "elapsed": 6,
     "status": "ok",
     "timestamp": 1749668415951,
     "user": {
      "displayName": "西尾真",
      "userId": "00115546110162814399"
     },
     "user_tz": -60
    },
    "id": "1jOOCijd-qOR",
    "outputId": "6b66076b-7963-401a-d09f-b545ecb6b511"
   },
   "outputs": [
    {
     "data": {
      "image/svg+xml": [
       "<svg viewBox=\"0 0 470.4 336\"  version=\"1.1\" xmlns=\"http://www.w3.org/2000/svg\">\n",
       "<g id=\"qubit_dots\">\n",
       "<circle id=\"qubit_dot:0:0\" cx=\"80\" cy=\"80\" r=\"2\" stroke=\"none\" fill=\"black\"/>\n",
       "<circle id=\"qubit_dot:1:0\" cx=\"144\" cy=\"80\" r=\"2\" stroke=\"none\" fill=\"black\"/>\n",
       "<circle id=\"qubit_dot:0:0\" cx=\"80\" cy=\"256\" r=\"2\" stroke=\"none\" fill=\"black\"/>\n",
       "<circle id=\"qubit_dot:1:0\" cx=\"144\" cy=\"256\" r=\"2\" stroke=\"none\" fill=\"black\"/>\n",
       "<circle id=\"qubit_dot:0:1\" cx=\"326.4\" cy=\"80\" r=\"2\" stroke=\"none\" fill=\"black\"/>\n",
       "<circle id=\"qubit_dot:1:1\" cx=\"390.4\" cy=\"80\" r=\"2\" stroke=\"none\" fill=\"black\"/>\n",
       "</g>\n",
       "<rect x=\"64\" y=\"64\" width=\"32\" height=\"32\" stroke=\"black\" fill=\"white\"/>\n",
       "<text dominant-baseline=\"central\" text-anchor=\"middle\" font-family=\"monospace\" font-size=\"30\" x=\"80\" y=\"80\">H</text>\n",
       "<path d=\"M326.4,80 L390.4,80 \" fill=\"none\" stroke=\"black\" stroke-width=\"5\"/>\n",
       "<circle cx=\"326.4\" cy=\"80\" r=\"12\" stroke=\"none\" fill=\"black\"/>\n",
       "<circle cx=\"390.4\" cy=\"80\" r=\"12\" stroke=\"black\" fill=\"white\"/>\n",
       "<path d=\"M378.4,80 L402.4,80 M390.4,68 L390.4,92 \" stroke=\"black\"/>\n",
       "<rect x=\"324.4\" y=\"80\" width=\"32\" height=\"32\" stroke=\"black\" fill=\"pink\"/>\n",
       "<text dominant-baseline=\"central\" text-anchor=\"middle\" font-family=\"monospace\" font-size=\"12\" x=\"340.4\" y=\"96\">ERR<tspan baseline-shift=\"sub\" font-size=\"10\">X</tspan></text>\n",
       "<text dominant-baseline=\"hanging\" text-anchor=\"middle\" font-family=\"monospace\" font-size=\"10\" stroke=\"red\" x=\"340.4\" y=\"116\">0.2</text>\n",
       "<rect x=\"388.4\" y=\"80\" width=\"32\" height=\"32\" stroke=\"black\" fill=\"pink\"/>\n",
       "<text dominant-baseline=\"central\" text-anchor=\"middle\" font-family=\"monospace\" font-size=\"12\" x=\"404.4\" y=\"96\">ERR<tspan baseline-shift=\"sub\" font-size=\"10\">X</tspan></text>\n",
       "<text dominant-baseline=\"hanging\" text-anchor=\"middle\" font-family=\"monospace\" font-size=\"10\" stroke=\"red\" x=\"404.4\" y=\"116\">0.2</text>\n",
       "<rect x=\"64\" y=\"240\" width=\"32\" height=\"32\" stroke=\"black\" fill=\"black\"/>\n",
       "<text dominant-baseline=\"central\" text-anchor=\"middle\" font-family=\"monospace\" font-size=\"30\" x=\"80\" y=\"256\" fill=\"white\">M</text>\n",
       "<rect x=\"128\" y=\"240\" width=\"32\" height=\"32\" stroke=\"black\" fill=\"black\"/>\n",
       "<text dominant-baseline=\"central\" text-anchor=\"middle\" font-family=\"monospace\" font-size=\"30\" x=\"144\" y=\"256\" fill=\"white\">M</text>\n",
       "<g id=\"tick_borders\">\n",
       "<text dominant-baseline=\"hanging\" text-anchor=\"middle\" font-family=\"serif\" font-size=\"18\" transform=\"rotate(90)\" x=\"80\" y=\"-218\">Tick 0</text>\n",
       "<rect id=\"tick_border:0:0_0:0\" x=\"0\" y=\"0\" width=\"224\" height=\"160\" stroke=\"black\" fill=\"none\"/>\n",
       "<text dominant-baseline=\"hanging\" text-anchor=\"middle\" font-family=\"serif\" font-size=\"18\" transform=\"rotate(90)\" x=\"80\" y=\"-464.4\">Tick 1</text>\n",
       "<rect id=\"tick_border:1:0_1:1\" x=\"246.4\" y=\"0\" width=\"224\" height=\"160\" stroke=\"black\" fill=\"none\"/>\n",
       "<text dominant-baseline=\"hanging\" text-anchor=\"middle\" font-family=\"serif\" font-size=\"18\" transform=\"rotate(90)\" x=\"256\" y=\"-218\">Tick 2</text>\n",
       "<rect id=\"tick_border:2:1_0:2\" x=\"0\" y=\"176\" width=\"224\" height=\"160\" stroke=\"black\" fill=\"none\"/>\n",
       "</g>\n",
       "</svg>"
      ],
      "text/plain": [
       "<svg viewBox=\"0 0 470.4 336\"  version=\"1.1\" xmlns=\"http://www.w3.org/2000/svg\">\n",
       "<g id=\"qubit_dots\">\n",
       "<circle id=\"qubit_dot:0:0\" cx=\"80\" cy=\"80\" r=\"2\" stroke=\"none\" fill=\"black\"/>\n",
       "<circle id=\"qubit_dot:1:0\" cx=\"144\" cy=\"80\" r=\"2\" stroke=\"none\" fill=\"black\"/>\n",
       "<circle id=\"qubit_dot:0:0\" cx=\"80\" cy=\"256\" r=\"2\" stroke=\"none\" fill=\"black\"/>\n",
       "<circle id=\"qubit_dot:1:0\" cx=\"144\" cy=\"256\" r=\"2\" stroke=\"none\" fill=\"black\"/>\n",
       "<circle id=\"qubit_dot:0:1\" cx=\"326.4\" cy=\"80\" r=\"2\" stroke=\"none\" fill=\"black\"/>\n",
       "<circle id=\"qubit_dot:1:1\" cx=\"390.4\" cy=\"80\" r=\"2\" stroke=\"none\" fill=\"black\"/>\n",
       "</g>\n",
       "<rect x=\"64\" y=\"64\" width=\"32\" height=\"32\" stroke=\"black\" fill=\"white\"/>\n",
       "<text dominant-baseline=\"central\" text-anchor=\"middle\" font-family=\"monospace\" font-size=\"30\" x=\"80\" y=\"80\">H</text>\n",
       "<path d=\"M326.4,80 L390.4,80 \" fill=\"none\" stroke=\"black\" stroke-width=\"5\"/>\n",
       "<circle cx=\"326.4\" cy=\"80\" r=\"12\" stroke=\"none\" fill=\"black\"/>\n",
       "<circle cx=\"390.4\" cy=\"80\" r=\"12\" stroke=\"black\" fill=\"white\"/>\n",
       "<path d=\"M378.4,80 L402.4,80 M390.4,68 L390.4,92 \" stroke=\"black\"/>\n",
       "<rect x=\"324.4\" y=\"80\" width=\"32\" height=\"32\" stroke=\"black\" fill=\"pink\"/>\n",
       "<text dominant-baseline=\"central\" text-anchor=\"middle\" font-family=\"monospace\" font-size=\"12\" x=\"340.4\" y=\"96\">ERR<tspan baseline-shift=\"sub\" font-size=\"10\">X</tspan></text>\n",
       "<text dominant-baseline=\"hanging\" text-anchor=\"middle\" font-family=\"monospace\" font-size=\"10\" stroke=\"red\" x=\"340.4\" y=\"116\">0.2</text>\n",
       "<rect x=\"388.4\" y=\"80\" width=\"32\" height=\"32\" stroke=\"black\" fill=\"pink\"/>\n",
       "<text dominant-baseline=\"central\" text-anchor=\"middle\" font-family=\"monospace\" font-size=\"12\" x=\"404.4\" y=\"96\">ERR<tspan baseline-shift=\"sub\" font-size=\"10\">X</tspan></text>\n",
       "<text dominant-baseline=\"hanging\" text-anchor=\"middle\" font-family=\"monospace\" font-size=\"10\" stroke=\"red\" x=\"404.4\" y=\"116\">0.2</text>\n",
       "<rect x=\"64\" y=\"240\" width=\"32\" height=\"32\" stroke=\"black\" fill=\"black\"/>\n",
       "<text dominant-baseline=\"central\" text-anchor=\"middle\" font-family=\"monospace\" font-size=\"30\" x=\"80\" y=\"256\" fill=\"white\">M</text>\n",
       "<rect x=\"128\" y=\"240\" width=\"32\" height=\"32\" stroke=\"black\" fill=\"black\"/>\n",
       "<text dominant-baseline=\"central\" text-anchor=\"middle\" font-family=\"monospace\" font-size=\"30\" x=\"144\" y=\"256\" fill=\"white\">M</text>\n",
       "<g id=\"tick_borders\">\n",
       "<text dominant-baseline=\"hanging\" text-anchor=\"middle\" font-family=\"serif\" font-size=\"18\" transform=\"rotate(90)\" x=\"80\" y=\"-218\">Tick 0</text>\n",
       "<rect id=\"tick_border:0:0_0:0\" x=\"0\" y=\"0\" width=\"224\" height=\"160\" stroke=\"black\" fill=\"none\"/>\n",
       "<text dominant-baseline=\"hanging\" text-anchor=\"middle\" font-family=\"serif\" font-size=\"18\" transform=\"rotate(90)\" x=\"80\" y=\"-464.4\">Tick 1</text>\n",
       "<rect id=\"tick_border:1:0_1:1\" x=\"246.4\" y=\"0\" width=\"224\" height=\"160\" stroke=\"black\" fill=\"none\"/>\n",
       "<text dominant-baseline=\"hanging\" text-anchor=\"middle\" font-family=\"serif\" font-size=\"18\" transform=\"rotate(90)\" x=\"256\" y=\"-218\">Tick 2</text>\n",
       "<rect id=\"tick_border:2:1_0:2\" x=\"0\" y=\"176\" width=\"224\" height=\"160\" stroke=\"black\" fill=\"none\"/>\n",
       "</g>\n",
       "</svg>"
      ]
     },
     "execution_count": 11,
     "metadata": {},
     "output_type": "execute_result"
    }
   ],
   "source": [
    "circuit.diagram('timeslice-svg')"
   ]
  },
  {
   "cell_type": "markdown",
   "metadata": {
    "id": "7lBUrusk-qOR"
   },
   "source": [
    "ノイズを追加したことでサンプリングの結果がどう変わったかみてみましょう。"
   ]
  },
  {
   "cell_type": "code",
   "execution_count": 12,
   "metadata": {
    "colab": {
     "base_uri": "https://localhost:8080/"
    },
    "executionInfo": {
     "elapsed": 5,
     "status": "ok",
     "timestamp": 1749668415951,
     "user": {
      "displayName": "西尾真",
      "userId": "00115546110162814399"
     },
     "user_tz": -60
    },
    "id": "nfbwr9d-KWL4",
    "outputId": "13ebf59c-b3ab-421f-906e-815b6302f8e1"
   },
   "outputs": [
    {
     "name": "stdout",
     "output_type": "stream",
     "text": [
      "[[False]\n",
      " [ True]\n",
      " [False]\n",
      " [False]\n",
      " [False]\n",
      " [False]\n",
      " [False]\n",
      " [ True]\n",
      " [False]\n",
      " [False]]\n"
     ]
    }
   ],
   "source": [
    "sampler = circuit.compile_detector_sampler()\n",
    "print(sampler.sample(shots=10))"
   ]
  },
  {
   "cell_type": "markdown",
   "metadata": {
    "id": "AreMncCeKb1x"
   },
   "source": [
    "先ほどと違って毎回 `False`になりませんね。\n",
    "回路の*検出率*とは、平均してどれくらいの頻度で検出器が動作するかということです。\n",
    "それぞれの量子ビットに20%の確率でXの誤差がかかり、どちらか一方に当たると（両方には当たらない）検出器が作動すると考えると、この回路の検出器の検出率は$0.8 \\cdot 0.2 \\cdot 2 = 0.32$.となります。\n",
    "\n",
    "この検出器の検出率は、たくさんShot数を回して、Shot数と検出器の数で割れば導出できます。"
   ]
  },
  {
   "cell_type": "code",
   "execution_count": 13,
   "metadata": {
    "colab": {
     "base_uri": "https://localhost:8080/"
    },
    "executionInfo": {
     "elapsed": 103,
     "status": "ok",
     "timestamp": 1749668416052,
     "user": {
      "displayName": "西尾真",
      "userId": "00115546110162814399"
     },
     "user_tz": -60
    },
    "id": "6NqbK11eKlP1",
    "outputId": "f8e01526-500f-4e14-9652-97299586a358"
   },
   "outputs": [
    {
     "name": "stdout",
     "output_type": "stream",
     "text": [
      "0.320646\n"
     ]
    }
   ],
   "source": [
    "import numpy as np\n",
    "print(np.sum(sampler.sample(shots=10**6)) / 10**6)"
   ]
  },
  {
   "cell_type": "markdown",
   "metadata": {
    "id": "RKM6PLk8Tl13"
   },
   "source": [
    "<!-- As you can see, the sampled estimate ends up close to the expected value $0.32$. -->\n",
    "見ての通り、サンプリングされた推定値は期待値$0.32$に近い値になっています。"
   ]
  },
  {
   "cell_type": "markdown",
   "metadata": {
    "id": "fG2jQsH2LZQP"
   },
   "source": [
    "# 誤り訂正回路の例を生成する\n",
    "\n",
    "さて、そろそろ*実際の*誤り訂正回路を使って作業する時間です。\n",
    "古典的なエラー訂正回路です：*繰り返し*符号を試してみましょう。\n",
    "\n",
    "自分で繰り返しコード回路を生成することもできますが、このチュートリアルでは、Stimに含まれているサンプルを使うのが一番簡単です。\n",
    "そのためには、[`stim.Circuit.generated`](https://github.com/quantumlib/Stim/blob/main/doc/python_api_reference_vDev.md#stim.Circuit.generated) に `\"repetition_code:memory\"` という引数を指定して呼び出します。\n",
    "(他の有効な引数については、メソッドのドキュメント文字列で知ることができますし、単に悪い引数を渡して、出てくる例外メッセージを見てください)。\n",
    "\n",
    "Stimは回路を生成するときにいくつかの異なるパラメータを取ります。\n",
    "`rounds`を指定してコードのスタビライザーを何回測定するかを決めたり、`distance`を指定して符号のサイズを決めたり、いくつかのオプションのパラメーターを使ってどんなノイズを含めるかを指定したりできます。\n",
    "\n",
    "まず、`before_round_data_depolarization=0.04`と`before_measure_flip_probability=0.01`を設定する。これにより、各ラウンドの開始時にすべてのデータ量子ビットを対象とした `DEPOLARIZE1(0.04)` オペレーションが挿入され、各測定オペレーションの直前に `X_ERROR(0.01)` オペレーションが挿入されます。\n",
    "これは \"現象論的ノイズモデル \"です。\n"
   ]
  },
  {
   "cell_type": "code",
   "execution_count": 14,
   "metadata": {
    "colab": {
     "base_uri": "https://localhost:8080/",
     "height": 1000
    },
    "executionInfo": {
     "elapsed": 157,
     "status": "ok",
     "timestamp": 1749668416210,
     "user": {
      "displayName": "西尾真",
      "userId": "00115546110162814399"
     },
     "user_tz": -60
    },
    "id": "ku1-_JnuLzVR",
    "outputId": "91eca21f-ec60-41ea-d147-bb3c6c9690de"
   },
   "outputs": [
    {
     "name": "stdout",
     "output_type": "stream",
     "text": [
      "stim.Circuit('''\n",
      "    R 0 1 2 3 4 5 6 7 8 9 10 11 12 13 14 15 16\n",
      "    TICK\n",
      "    DEPOLARIZE1(0.04) 0 2 4 6 8 10 12 14 16\n",
      "    CX 0 1 2 3 4 5 6 7 8 9 10 11 12 13 14 15\n",
      "    TICK\n",
      "    CX 2 1 4 3 6 5 8 7 10 9 12 11 14 13 16 15\n",
      "    TICK\n",
      "    X_ERROR(0.01) 1 3 5 7 9 11 13 15\n",
      "    MR 1 3 5 7 9 11 13 15\n",
      "    DETECTOR(1, 0) rec[-8]\n",
      "    DETECTOR(3, 0) rec[-7]\n",
      "    DETECTOR(5, 0) rec[-6]\n",
      "    DETECTOR(7, 0) rec[-5]\n",
      "    DETECTOR(9, 0) rec[-4]\n",
      "    DETECTOR(11, 0) rec[-3]\n",
      "    DETECTOR(13, 0) rec[-2]\n",
      "    DETECTOR(15, 0) rec[-1]\n",
      "    REPEAT 24 {\n",
      "        TICK\n",
      "        DEPOLARIZE1(0.04) 0 2 4 6 8 10 12 14 16\n",
      "        CX 0 1 2 3 4 5 6 7 8 9 10 11 12 13 14 15\n",
      "        TICK\n",
      "        CX 2 1 4 3 6 5 8 7 10 9 12 11 14 13 16 15\n",
      "        TICK\n",
      "        X_ERROR(0.01) 1 3 5 7 9 11 13 15\n",
      "        MR 1 3 5 7 9 11 13 15\n",
      "        SHIFT_COORDS(0, 1)\n",
      "        DETECTOR(1, 0) rec[-8] rec[-16]\n",
      "        DETECTOR(3, 0) rec[-7] rec[-15]\n",
      "        DETECTOR(5, 0) rec[-6] rec[-14]\n",
      "        DETECTOR(7, 0) rec[-5] rec[-13]\n",
      "        DETECTOR(9, 0) rec[-4] rec[-12]\n",
      "        DETECTOR(11, 0) rec[-3] rec[-11]\n",
      "        DETECTOR(13, 0) rec[-2] rec[-10]\n",
      "        DETECTOR(15, 0) rec[-1] rec[-9]\n",
      "    }\n",
      "    X_ERROR(0.01) 0 2 4 6 8 10 12 14 16\n",
      "    M 0 2 4 6 8 10 12 14 16\n",
      "    DETECTOR(1, 1) rec[-8] rec[-9] rec[-17]\n",
      "    DETECTOR(3, 1) rec[-7] rec[-8] rec[-16]\n",
      "    DETECTOR(5, 1) rec[-6] rec[-7] rec[-15]\n",
      "    DETECTOR(7, 1) rec[-5] rec[-6] rec[-14]\n",
      "    DETECTOR(9, 1) rec[-4] rec[-5] rec[-13]\n",
      "    DETECTOR(11, 1) rec[-3] rec[-4] rec[-12]\n",
      "    DETECTOR(13, 1) rec[-2] rec[-3] rec[-11]\n",
      "    DETECTOR(15, 1) rec[-1] rec[-2] rec[-10]\n",
      "    OBSERVABLE_INCLUDE(0) rec[-1]\n",
      "''')\n"
     ]
    },
    {
     "data": {
      "image/svg+xml": [
       "<svg viewBox=\"0 0 1888 1184\"  version=\"1.1\" xmlns=\"http://www.w3.org/2000/svg\">\n",
       "<g id=\"qubit_lines\">\n",
       "<path id=\"qubit_line:0\" d=\"M64,64 L1856,64 \" stroke=\"black\"/>\n",
       "<text dominant-baseline=\"central\" text-anchor=\"end\" font-family=\"monospace\" font-size=\"12\" x=\"64\" y=\"64\">q0</text>\n",
       "<path id=\"qubit_line:1\" d=\"M64,128 L1856,128 \" stroke=\"black\"/>\n",
       "<text dominant-baseline=\"central\" text-anchor=\"end\" font-family=\"monospace\" font-size=\"12\" x=\"64\" y=\"128\">q1</text>\n",
       "<path id=\"qubit_line:2\" d=\"M64,192 L1856,192 \" stroke=\"black\"/>\n",
       "<text dominant-baseline=\"central\" text-anchor=\"end\" font-family=\"monospace\" font-size=\"12\" x=\"64\" y=\"192\">q2</text>\n",
       "<path id=\"qubit_line:3\" d=\"M64,256 L1856,256 \" stroke=\"black\"/>\n",
       "<text dominant-baseline=\"central\" text-anchor=\"end\" font-family=\"monospace\" font-size=\"12\" x=\"64\" y=\"256\">q3</text>\n",
       "<path id=\"qubit_line:4\" d=\"M64,320 L1856,320 \" stroke=\"black\"/>\n",
       "<text dominant-baseline=\"central\" text-anchor=\"end\" font-family=\"monospace\" font-size=\"12\" x=\"64\" y=\"320\">q4</text>\n",
       "<path id=\"qubit_line:5\" d=\"M64,384 L1856,384 \" stroke=\"black\"/>\n",
       "<text dominant-baseline=\"central\" text-anchor=\"end\" font-family=\"monospace\" font-size=\"12\" x=\"64\" y=\"384\">q5</text>\n",
       "<path id=\"qubit_line:6\" d=\"M64,448 L1856,448 \" stroke=\"black\"/>\n",
       "<text dominant-baseline=\"central\" text-anchor=\"end\" font-family=\"monospace\" font-size=\"12\" x=\"64\" y=\"448\">q6</text>\n",
       "<path id=\"qubit_line:7\" d=\"M64,512 L1856,512 \" stroke=\"black\"/>\n",
       "<text dominant-baseline=\"central\" text-anchor=\"end\" font-family=\"monospace\" font-size=\"12\" x=\"64\" y=\"512\">q7</text>\n",
       "<path id=\"qubit_line:8\" d=\"M64,576 L1856,576 \" stroke=\"black\"/>\n",
       "<text dominant-baseline=\"central\" text-anchor=\"end\" font-family=\"monospace\" font-size=\"12\" x=\"64\" y=\"576\">q8</text>\n",
       "<path id=\"qubit_line:9\" d=\"M64,640 L1856,640 \" stroke=\"black\"/>\n",
       "<text dominant-baseline=\"central\" text-anchor=\"end\" font-family=\"monospace\" font-size=\"12\" x=\"64\" y=\"640\">q9</text>\n",
       "<path id=\"qubit_line:10\" d=\"M64,704 L1856,704 \" stroke=\"black\"/>\n",
       "<text dominant-baseline=\"central\" text-anchor=\"end\" font-family=\"monospace\" font-size=\"12\" x=\"64\" y=\"704\">q10</text>\n",
       "<path id=\"qubit_line:11\" d=\"M64,768 L1856,768 \" stroke=\"black\"/>\n",
       "<text dominant-baseline=\"central\" text-anchor=\"end\" font-family=\"monospace\" font-size=\"12\" x=\"64\" y=\"768\">q11</text>\n",
       "<path id=\"qubit_line:12\" d=\"M64,832 L1856,832 \" stroke=\"black\"/>\n",
       "<text dominant-baseline=\"central\" text-anchor=\"end\" font-family=\"monospace\" font-size=\"12\" x=\"64\" y=\"832\">q12</text>\n",
       "<path id=\"qubit_line:13\" d=\"M64,896 L1856,896 \" stroke=\"black\"/>\n",
       "<text dominant-baseline=\"central\" text-anchor=\"end\" font-family=\"monospace\" font-size=\"12\" x=\"64\" y=\"896\">q13</text>\n",
       "<path id=\"qubit_line:14\" d=\"M64,960 L1856,960 \" stroke=\"black\"/>\n",
       "<text dominant-baseline=\"central\" text-anchor=\"end\" font-family=\"monospace\" font-size=\"12\" x=\"64\" y=\"960\">q14</text>\n",
       "<path id=\"qubit_line:15\" d=\"M64,1024 L1856,1024 \" stroke=\"black\"/>\n",
       "<text dominant-baseline=\"central\" text-anchor=\"end\" font-family=\"monospace\" font-size=\"12\" x=\"64\" y=\"1024\">q15</text>\n",
       "<path id=\"qubit_line:16\" d=\"M64,1088 L1856,1088 \" stroke=\"black\"/>\n",
       "<text dominant-baseline=\"central\" text-anchor=\"end\" font-family=\"monospace\" font-size=\"12\" x=\"64\" y=\"1088\">q16</text>\n",
       "</g>\n",
       "<rect x=\"80\" y=\"48\" width=\"32\" height=\"32\" stroke=\"black\" fill=\"black\"/>\n",
       "<text dominant-baseline=\"central\" text-anchor=\"middle\" font-family=\"monospace\" font-size=\"30\" x=\"96\" y=\"64\" fill=\"white\">R</text>\n",
       "<rect x=\"80\" y=\"112\" width=\"32\" height=\"32\" stroke=\"black\" fill=\"black\"/>\n",
       "<text dominant-baseline=\"central\" text-anchor=\"middle\" font-family=\"monospace\" font-size=\"30\" x=\"96\" y=\"128\" fill=\"white\">R</text>\n",
       "<rect x=\"80\" y=\"176\" width=\"32\" height=\"32\" stroke=\"black\" fill=\"black\"/>\n",
       "<text dominant-baseline=\"central\" text-anchor=\"middle\" font-family=\"monospace\" font-size=\"30\" x=\"96\" y=\"192\" fill=\"white\">R</text>\n",
       "<rect x=\"80\" y=\"240\" width=\"32\" height=\"32\" stroke=\"black\" fill=\"black\"/>\n",
       "<text dominant-baseline=\"central\" text-anchor=\"middle\" font-family=\"monospace\" font-size=\"30\" x=\"96\" y=\"256\" fill=\"white\">R</text>\n",
       "<rect x=\"80\" y=\"304\" width=\"32\" height=\"32\" stroke=\"black\" fill=\"black\"/>\n",
       "<text dominant-baseline=\"central\" text-anchor=\"middle\" font-family=\"monospace\" font-size=\"30\" x=\"96\" y=\"320\" fill=\"white\">R</text>\n",
       "<rect x=\"80\" y=\"368\" width=\"32\" height=\"32\" stroke=\"black\" fill=\"black\"/>\n",
       "<text dominant-baseline=\"central\" text-anchor=\"middle\" font-family=\"monospace\" font-size=\"30\" x=\"96\" y=\"384\" fill=\"white\">R</text>\n",
       "<rect x=\"80\" y=\"432\" width=\"32\" height=\"32\" stroke=\"black\" fill=\"black\"/>\n",
       "<text dominant-baseline=\"central\" text-anchor=\"middle\" font-family=\"monospace\" font-size=\"30\" x=\"96\" y=\"448\" fill=\"white\">R</text>\n",
       "<rect x=\"80\" y=\"496\" width=\"32\" height=\"32\" stroke=\"black\" fill=\"black\"/>\n",
       "<text dominant-baseline=\"central\" text-anchor=\"middle\" font-family=\"monospace\" font-size=\"30\" x=\"96\" y=\"512\" fill=\"white\">R</text>\n",
       "<rect x=\"80\" y=\"560\" width=\"32\" height=\"32\" stroke=\"black\" fill=\"black\"/>\n",
       "<text dominant-baseline=\"central\" text-anchor=\"middle\" font-family=\"monospace\" font-size=\"30\" x=\"96\" y=\"576\" fill=\"white\">R</text>\n",
       "<rect x=\"80\" y=\"624\" width=\"32\" height=\"32\" stroke=\"black\" fill=\"black\"/>\n",
       "<text dominant-baseline=\"central\" text-anchor=\"middle\" font-family=\"monospace\" font-size=\"30\" x=\"96\" y=\"640\" fill=\"white\">R</text>\n",
       "<rect x=\"80\" y=\"688\" width=\"32\" height=\"32\" stroke=\"black\" fill=\"black\"/>\n",
       "<text dominant-baseline=\"central\" text-anchor=\"middle\" font-family=\"monospace\" font-size=\"30\" x=\"96\" y=\"704\" fill=\"white\">R</text>\n",
       "<rect x=\"80\" y=\"752\" width=\"32\" height=\"32\" stroke=\"black\" fill=\"black\"/>\n",
       "<text dominant-baseline=\"central\" text-anchor=\"middle\" font-family=\"monospace\" font-size=\"30\" x=\"96\" y=\"768\" fill=\"white\">R</text>\n",
       "<rect x=\"80\" y=\"816\" width=\"32\" height=\"32\" stroke=\"black\" fill=\"black\"/>\n",
       "<text dominant-baseline=\"central\" text-anchor=\"middle\" font-family=\"monospace\" font-size=\"30\" x=\"96\" y=\"832\" fill=\"white\">R</text>\n",
       "<rect x=\"80\" y=\"880\" width=\"32\" height=\"32\" stroke=\"black\" fill=\"black\"/>\n",
       "<text dominant-baseline=\"central\" text-anchor=\"middle\" font-family=\"monospace\" font-size=\"30\" x=\"96\" y=\"896\" fill=\"white\">R</text>\n",
       "<rect x=\"80\" y=\"944\" width=\"32\" height=\"32\" stroke=\"black\" fill=\"black\"/>\n",
       "<text dominant-baseline=\"central\" text-anchor=\"middle\" font-family=\"monospace\" font-size=\"30\" x=\"96\" y=\"960\" fill=\"white\">R</text>\n",
       "<rect x=\"80\" y=\"1008\" width=\"32\" height=\"32\" stroke=\"black\" fill=\"black\"/>\n",
       "<text dominant-baseline=\"central\" text-anchor=\"middle\" font-family=\"monospace\" font-size=\"30\" x=\"96\" y=\"1024\" fill=\"white\">R</text>\n",
       "<rect x=\"80\" y=\"1072\" width=\"32\" height=\"32\" stroke=\"black\" fill=\"black\"/>\n",
       "<text dominant-baseline=\"central\" text-anchor=\"middle\" font-family=\"monospace\" font-size=\"30\" x=\"96\" y=\"1088\" fill=\"white\">R</text>\n",
       "<rect x=\"144\" y=\"48\" width=\"32\" height=\"32\" stroke=\"black\" fill=\"pink\"/>\n",
       "<text dominant-baseline=\"central\" text-anchor=\"middle\" font-family=\"monospace\" font-size=\"12\" x=\"160\" y=\"64\">DEP<tspan baseline-shift=\"sub\" font-size=\"10\">1</tspan></text>\n",
       "<text dominant-baseline=\"hanging\" text-anchor=\"middle\" font-family=\"monospace\" font-size=\"10\" stroke=\"red\" x=\"160\" y=\"84\">0.04</text>\n",
       "<rect x=\"144\" y=\"176\" width=\"32\" height=\"32\" stroke=\"black\" fill=\"pink\"/>\n",
       "<text dominant-baseline=\"central\" text-anchor=\"middle\" font-family=\"monospace\" font-size=\"12\" x=\"160\" y=\"192\">DEP<tspan baseline-shift=\"sub\" font-size=\"10\">1</tspan></text>\n",
       "<text dominant-baseline=\"hanging\" text-anchor=\"middle\" font-family=\"monospace\" font-size=\"10\" stroke=\"red\" x=\"160\" y=\"212\">0.04</text>\n",
       "<rect x=\"144\" y=\"304\" width=\"32\" height=\"32\" stroke=\"black\" fill=\"pink\"/>\n",
       "<text dominant-baseline=\"central\" text-anchor=\"middle\" font-family=\"monospace\" font-size=\"12\" x=\"160\" y=\"320\">DEP<tspan baseline-shift=\"sub\" font-size=\"10\">1</tspan></text>\n",
       "<text dominant-baseline=\"hanging\" text-anchor=\"middle\" font-family=\"monospace\" font-size=\"10\" stroke=\"red\" x=\"160\" y=\"340\">0.04</text>\n",
       "<rect x=\"144\" y=\"432\" width=\"32\" height=\"32\" stroke=\"black\" fill=\"pink\"/>\n",
       "<text dominant-baseline=\"central\" text-anchor=\"middle\" font-family=\"monospace\" font-size=\"12\" x=\"160\" y=\"448\">DEP<tspan baseline-shift=\"sub\" font-size=\"10\">1</tspan></text>\n",
       "<text dominant-baseline=\"hanging\" text-anchor=\"middle\" font-family=\"monospace\" font-size=\"10\" stroke=\"red\" x=\"160\" y=\"468\">0.04</text>\n",
       "<rect x=\"144\" y=\"560\" width=\"32\" height=\"32\" stroke=\"black\" fill=\"pink\"/>\n",
       "<text dominant-baseline=\"central\" text-anchor=\"middle\" font-family=\"monospace\" font-size=\"12\" x=\"160\" y=\"576\">DEP<tspan baseline-shift=\"sub\" font-size=\"10\">1</tspan></text>\n",
       "<text dominant-baseline=\"hanging\" text-anchor=\"middle\" font-family=\"monospace\" font-size=\"10\" stroke=\"red\" x=\"160\" y=\"596\">0.04</text>\n",
       "<rect x=\"144\" y=\"688\" width=\"32\" height=\"32\" stroke=\"black\" fill=\"pink\"/>\n",
       "<text dominant-baseline=\"central\" text-anchor=\"middle\" font-family=\"monospace\" font-size=\"12\" x=\"160\" y=\"704\">DEP<tspan baseline-shift=\"sub\" font-size=\"10\">1</tspan></text>\n",
       "<text dominant-baseline=\"hanging\" text-anchor=\"middle\" font-family=\"monospace\" font-size=\"10\" stroke=\"red\" x=\"160\" y=\"724\">0.04</text>\n",
       "<rect x=\"144\" y=\"816\" width=\"32\" height=\"32\" stroke=\"black\" fill=\"pink\"/>\n",
       "<text dominant-baseline=\"central\" text-anchor=\"middle\" font-family=\"monospace\" font-size=\"12\" x=\"160\" y=\"832\">DEP<tspan baseline-shift=\"sub\" font-size=\"10\">1</tspan></text>\n",
       "<text dominant-baseline=\"hanging\" text-anchor=\"middle\" font-family=\"monospace\" font-size=\"10\" stroke=\"red\" x=\"160\" y=\"852\">0.04</text>\n",
       "<rect x=\"144\" y=\"944\" width=\"32\" height=\"32\" stroke=\"black\" fill=\"pink\"/>\n",
       "<text dominant-baseline=\"central\" text-anchor=\"middle\" font-family=\"monospace\" font-size=\"12\" x=\"160\" y=\"960\">DEP<tspan baseline-shift=\"sub\" font-size=\"10\">1</tspan></text>\n",
       "<text dominant-baseline=\"hanging\" text-anchor=\"middle\" font-family=\"monospace\" font-size=\"10\" stroke=\"red\" x=\"160\" y=\"980\">0.04</text>\n",
       "<rect x=\"144\" y=\"1072\" width=\"32\" height=\"32\" stroke=\"black\" fill=\"pink\"/>\n",
       "<text dominant-baseline=\"central\" text-anchor=\"middle\" font-family=\"monospace\" font-size=\"12\" x=\"160\" y=\"1088\">DEP<tspan baseline-shift=\"sub\" font-size=\"10\">1</tspan></text>\n",
       "<text dominant-baseline=\"hanging\" text-anchor=\"middle\" font-family=\"monospace\" font-size=\"10\" stroke=\"red\" x=\"160\" y=\"1108\">0.04</text>\n",
       "<path d=\"M224,64 L224,128 \" stroke=\"black\"/>\n",
       "<circle cx=\"224\" cy=\"64\" r=\"12\" stroke=\"none\" fill=\"black\"/>\n",
       "<circle cx=\"224\" cy=\"128\" r=\"12\" stroke=\"black\" fill=\"white\"/>\n",
       "<path d=\"M212,128 L236,128 M224,116 L224,140 \" stroke=\"black\"/>\n",
       "<path d=\"M224,192 L224,256 \" stroke=\"black\"/>\n",
       "<circle cx=\"224\" cy=\"192\" r=\"12\" stroke=\"none\" fill=\"black\"/>\n",
       "<circle cx=\"224\" cy=\"256\" r=\"12\" stroke=\"black\" fill=\"white\"/>\n",
       "<path d=\"M212,256 L236,256 M224,244 L224,268 \" stroke=\"black\"/>\n",
       "<path d=\"M224,320 L224,384 \" stroke=\"black\"/>\n",
       "<circle cx=\"224\" cy=\"320\" r=\"12\" stroke=\"none\" fill=\"black\"/>\n",
       "<circle cx=\"224\" cy=\"384\" r=\"12\" stroke=\"black\" fill=\"white\"/>\n",
       "<path d=\"M212,384 L236,384 M224,372 L224,396 \" stroke=\"black\"/>\n",
       "<path d=\"M224,448 L224,512 \" stroke=\"black\"/>\n",
       "<circle cx=\"224\" cy=\"448\" r=\"12\" stroke=\"none\" fill=\"black\"/>\n",
       "<circle cx=\"224\" cy=\"512\" r=\"12\" stroke=\"black\" fill=\"white\"/>\n",
       "<path d=\"M212,512 L236,512 M224,500 L224,524 \" stroke=\"black\"/>\n",
       "<path d=\"M224,576 L224,640 \" stroke=\"black\"/>\n",
       "<circle cx=\"224\" cy=\"576\" r=\"12\" stroke=\"none\" fill=\"black\"/>\n",
       "<circle cx=\"224\" cy=\"640\" r=\"12\" stroke=\"black\" fill=\"white\"/>\n",
       "<path d=\"M212,640 L236,640 M224,628 L224,652 \" stroke=\"black\"/>\n",
       "<path d=\"M224,704 L224,768 \" stroke=\"black\"/>\n",
       "<circle cx=\"224\" cy=\"704\" r=\"12\" stroke=\"none\" fill=\"black\"/>\n",
       "<circle cx=\"224\" cy=\"768\" r=\"12\" stroke=\"black\" fill=\"white\"/>\n",
       "<path d=\"M212,768 L236,768 M224,756 L224,780 \" stroke=\"black\"/>\n",
       "<path d=\"M224,832 L224,896 \" stroke=\"black\"/>\n",
       "<circle cx=\"224\" cy=\"832\" r=\"12\" stroke=\"none\" fill=\"black\"/>\n",
       "<circle cx=\"224\" cy=\"896\" r=\"12\" stroke=\"black\" fill=\"white\"/>\n",
       "<path d=\"M212,896 L236,896 M224,884 L224,908 \" stroke=\"black\"/>\n",
       "<path d=\"M224,960 L224,1024 \" stroke=\"black\"/>\n",
       "<circle cx=\"224\" cy=\"960\" r=\"12\" stroke=\"none\" fill=\"black\"/>\n",
       "<circle cx=\"224\" cy=\"1024\" r=\"12\" stroke=\"black\" fill=\"white\"/>\n",
       "<path d=\"M212,1024 L236,1024 M224,1012 L224,1036 \" stroke=\"black\"/>\n",
       "<path d=\"M132,40 L132,32 L252,32 L252,40 \" stroke=\"black\" fill=\"none\"/>\n",
       "<path d=\"M132,1144 L132,1152 L252,1152 L252,1144 \" stroke=\"black\" fill=\"none\"/>\n",
       "<path d=\"M288,128 L288,192 \" stroke=\"black\"/>\n",
       "<circle cx=\"288\" cy=\"192\" r=\"12\" stroke=\"none\" fill=\"black\"/>\n",
       "<circle cx=\"288\" cy=\"128\" r=\"12\" stroke=\"black\" fill=\"white\"/>\n",
       "<path d=\"M276,128 L300,128 M288,116 L288,140 \" stroke=\"black\"/>\n",
       "<path d=\"M288,256 L288,320 \" stroke=\"black\"/>\n",
       "<circle cx=\"288\" cy=\"320\" r=\"12\" stroke=\"none\" fill=\"black\"/>\n",
       "<circle cx=\"288\" cy=\"256\" r=\"12\" stroke=\"black\" fill=\"white\"/>\n",
       "<path d=\"M276,256 L300,256 M288,244 L288,268 \" stroke=\"black\"/>\n",
       "<path d=\"M288,384 L288,448 \" stroke=\"black\"/>\n",
       "<circle cx=\"288\" cy=\"448\" r=\"12\" stroke=\"none\" fill=\"black\"/>\n",
       "<circle cx=\"288\" cy=\"384\" r=\"12\" stroke=\"black\" fill=\"white\"/>\n",
       "<path d=\"M276,384 L300,384 M288,372 L288,396 \" stroke=\"black\"/>\n",
       "<path d=\"M288,512 L288,576 \" stroke=\"black\"/>\n",
       "<circle cx=\"288\" cy=\"576\" r=\"12\" stroke=\"none\" fill=\"black\"/>\n",
       "<circle cx=\"288\" cy=\"512\" r=\"12\" stroke=\"black\" fill=\"white\"/>\n",
       "<path d=\"M276,512 L300,512 M288,500 L288,524 \" stroke=\"black\"/>\n",
       "<path d=\"M288,640 L288,704 \" stroke=\"black\"/>\n",
       "<circle cx=\"288\" cy=\"704\" r=\"12\" stroke=\"none\" fill=\"black\"/>\n",
       "<circle cx=\"288\" cy=\"640\" r=\"12\" stroke=\"black\" fill=\"white\"/>\n",
       "<path d=\"M276,640 L300,640 M288,628 L288,652 \" stroke=\"black\"/>\n",
       "<path d=\"M288,768 L288,832 \" stroke=\"black\"/>\n",
       "<circle cx=\"288\" cy=\"832\" r=\"12\" stroke=\"none\" fill=\"black\"/>\n",
       "<circle cx=\"288\" cy=\"768\" r=\"12\" stroke=\"black\" fill=\"white\"/>\n",
       "<path d=\"M276,768 L300,768 M288,756 L288,780 \" stroke=\"black\"/>\n",
       "<path d=\"M288,896 L288,960 \" stroke=\"black\"/>\n",
       "<circle cx=\"288\" cy=\"960\" r=\"12\" stroke=\"none\" fill=\"black\"/>\n",
       "<circle cx=\"288\" cy=\"896\" r=\"12\" stroke=\"black\" fill=\"white\"/>\n",
       "<path d=\"M276,896 L300,896 M288,884 L288,908 \" stroke=\"black\"/>\n",
       "<path d=\"M288,1024 L288,1088 \" stroke=\"black\"/>\n",
       "<circle cx=\"288\" cy=\"1088\" r=\"12\" stroke=\"none\" fill=\"black\"/>\n",
       "<circle cx=\"288\" cy=\"1024\" r=\"12\" stroke=\"black\" fill=\"white\"/>\n",
       "<path d=\"M276,1024 L300,1024 M288,1012 L288,1036 \" stroke=\"black\"/>\n",
       "<rect x=\"336\" y=\"112\" width=\"32\" height=\"32\" stroke=\"black\" fill=\"pink\"/>\n",
       "<text dominant-baseline=\"central\" text-anchor=\"middle\" font-family=\"monospace\" font-size=\"12\" x=\"352\" y=\"128\">ERR<tspan baseline-shift=\"sub\" font-size=\"10\">X</tspan></text>\n",
       "<text dominant-baseline=\"hanging\" text-anchor=\"middle\" font-family=\"monospace\" font-size=\"10\" stroke=\"red\" x=\"352\" y=\"148\">0.01</text>\n",
       "<rect x=\"336\" y=\"240\" width=\"32\" height=\"32\" stroke=\"black\" fill=\"pink\"/>\n",
       "<text dominant-baseline=\"central\" text-anchor=\"middle\" font-family=\"monospace\" font-size=\"12\" x=\"352\" y=\"256\">ERR<tspan baseline-shift=\"sub\" font-size=\"10\">X</tspan></text>\n",
       "<text dominant-baseline=\"hanging\" text-anchor=\"middle\" font-family=\"monospace\" font-size=\"10\" stroke=\"red\" x=\"352\" y=\"276\">0.01</text>\n",
       "<rect x=\"336\" y=\"368\" width=\"32\" height=\"32\" stroke=\"black\" fill=\"pink\"/>\n",
       "<text dominant-baseline=\"central\" text-anchor=\"middle\" font-family=\"monospace\" font-size=\"12\" x=\"352\" y=\"384\">ERR<tspan baseline-shift=\"sub\" font-size=\"10\">X</tspan></text>\n",
       "<text dominant-baseline=\"hanging\" text-anchor=\"middle\" font-family=\"monospace\" font-size=\"10\" stroke=\"red\" x=\"352\" y=\"404\">0.01</text>\n",
       "<rect x=\"336\" y=\"496\" width=\"32\" height=\"32\" stroke=\"black\" fill=\"pink\"/>\n",
       "<text dominant-baseline=\"central\" text-anchor=\"middle\" font-family=\"monospace\" font-size=\"12\" x=\"352\" y=\"512\">ERR<tspan baseline-shift=\"sub\" font-size=\"10\">X</tspan></text>\n",
       "<text dominant-baseline=\"hanging\" text-anchor=\"middle\" font-family=\"monospace\" font-size=\"10\" stroke=\"red\" x=\"352\" y=\"532\">0.01</text>\n",
       "<rect x=\"336\" y=\"624\" width=\"32\" height=\"32\" stroke=\"black\" fill=\"pink\"/>\n",
       "<text dominant-baseline=\"central\" text-anchor=\"middle\" font-family=\"monospace\" font-size=\"12\" x=\"352\" y=\"640\">ERR<tspan baseline-shift=\"sub\" font-size=\"10\">X</tspan></text>\n",
       "<text dominant-baseline=\"hanging\" text-anchor=\"middle\" font-family=\"monospace\" font-size=\"10\" stroke=\"red\" x=\"352\" y=\"660\">0.01</text>\n",
       "<rect x=\"336\" y=\"752\" width=\"32\" height=\"32\" stroke=\"black\" fill=\"pink\"/>\n",
       "<text dominant-baseline=\"central\" text-anchor=\"middle\" font-family=\"monospace\" font-size=\"12\" x=\"352\" y=\"768\">ERR<tspan baseline-shift=\"sub\" font-size=\"10\">X</tspan></text>\n",
       "<text dominant-baseline=\"hanging\" text-anchor=\"middle\" font-family=\"monospace\" font-size=\"10\" stroke=\"red\" x=\"352\" y=\"788\">0.01</text>\n",
       "<rect x=\"336\" y=\"880\" width=\"32\" height=\"32\" stroke=\"black\" fill=\"pink\"/>\n",
       "<text dominant-baseline=\"central\" text-anchor=\"middle\" font-family=\"monospace\" font-size=\"12\" x=\"352\" y=\"896\">ERR<tspan baseline-shift=\"sub\" font-size=\"10\">X</tspan></text>\n",
       "<text dominant-baseline=\"hanging\" text-anchor=\"middle\" font-family=\"monospace\" font-size=\"10\" stroke=\"red\" x=\"352\" y=\"916\">0.01</text>\n",
       "<rect x=\"336\" y=\"1008\" width=\"32\" height=\"32\" stroke=\"black\" fill=\"pink\"/>\n",
       "<text dominant-baseline=\"central\" text-anchor=\"middle\" font-family=\"monospace\" font-size=\"12\" x=\"352\" y=\"1024\">ERR<tspan baseline-shift=\"sub\" font-size=\"10\">X</tspan></text>\n",
       "<text dominant-baseline=\"hanging\" text-anchor=\"middle\" font-family=\"monospace\" font-size=\"10\" stroke=\"red\" x=\"352\" y=\"1044\">0.01</text>\n",
       "<rect x=\"400\" y=\"112\" width=\"32\" height=\"32\" stroke=\"black\" fill=\"black\"/>\n",
       "<text dominant-baseline=\"central\" text-anchor=\"middle\" font-family=\"monospace\" font-size=\"24\" x=\"416\" y=\"128\" fill=\"white\">MR</text>\n",
       "<text text-anchor=\"middle\" font-family=\"monospace\" font-size=\"8\" x=\"416\" y=\"108\">rec[0]</text>\n",
       "<rect x=\"400\" y=\"240\" width=\"32\" height=\"32\" stroke=\"black\" fill=\"black\"/>\n",
       "<text dominant-baseline=\"central\" text-anchor=\"middle\" font-family=\"monospace\" font-size=\"24\" x=\"416\" y=\"256\" fill=\"white\">MR</text>\n",
       "<text text-anchor=\"middle\" font-family=\"monospace\" font-size=\"8\" x=\"416\" y=\"236\">rec[1]</text>\n",
       "<rect x=\"400\" y=\"368\" width=\"32\" height=\"32\" stroke=\"black\" fill=\"black\"/>\n",
       "<text dominant-baseline=\"central\" text-anchor=\"middle\" font-family=\"monospace\" font-size=\"24\" x=\"416\" y=\"384\" fill=\"white\">MR</text>\n",
       "<text text-anchor=\"middle\" font-family=\"monospace\" font-size=\"8\" x=\"416\" y=\"364\">rec[2]</text>\n",
       "<rect x=\"400\" y=\"496\" width=\"32\" height=\"32\" stroke=\"black\" fill=\"black\"/>\n",
       "<text dominant-baseline=\"central\" text-anchor=\"middle\" font-family=\"monospace\" font-size=\"24\" x=\"416\" y=\"512\" fill=\"white\">MR</text>\n",
       "<text text-anchor=\"middle\" font-family=\"monospace\" font-size=\"8\" x=\"416\" y=\"492\">rec[3]</text>\n",
       "<rect x=\"400\" y=\"624\" width=\"32\" height=\"32\" stroke=\"black\" fill=\"black\"/>\n",
       "<text dominant-baseline=\"central\" text-anchor=\"middle\" font-family=\"monospace\" font-size=\"24\" x=\"416\" y=\"640\" fill=\"white\">MR</text>\n",
       "<text text-anchor=\"middle\" font-family=\"monospace\" font-size=\"8\" x=\"416\" y=\"620\">rec[4]</text>\n",
       "<rect x=\"400\" y=\"752\" width=\"32\" height=\"32\" stroke=\"black\" fill=\"black\"/>\n",
       "<text dominant-baseline=\"central\" text-anchor=\"middle\" font-family=\"monospace\" font-size=\"24\" x=\"416\" y=\"768\" fill=\"white\">MR</text>\n",
       "<text text-anchor=\"middle\" font-family=\"monospace\" font-size=\"8\" x=\"416\" y=\"748\">rec[5]</text>\n",
       "<rect x=\"400\" y=\"880\" width=\"32\" height=\"32\" stroke=\"black\" fill=\"black\"/>\n",
       "<text dominant-baseline=\"central\" text-anchor=\"middle\" font-family=\"monospace\" font-size=\"24\" x=\"416\" y=\"896\" fill=\"white\">MR</text>\n",
       "<text text-anchor=\"middle\" font-family=\"monospace\" font-size=\"8\" x=\"416\" y=\"876\">rec[6]</text>\n",
       "<rect x=\"400\" y=\"1008\" width=\"32\" height=\"32\" stroke=\"black\" fill=\"black\"/>\n",
       "<text dominant-baseline=\"central\" text-anchor=\"middle\" font-family=\"monospace\" font-size=\"24\" x=\"416\" y=\"1024\" fill=\"white\">MR</text>\n",
       "<text text-anchor=\"middle\" font-family=\"monospace\" font-size=\"8\" x=\"416\" y=\"1004\">rec[7]</text>\n",
       "<rect x=\"464\" y=\"112\" width=\"160\" height=\"32\" stroke=\"black\" fill=\"lightgray\"/>\n",
       "<text dominant-baseline=\"central\" text-anchor=\"middle\" font-family=\"monospace\" font-size=\"16\" x=\"544\" y=\"128\">DETECTOR</text>\n",
       "<text dominant-baseline=\"hanging\" text-anchor=\"middle\" font-family=\"monospace\" font-size=\"8\" x=\"544\" y=\"148\">coords=(1,0)</text>\n",
       "<text text-anchor=\"middle\" font-family=\"monospace\" font-size=\"8\" x=\"544\" y=\"108\">D0 = rec[0]</text>\n",
       "<rect x=\"464\" y=\"240\" width=\"160\" height=\"32\" stroke=\"black\" fill=\"lightgray\"/>\n",
       "<text dominant-baseline=\"central\" text-anchor=\"middle\" font-family=\"monospace\" font-size=\"16\" x=\"544\" y=\"256\">DETECTOR</text>\n",
       "<text dominant-baseline=\"hanging\" text-anchor=\"middle\" font-family=\"monospace\" font-size=\"8\" x=\"544\" y=\"276\">coords=(3,0)</text>\n",
       "<text text-anchor=\"middle\" font-family=\"monospace\" font-size=\"8\" x=\"544\" y=\"236\">D1 = rec[1]</text>\n",
       "<rect x=\"464\" y=\"368\" width=\"160\" height=\"32\" stroke=\"black\" fill=\"lightgray\"/>\n",
       "<text dominant-baseline=\"central\" text-anchor=\"middle\" font-family=\"monospace\" font-size=\"16\" x=\"544\" y=\"384\">DETECTOR</text>\n",
       "<text dominant-baseline=\"hanging\" text-anchor=\"middle\" font-family=\"monospace\" font-size=\"8\" x=\"544\" y=\"404\">coords=(5,0)</text>\n",
       "<text text-anchor=\"middle\" font-family=\"monospace\" font-size=\"8\" x=\"544\" y=\"364\">D2 = rec[2]</text>\n",
       "<rect x=\"464\" y=\"496\" width=\"160\" height=\"32\" stroke=\"black\" fill=\"lightgray\"/>\n",
       "<text dominant-baseline=\"central\" text-anchor=\"middle\" font-family=\"monospace\" font-size=\"16\" x=\"544\" y=\"512\">DETECTOR</text>\n",
       "<text dominant-baseline=\"hanging\" text-anchor=\"middle\" font-family=\"monospace\" font-size=\"8\" x=\"544\" y=\"532\">coords=(7,0)</text>\n",
       "<text text-anchor=\"middle\" font-family=\"monospace\" font-size=\"8\" x=\"544\" y=\"492\">D3 = rec[3]</text>\n",
       "<rect x=\"464\" y=\"624\" width=\"160\" height=\"32\" stroke=\"black\" fill=\"lightgray\"/>\n",
       "<text dominant-baseline=\"central\" text-anchor=\"middle\" font-family=\"monospace\" font-size=\"16\" x=\"544\" y=\"640\">DETECTOR</text>\n",
       "<text dominant-baseline=\"hanging\" text-anchor=\"middle\" font-family=\"monospace\" font-size=\"8\" x=\"544\" y=\"660\">coords=(9,0)</text>\n",
       "<text text-anchor=\"middle\" font-family=\"monospace\" font-size=\"8\" x=\"544\" y=\"620\">D4 = rec[4]</text>\n",
       "<rect x=\"464\" y=\"752\" width=\"160\" height=\"32\" stroke=\"black\" fill=\"lightgray\"/>\n",
       "<text dominant-baseline=\"central\" text-anchor=\"middle\" font-family=\"monospace\" font-size=\"16\" x=\"544\" y=\"768\">DETECTOR</text>\n",
       "<text dominant-baseline=\"hanging\" text-anchor=\"middle\" font-family=\"monospace\" font-size=\"8\" x=\"544\" y=\"788\">coords=(11,0)</text>\n",
       "<text text-anchor=\"middle\" font-family=\"monospace\" font-size=\"8\" x=\"544\" y=\"748\">D5 = rec[5]</text>\n",
       "<rect x=\"464\" y=\"880\" width=\"160\" height=\"32\" stroke=\"black\" fill=\"lightgray\"/>\n",
       "<text dominant-baseline=\"central\" text-anchor=\"middle\" font-family=\"monospace\" font-size=\"16\" x=\"544\" y=\"896\">DETECTOR</text>\n",
       "<text dominant-baseline=\"hanging\" text-anchor=\"middle\" font-family=\"monospace\" font-size=\"8\" x=\"544\" y=\"916\">coords=(13,0)</text>\n",
       "<text text-anchor=\"middle\" font-family=\"monospace\" font-size=\"8\" x=\"544\" y=\"876\">D6 = rec[6]</text>\n",
       "<rect x=\"464\" y=\"1008\" width=\"160\" height=\"32\" stroke=\"black\" fill=\"lightgray\"/>\n",
       "<text dominant-baseline=\"central\" text-anchor=\"middle\" font-family=\"monospace\" font-size=\"16\" x=\"544\" y=\"1024\">DETECTOR</text>\n",
       "<text dominant-baseline=\"hanging\" text-anchor=\"middle\" font-family=\"monospace\" font-size=\"8\" x=\"544\" y=\"1044\">coords=(15,0)</text>\n",
       "<text text-anchor=\"middle\" font-family=\"monospace\" font-size=\"8\" x=\"544\" y=\"1004\">D7 = rec[7]</text>\n",
       "<path d=\"M324,40 L324,32 L636,32 L636,40 \" stroke=\"black\" fill=\"none\"/>\n",
       "<path d=\"M324,1144 L324,1152 L636,1152 L636,1144 \" stroke=\"black\" fill=\"none\"/>\n",
       "<path d=\"M680,32 L672,32 L672,1152 L680,1152 \" stroke=\"black\" fill=\"none\"/>\n",
       "<text dominant-baseline=\"auto\" text-anchor=\"start\" font-family=\"monospace\" font-size=\"12\" x=\"676\" y=\"1148\">REP24</text>\n",
       "<rect x=\"784\" y=\"48\" width=\"32\" height=\"32\" stroke=\"black\" fill=\"pink\"/>\n",
       "<text dominant-baseline=\"central\" text-anchor=\"middle\" font-family=\"monospace\" font-size=\"12\" x=\"800\" y=\"64\">DEP<tspan baseline-shift=\"sub\" font-size=\"10\">1</tspan></text>\n",
       "<text dominant-baseline=\"hanging\" text-anchor=\"middle\" font-family=\"monospace\" font-size=\"10\" stroke=\"red\" x=\"800\" y=\"84\">0.04</text>\n",
       "<rect x=\"784\" y=\"176\" width=\"32\" height=\"32\" stroke=\"black\" fill=\"pink\"/>\n",
       "<text dominant-baseline=\"central\" text-anchor=\"middle\" font-family=\"monospace\" font-size=\"12\" x=\"800\" y=\"192\">DEP<tspan baseline-shift=\"sub\" font-size=\"10\">1</tspan></text>\n",
       "<text dominant-baseline=\"hanging\" text-anchor=\"middle\" font-family=\"monospace\" font-size=\"10\" stroke=\"red\" x=\"800\" y=\"212\">0.04</text>\n",
       "<rect x=\"784\" y=\"304\" width=\"32\" height=\"32\" stroke=\"black\" fill=\"pink\"/>\n",
       "<text dominant-baseline=\"central\" text-anchor=\"middle\" font-family=\"monospace\" font-size=\"12\" x=\"800\" y=\"320\">DEP<tspan baseline-shift=\"sub\" font-size=\"10\">1</tspan></text>\n",
       "<text dominant-baseline=\"hanging\" text-anchor=\"middle\" font-family=\"monospace\" font-size=\"10\" stroke=\"red\" x=\"800\" y=\"340\">0.04</text>\n",
       "<rect x=\"784\" y=\"432\" width=\"32\" height=\"32\" stroke=\"black\" fill=\"pink\"/>\n",
       "<text dominant-baseline=\"central\" text-anchor=\"middle\" font-family=\"monospace\" font-size=\"12\" x=\"800\" y=\"448\">DEP<tspan baseline-shift=\"sub\" font-size=\"10\">1</tspan></text>\n",
       "<text dominant-baseline=\"hanging\" text-anchor=\"middle\" font-family=\"monospace\" font-size=\"10\" stroke=\"red\" x=\"800\" y=\"468\">0.04</text>\n",
       "<rect x=\"784\" y=\"560\" width=\"32\" height=\"32\" stroke=\"black\" fill=\"pink\"/>\n",
       "<text dominant-baseline=\"central\" text-anchor=\"middle\" font-family=\"monospace\" font-size=\"12\" x=\"800\" y=\"576\">DEP<tspan baseline-shift=\"sub\" font-size=\"10\">1</tspan></text>\n",
       "<text dominant-baseline=\"hanging\" text-anchor=\"middle\" font-family=\"monospace\" font-size=\"10\" stroke=\"red\" x=\"800\" y=\"596\">0.04</text>\n",
       "<rect x=\"784\" y=\"688\" width=\"32\" height=\"32\" stroke=\"black\" fill=\"pink\"/>\n",
       "<text dominant-baseline=\"central\" text-anchor=\"middle\" font-family=\"monospace\" font-size=\"12\" x=\"800\" y=\"704\">DEP<tspan baseline-shift=\"sub\" font-size=\"10\">1</tspan></text>\n",
       "<text dominant-baseline=\"hanging\" text-anchor=\"middle\" font-family=\"monospace\" font-size=\"10\" stroke=\"red\" x=\"800\" y=\"724\">0.04</text>\n",
       "<rect x=\"784\" y=\"816\" width=\"32\" height=\"32\" stroke=\"black\" fill=\"pink\"/>\n",
       "<text dominant-baseline=\"central\" text-anchor=\"middle\" font-family=\"monospace\" font-size=\"12\" x=\"800\" y=\"832\">DEP<tspan baseline-shift=\"sub\" font-size=\"10\">1</tspan></text>\n",
       "<text dominant-baseline=\"hanging\" text-anchor=\"middle\" font-family=\"monospace\" font-size=\"10\" stroke=\"red\" x=\"800\" y=\"852\">0.04</text>\n",
       "<rect x=\"784\" y=\"944\" width=\"32\" height=\"32\" stroke=\"black\" fill=\"pink\"/>\n",
       "<text dominant-baseline=\"central\" text-anchor=\"middle\" font-family=\"monospace\" font-size=\"12\" x=\"800\" y=\"960\">DEP<tspan baseline-shift=\"sub\" font-size=\"10\">1</tspan></text>\n",
       "<text dominant-baseline=\"hanging\" text-anchor=\"middle\" font-family=\"monospace\" font-size=\"10\" stroke=\"red\" x=\"800\" y=\"980\">0.04</text>\n",
       "<rect x=\"784\" y=\"1072\" width=\"32\" height=\"32\" stroke=\"black\" fill=\"pink\"/>\n",
       "<text dominant-baseline=\"central\" text-anchor=\"middle\" font-family=\"monospace\" font-size=\"12\" x=\"800\" y=\"1088\">DEP<tspan baseline-shift=\"sub\" font-size=\"10\">1</tspan></text>\n",
       "<text dominant-baseline=\"hanging\" text-anchor=\"middle\" font-family=\"monospace\" font-size=\"10\" stroke=\"red\" x=\"800\" y=\"1108\">0.04</text>\n",
       "<path d=\"M864,64 L864,128 \" stroke=\"black\"/>\n",
       "<circle cx=\"864\" cy=\"64\" r=\"12\" stroke=\"none\" fill=\"black\"/>\n",
       "<circle cx=\"864\" cy=\"128\" r=\"12\" stroke=\"black\" fill=\"white\"/>\n",
       "<path d=\"M852,128 L876,128 M864,116 L864,140 \" stroke=\"black\"/>\n",
       "<path d=\"M864,192 L864,256 \" stroke=\"black\"/>\n",
       "<circle cx=\"864\" cy=\"192\" r=\"12\" stroke=\"none\" fill=\"black\"/>\n",
       "<circle cx=\"864\" cy=\"256\" r=\"12\" stroke=\"black\" fill=\"white\"/>\n",
       "<path d=\"M852,256 L876,256 M864,244 L864,268 \" stroke=\"black\"/>\n",
       "<path d=\"M864,320 L864,384 \" stroke=\"black\"/>\n",
       "<circle cx=\"864\" cy=\"320\" r=\"12\" stroke=\"none\" fill=\"black\"/>\n",
       "<circle cx=\"864\" cy=\"384\" r=\"12\" stroke=\"black\" fill=\"white\"/>\n",
       "<path d=\"M852,384 L876,384 M864,372 L864,396 \" stroke=\"black\"/>\n",
       "<path d=\"M864,448 L864,512 \" stroke=\"black\"/>\n",
       "<circle cx=\"864\" cy=\"448\" r=\"12\" stroke=\"none\" fill=\"black\"/>\n",
       "<circle cx=\"864\" cy=\"512\" r=\"12\" stroke=\"black\" fill=\"white\"/>\n",
       "<path d=\"M852,512 L876,512 M864,500 L864,524 \" stroke=\"black\"/>\n",
       "<path d=\"M864,576 L864,640 \" stroke=\"black\"/>\n",
       "<circle cx=\"864\" cy=\"576\" r=\"12\" stroke=\"none\" fill=\"black\"/>\n",
       "<circle cx=\"864\" cy=\"640\" r=\"12\" stroke=\"black\" fill=\"white\"/>\n",
       "<path d=\"M852,640 L876,640 M864,628 L864,652 \" stroke=\"black\"/>\n",
       "<path d=\"M864,704 L864,768 \" stroke=\"black\"/>\n",
       "<circle cx=\"864\" cy=\"704\" r=\"12\" stroke=\"none\" fill=\"black\"/>\n",
       "<circle cx=\"864\" cy=\"768\" r=\"12\" stroke=\"black\" fill=\"white\"/>\n",
       "<path d=\"M852,768 L876,768 M864,756 L864,780 \" stroke=\"black\"/>\n",
       "<path d=\"M864,832 L864,896 \" stroke=\"black\"/>\n",
       "<circle cx=\"864\" cy=\"832\" r=\"12\" stroke=\"none\" fill=\"black\"/>\n",
       "<circle cx=\"864\" cy=\"896\" r=\"12\" stroke=\"black\" fill=\"white\"/>\n",
       "<path d=\"M852,896 L876,896 M864,884 L864,908 \" stroke=\"black\"/>\n",
       "<path d=\"M864,960 L864,1024 \" stroke=\"black\"/>\n",
       "<circle cx=\"864\" cy=\"960\" r=\"12\" stroke=\"none\" fill=\"black\"/>\n",
       "<circle cx=\"864\" cy=\"1024\" r=\"12\" stroke=\"black\" fill=\"white\"/>\n",
       "<path d=\"M852,1024 L876,1024 M864,1012 L864,1036 \" stroke=\"black\"/>\n",
       "<path d=\"M772,40 L772,32 L892,32 L892,40 \" stroke=\"black\" fill=\"none\"/>\n",
       "<path d=\"M772,1144 L772,1152 L892,1152 L892,1144 \" stroke=\"black\" fill=\"none\"/>\n",
       "<path d=\"M928,128 L928,192 \" stroke=\"black\"/>\n",
       "<circle cx=\"928\" cy=\"192\" r=\"12\" stroke=\"none\" fill=\"black\"/>\n",
       "<circle cx=\"928\" cy=\"128\" r=\"12\" stroke=\"black\" fill=\"white\"/>\n",
       "<path d=\"M916,128 L940,128 M928,116 L928,140 \" stroke=\"black\"/>\n",
       "<path d=\"M928,256 L928,320 \" stroke=\"black\"/>\n",
       "<circle cx=\"928\" cy=\"320\" r=\"12\" stroke=\"none\" fill=\"black\"/>\n",
       "<circle cx=\"928\" cy=\"256\" r=\"12\" stroke=\"black\" fill=\"white\"/>\n",
       "<path d=\"M916,256 L940,256 M928,244 L928,268 \" stroke=\"black\"/>\n",
       "<path d=\"M928,384 L928,448 \" stroke=\"black\"/>\n",
       "<circle cx=\"928\" cy=\"448\" r=\"12\" stroke=\"none\" fill=\"black\"/>\n",
       "<circle cx=\"928\" cy=\"384\" r=\"12\" stroke=\"black\" fill=\"white\"/>\n",
       "<path d=\"M916,384 L940,384 M928,372 L928,396 \" stroke=\"black\"/>\n",
       "<path d=\"M928,512 L928,576 \" stroke=\"black\"/>\n",
       "<circle cx=\"928\" cy=\"576\" r=\"12\" stroke=\"none\" fill=\"black\"/>\n",
       "<circle cx=\"928\" cy=\"512\" r=\"12\" stroke=\"black\" fill=\"white\"/>\n",
       "<path d=\"M916,512 L940,512 M928,500 L928,524 \" stroke=\"black\"/>\n",
       "<path d=\"M928,640 L928,704 \" stroke=\"black\"/>\n",
       "<circle cx=\"928\" cy=\"704\" r=\"12\" stroke=\"none\" fill=\"black\"/>\n",
       "<circle cx=\"928\" cy=\"640\" r=\"12\" stroke=\"black\" fill=\"white\"/>\n",
       "<path d=\"M916,640 L940,640 M928,628 L928,652 \" stroke=\"black\"/>\n",
       "<path d=\"M928,768 L928,832 \" stroke=\"black\"/>\n",
       "<circle cx=\"928\" cy=\"832\" r=\"12\" stroke=\"none\" fill=\"black\"/>\n",
       "<circle cx=\"928\" cy=\"768\" r=\"12\" stroke=\"black\" fill=\"white\"/>\n",
       "<path d=\"M916,768 L940,768 M928,756 L928,780 \" stroke=\"black\"/>\n",
       "<path d=\"M928,896 L928,960 \" stroke=\"black\"/>\n",
       "<circle cx=\"928\" cy=\"960\" r=\"12\" stroke=\"none\" fill=\"black\"/>\n",
       "<circle cx=\"928\" cy=\"896\" r=\"12\" stroke=\"black\" fill=\"white\"/>\n",
       "<path d=\"M916,896 L940,896 M928,884 L928,908 \" stroke=\"black\"/>\n",
       "<path d=\"M928,1024 L928,1088 \" stroke=\"black\"/>\n",
       "<circle cx=\"928\" cy=\"1088\" r=\"12\" stroke=\"none\" fill=\"black\"/>\n",
       "<circle cx=\"928\" cy=\"1024\" r=\"12\" stroke=\"black\" fill=\"white\"/>\n",
       "<path d=\"M916,1024 L940,1024 M928,1012 L928,1036 \" stroke=\"black\"/>\n",
       "<rect x=\"976\" y=\"112\" width=\"32\" height=\"32\" stroke=\"black\" fill=\"pink\"/>\n",
       "<text dominant-baseline=\"central\" text-anchor=\"middle\" font-family=\"monospace\" font-size=\"12\" x=\"992\" y=\"128\">ERR<tspan baseline-shift=\"sub\" font-size=\"10\">X</tspan></text>\n",
       "<text dominant-baseline=\"hanging\" text-anchor=\"middle\" font-family=\"monospace\" font-size=\"10\" stroke=\"red\" x=\"992\" y=\"148\">0.01</text>\n",
       "<rect x=\"976\" y=\"240\" width=\"32\" height=\"32\" stroke=\"black\" fill=\"pink\"/>\n",
       "<text dominant-baseline=\"central\" text-anchor=\"middle\" font-family=\"monospace\" font-size=\"12\" x=\"992\" y=\"256\">ERR<tspan baseline-shift=\"sub\" font-size=\"10\">X</tspan></text>\n",
       "<text dominant-baseline=\"hanging\" text-anchor=\"middle\" font-family=\"monospace\" font-size=\"10\" stroke=\"red\" x=\"992\" y=\"276\">0.01</text>\n",
       "<rect x=\"976\" y=\"368\" width=\"32\" height=\"32\" stroke=\"black\" fill=\"pink\"/>\n",
       "<text dominant-baseline=\"central\" text-anchor=\"middle\" font-family=\"monospace\" font-size=\"12\" x=\"992\" y=\"384\">ERR<tspan baseline-shift=\"sub\" font-size=\"10\">X</tspan></text>\n",
       "<text dominant-baseline=\"hanging\" text-anchor=\"middle\" font-family=\"monospace\" font-size=\"10\" stroke=\"red\" x=\"992\" y=\"404\">0.01</text>\n",
       "<rect x=\"976\" y=\"496\" width=\"32\" height=\"32\" stroke=\"black\" fill=\"pink\"/>\n",
       "<text dominant-baseline=\"central\" text-anchor=\"middle\" font-family=\"monospace\" font-size=\"12\" x=\"992\" y=\"512\">ERR<tspan baseline-shift=\"sub\" font-size=\"10\">X</tspan></text>\n",
       "<text dominant-baseline=\"hanging\" text-anchor=\"middle\" font-family=\"monospace\" font-size=\"10\" stroke=\"red\" x=\"992\" y=\"532\">0.01</text>\n",
       "<rect x=\"976\" y=\"624\" width=\"32\" height=\"32\" stroke=\"black\" fill=\"pink\"/>\n",
       "<text dominant-baseline=\"central\" text-anchor=\"middle\" font-family=\"monospace\" font-size=\"12\" x=\"992\" y=\"640\">ERR<tspan baseline-shift=\"sub\" font-size=\"10\">X</tspan></text>\n",
       "<text dominant-baseline=\"hanging\" text-anchor=\"middle\" font-family=\"monospace\" font-size=\"10\" stroke=\"red\" x=\"992\" y=\"660\">0.01</text>\n",
       "<rect x=\"976\" y=\"752\" width=\"32\" height=\"32\" stroke=\"black\" fill=\"pink\"/>\n",
       "<text dominant-baseline=\"central\" text-anchor=\"middle\" font-family=\"monospace\" font-size=\"12\" x=\"992\" y=\"768\">ERR<tspan baseline-shift=\"sub\" font-size=\"10\">X</tspan></text>\n",
       "<text dominant-baseline=\"hanging\" text-anchor=\"middle\" font-family=\"monospace\" font-size=\"10\" stroke=\"red\" x=\"992\" y=\"788\">0.01</text>\n",
       "<rect x=\"976\" y=\"880\" width=\"32\" height=\"32\" stroke=\"black\" fill=\"pink\"/>\n",
       "<text dominant-baseline=\"central\" text-anchor=\"middle\" font-family=\"monospace\" font-size=\"12\" x=\"992\" y=\"896\">ERR<tspan baseline-shift=\"sub\" font-size=\"10\">X</tspan></text>\n",
       "<text dominant-baseline=\"hanging\" text-anchor=\"middle\" font-family=\"monospace\" font-size=\"10\" stroke=\"red\" x=\"992\" y=\"916\">0.01</text>\n",
       "<rect x=\"976\" y=\"1008\" width=\"32\" height=\"32\" stroke=\"black\" fill=\"pink\"/>\n",
       "<text dominant-baseline=\"central\" text-anchor=\"middle\" font-family=\"monospace\" font-size=\"12\" x=\"992\" y=\"1024\">ERR<tspan baseline-shift=\"sub\" font-size=\"10\">X</tspan></text>\n",
       "<text dominant-baseline=\"hanging\" text-anchor=\"middle\" font-family=\"monospace\" font-size=\"10\" stroke=\"red\" x=\"992\" y=\"1044\">0.01</text>\n",
       "<rect x=\"1040\" y=\"112\" width=\"32\" height=\"32\" stroke=\"black\" fill=\"black\"/>\n",
       "<text dominant-baseline=\"central\" text-anchor=\"middle\" font-family=\"monospace\" font-size=\"24\" x=\"1056\" y=\"128\" fill=\"white\">MR</text>\n",
       "<text text-anchor=\"middle\" font-family=\"monospace\" font-size=\"8\" x=\"1056\" y=\"108\">rec[8+iter*8]</text>\n",
       "<rect x=\"1040\" y=\"240\" width=\"32\" height=\"32\" stroke=\"black\" fill=\"black\"/>\n",
       "<text dominant-baseline=\"central\" text-anchor=\"middle\" font-family=\"monospace\" font-size=\"24\" x=\"1056\" y=\"256\" fill=\"white\">MR</text>\n",
       "<text text-anchor=\"middle\" font-family=\"monospace\" font-size=\"8\" x=\"1056\" y=\"236\">rec[9+iter*8]</text>\n",
       "<rect x=\"1040\" y=\"368\" width=\"32\" height=\"32\" stroke=\"black\" fill=\"black\"/>\n",
       "<text dominant-baseline=\"central\" text-anchor=\"middle\" font-family=\"monospace\" font-size=\"24\" x=\"1056\" y=\"384\" fill=\"white\">MR</text>\n",
       "<text text-anchor=\"middle\" font-family=\"monospace\" font-size=\"8\" x=\"1056\" y=\"364\">rec[10+iter*8]</text>\n",
       "<rect x=\"1040\" y=\"496\" width=\"32\" height=\"32\" stroke=\"black\" fill=\"black\"/>\n",
       "<text dominant-baseline=\"central\" text-anchor=\"middle\" font-family=\"monospace\" font-size=\"24\" x=\"1056\" y=\"512\" fill=\"white\">MR</text>\n",
       "<text text-anchor=\"middle\" font-family=\"monospace\" font-size=\"8\" x=\"1056\" y=\"492\">rec[11+iter*8]</text>\n",
       "<rect x=\"1040\" y=\"624\" width=\"32\" height=\"32\" stroke=\"black\" fill=\"black\"/>\n",
       "<text dominant-baseline=\"central\" text-anchor=\"middle\" font-family=\"monospace\" font-size=\"24\" x=\"1056\" y=\"640\" fill=\"white\">MR</text>\n",
       "<text text-anchor=\"middle\" font-family=\"monospace\" font-size=\"8\" x=\"1056\" y=\"620\">rec[12+iter*8]</text>\n",
       "<rect x=\"1040\" y=\"752\" width=\"32\" height=\"32\" stroke=\"black\" fill=\"black\"/>\n",
       "<text dominant-baseline=\"central\" text-anchor=\"middle\" font-family=\"monospace\" font-size=\"24\" x=\"1056\" y=\"768\" fill=\"white\">MR</text>\n",
       "<text text-anchor=\"middle\" font-family=\"monospace\" font-size=\"8\" x=\"1056\" y=\"748\">rec[13+iter*8]</text>\n",
       "<rect x=\"1040\" y=\"880\" width=\"32\" height=\"32\" stroke=\"black\" fill=\"black\"/>\n",
       "<text dominant-baseline=\"central\" text-anchor=\"middle\" font-family=\"monospace\" font-size=\"24\" x=\"1056\" y=\"896\" fill=\"white\">MR</text>\n",
       "<text text-anchor=\"middle\" font-family=\"monospace\" font-size=\"8\" x=\"1056\" y=\"876\">rec[14+iter*8]</text>\n",
       "<rect x=\"1040\" y=\"1008\" width=\"32\" height=\"32\" stroke=\"black\" fill=\"black\"/>\n",
       "<text dominant-baseline=\"central\" text-anchor=\"middle\" font-family=\"monospace\" font-size=\"24\" x=\"1056\" y=\"1024\" fill=\"white\">MR</text>\n",
       "<text text-anchor=\"middle\" font-family=\"monospace\" font-size=\"8\" x=\"1056\" y=\"1004\">rec[15+iter*8]</text>\n",
       "<rect x=\"1104\" y=\"112\" width=\"224\" height=\"32\" stroke=\"black\" fill=\"lightgray\"/>\n",
       "<text dominant-baseline=\"central\" text-anchor=\"middle\" font-family=\"monospace\" font-size=\"16\" x=\"1216\" y=\"128\">DETECTOR</text>\n",
       "<text dominant-baseline=\"hanging\" text-anchor=\"middle\" font-family=\"monospace\" font-size=\"8\" x=\"1216\" y=\"148\">coords=(1,1+iter)</text>\n",
       "<text text-anchor=\"middle\" font-family=\"monospace\" font-size=\"8\" x=\"1216\" y=\"108\">D[8+iter*8] = rec[8+iter*8]*rec[0+iter*8]</text>\n",
       "<rect x=\"1104\" y=\"240\" width=\"224\" height=\"32\" stroke=\"black\" fill=\"lightgray\"/>\n",
       "<text dominant-baseline=\"central\" text-anchor=\"middle\" font-family=\"monospace\" font-size=\"16\" x=\"1216\" y=\"256\">DETECTOR</text>\n",
       "<text dominant-baseline=\"hanging\" text-anchor=\"middle\" font-family=\"monospace\" font-size=\"8\" x=\"1216\" y=\"276\">coords=(3,1+iter)</text>\n",
       "<text text-anchor=\"middle\" font-family=\"monospace\" font-size=\"8\" x=\"1216\" y=\"236\">D[9+iter*8] = rec[9+iter*8]*rec[1+iter*8]</text>\n",
       "<rect x=\"1104\" y=\"368\" width=\"224\" height=\"32\" stroke=\"black\" fill=\"lightgray\"/>\n",
       "<text dominant-baseline=\"central\" text-anchor=\"middle\" font-family=\"monospace\" font-size=\"16\" x=\"1216\" y=\"384\">DETECTOR</text>\n",
       "<text dominant-baseline=\"hanging\" text-anchor=\"middle\" font-family=\"monospace\" font-size=\"8\" x=\"1216\" y=\"404\">coords=(5,1+iter)</text>\n",
       "<text text-anchor=\"middle\" font-family=\"monospace\" font-size=\"8\" x=\"1216\" y=\"364\">D[10+iter*8] = rec[10+iter*8]*rec[2+iter*8]</text>\n",
       "<rect x=\"1104\" y=\"496\" width=\"224\" height=\"32\" stroke=\"black\" fill=\"lightgray\"/>\n",
       "<text dominant-baseline=\"central\" text-anchor=\"middle\" font-family=\"monospace\" font-size=\"16\" x=\"1216\" y=\"512\">DETECTOR</text>\n",
       "<text dominant-baseline=\"hanging\" text-anchor=\"middle\" font-family=\"monospace\" font-size=\"8\" x=\"1216\" y=\"532\">coords=(7,1+iter)</text>\n",
       "<text text-anchor=\"middle\" font-family=\"monospace\" font-size=\"8\" x=\"1216\" y=\"492\">D[11+iter*8] = rec[11+iter*8]*rec[3+iter*8]</text>\n",
       "<rect x=\"1104\" y=\"624\" width=\"224\" height=\"32\" stroke=\"black\" fill=\"lightgray\"/>\n",
       "<text dominant-baseline=\"central\" text-anchor=\"middle\" font-family=\"monospace\" font-size=\"16\" x=\"1216\" y=\"640\">DETECTOR</text>\n",
       "<text dominant-baseline=\"hanging\" text-anchor=\"middle\" font-family=\"monospace\" font-size=\"8\" x=\"1216\" y=\"660\">coords=(9,1+iter)</text>\n",
       "<text text-anchor=\"middle\" font-family=\"monospace\" font-size=\"8\" x=\"1216\" y=\"620\">D[12+iter*8] = rec[12+iter*8]*rec[4+iter*8]</text>\n",
       "<rect x=\"1104\" y=\"752\" width=\"224\" height=\"32\" stroke=\"black\" fill=\"lightgray\"/>\n",
       "<text dominant-baseline=\"central\" text-anchor=\"middle\" font-family=\"monospace\" font-size=\"16\" x=\"1216\" y=\"768\">DETECTOR</text>\n",
       "<text dominant-baseline=\"hanging\" text-anchor=\"middle\" font-family=\"monospace\" font-size=\"8\" x=\"1216\" y=\"788\">coords=(11,1+iter)</text>\n",
       "<text text-anchor=\"middle\" font-family=\"monospace\" font-size=\"8\" x=\"1216\" y=\"748\">D[13+iter*8] = rec[13+iter*8]*rec[5+iter*8]</text>\n",
       "<rect x=\"1104\" y=\"880\" width=\"224\" height=\"32\" stroke=\"black\" fill=\"lightgray\"/>\n",
       "<text dominant-baseline=\"central\" text-anchor=\"middle\" font-family=\"monospace\" font-size=\"16\" x=\"1216\" y=\"896\">DETECTOR</text>\n",
       "<text dominant-baseline=\"hanging\" text-anchor=\"middle\" font-family=\"monospace\" font-size=\"8\" x=\"1216\" y=\"916\">coords=(13,1+iter)</text>\n",
       "<text text-anchor=\"middle\" font-family=\"monospace\" font-size=\"8\" x=\"1216\" y=\"876\">D[14+iter*8] = rec[14+iter*8]*rec[6+iter*8]</text>\n",
       "<rect x=\"1104\" y=\"1008\" width=\"224\" height=\"32\" stroke=\"black\" fill=\"lightgray\"/>\n",
       "<text dominant-baseline=\"central\" text-anchor=\"middle\" font-family=\"monospace\" font-size=\"16\" x=\"1216\" y=\"1024\">DETECTOR</text>\n",
       "<text dominant-baseline=\"hanging\" text-anchor=\"middle\" font-family=\"monospace\" font-size=\"8\" x=\"1216\" y=\"1044\">coords=(15,1+iter)</text>\n",
       "<text text-anchor=\"middle\" font-family=\"monospace\" font-size=\"8\" x=\"1216\" y=\"1004\">D[15+iter*8] = rec[15+iter*8]*rec[7+iter*8]</text>\n",
       "<path d=\"M964,40 L964,32 L1340,32 L1340,40 \" stroke=\"black\" fill=\"none\"/>\n",
       "<path d=\"M964,1144 L964,1152 L1340,1152 L1340,1144 \" stroke=\"black\" fill=\"none\"/>\n",
       "<path d=\"M1368,32 L1376,32 L1376,1152 L1368,1152 \" stroke=\"black\" fill=\"none\"/>\n",
       "<rect x=\"1424\" y=\"48\" width=\"32\" height=\"32\" stroke=\"black\" fill=\"pink\"/>\n",
       "<text dominant-baseline=\"central\" text-anchor=\"middle\" font-family=\"monospace\" font-size=\"12\" x=\"1440\" y=\"64\">ERR<tspan baseline-shift=\"sub\" font-size=\"10\">X</tspan></text>\n",
       "<text dominant-baseline=\"hanging\" text-anchor=\"middle\" font-family=\"monospace\" font-size=\"10\" stroke=\"red\" x=\"1440\" y=\"84\">0.01</text>\n",
       "<rect x=\"1424\" y=\"176\" width=\"32\" height=\"32\" stroke=\"black\" fill=\"pink\"/>\n",
       "<text dominant-baseline=\"central\" text-anchor=\"middle\" font-family=\"monospace\" font-size=\"12\" x=\"1440\" y=\"192\">ERR<tspan baseline-shift=\"sub\" font-size=\"10\">X</tspan></text>\n",
       "<text dominant-baseline=\"hanging\" text-anchor=\"middle\" font-family=\"monospace\" font-size=\"10\" stroke=\"red\" x=\"1440\" y=\"212\">0.01</text>\n",
       "<rect x=\"1424\" y=\"304\" width=\"32\" height=\"32\" stroke=\"black\" fill=\"pink\"/>\n",
       "<text dominant-baseline=\"central\" text-anchor=\"middle\" font-family=\"monospace\" font-size=\"12\" x=\"1440\" y=\"320\">ERR<tspan baseline-shift=\"sub\" font-size=\"10\">X</tspan></text>\n",
       "<text dominant-baseline=\"hanging\" text-anchor=\"middle\" font-family=\"monospace\" font-size=\"10\" stroke=\"red\" x=\"1440\" y=\"340\">0.01</text>\n",
       "<rect x=\"1424\" y=\"432\" width=\"32\" height=\"32\" stroke=\"black\" fill=\"pink\"/>\n",
       "<text dominant-baseline=\"central\" text-anchor=\"middle\" font-family=\"monospace\" font-size=\"12\" x=\"1440\" y=\"448\">ERR<tspan baseline-shift=\"sub\" font-size=\"10\">X</tspan></text>\n",
       "<text dominant-baseline=\"hanging\" text-anchor=\"middle\" font-family=\"monospace\" font-size=\"10\" stroke=\"red\" x=\"1440\" y=\"468\">0.01</text>\n",
       "<rect x=\"1424\" y=\"560\" width=\"32\" height=\"32\" stroke=\"black\" fill=\"pink\"/>\n",
       "<text dominant-baseline=\"central\" text-anchor=\"middle\" font-family=\"monospace\" font-size=\"12\" x=\"1440\" y=\"576\">ERR<tspan baseline-shift=\"sub\" font-size=\"10\">X</tspan></text>\n",
       "<text dominant-baseline=\"hanging\" text-anchor=\"middle\" font-family=\"monospace\" font-size=\"10\" stroke=\"red\" x=\"1440\" y=\"596\">0.01</text>\n",
       "<rect x=\"1424\" y=\"688\" width=\"32\" height=\"32\" stroke=\"black\" fill=\"pink\"/>\n",
       "<text dominant-baseline=\"central\" text-anchor=\"middle\" font-family=\"monospace\" font-size=\"12\" x=\"1440\" y=\"704\">ERR<tspan baseline-shift=\"sub\" font-size=\"10\">X</tspan></text>\n",
       "<text dominant-baseline=\"hanging\" text-anchor=\"middle\" font-family=\"monospace\" font-size=\"10\" stroke=\"red\" x=\"1440\" y=\"724\">0.01</text>\n",
       "<rect x=\"1424\" y=\"816\" width=\"32\" height=\"32\" stroke=\"black\" fill=\"pink\"/>\n",
       "<text dominant-baseline=\"central\" text-anchor=\"middle\" font-family=\"monospace\" font-size=\"12\" x=\"1440\" y=\"832\">ERR<tspan baseline-shift=\"sub\" font-size=\"10\">X</tspan></text>\n",
       "<text dominant-baseline=\"hanging\" text-anchor=\"middle\" font-family=\"monospace\" font-size=\"10\" stroke=\"red\" x=\"1440\" y=\"852\">0.01</text>\n",
       "<rect x=\"1424\" y=\"944\" width=\"32\" height=\"32\" stroke=\"black\" fill=\"pink\"/>\n",
       "<text dominant-baseline=\"central\" text-anchor=\"middle\" font-family=\"monospace\" font-size=\"12\" x=\"1440\" y=\"960\">ERR<tspan baseline-shift=\"sub\" font-size=\"10\">X</tspan></text>\n",
       "<text dominant-baseline=\"hanging\" text-anchor=\"middle\" font-family=\"monospace\" font-size=\"10\" stroke=\"red\" x=\"1440\" y=\"980\">0.01</text>\n",
       "<rect x=\"1424\" y=\"1072\" width=\"32\" height=\"32\" stroke=\"black\" fill=\"pink\"/>\n",
       "<text dominant-baseline=\"central\" text-anchor=\"middle\" font-family=\"monospace\" font-size=\"12\" x=\"1440\" y=\"1088\">ERR<tspan baseline-shift=\"sub\" font-size=\"10\">X</tspan></text>\n",
       "<text dominant-baseline=\"hanging\" text-anchor=\"middle\" font-family=\"monospace\" font-size=\"10\" stroke=\"red\" x=\"1440\" y=\"1108\">0.01</text>\n",
       "<rect x=\"1488\" y=\"48\" width=\"32\" height=\"32\" stroke=\"black\" fill=\"black\"/>\n",
       "<text dominant-baseline=\"central\" text-anchor=\"middle\" font-family=\"monospace\" font-size=\"30\" x=\"1504\" y=\"64\" fill=\"white\">M</text>\n",
       "<text text-anchor=\"middle\" font-family=\"monospace\" font-size=\"8\" x=\"1504\" y=\"44\">rec[200]</text>\n",
       "<rect x=\"1488\" y=\"176\" width=\"32\" height=\"32\" stroke=\"black\" fill=\"black\"/>\n",
       "<text dominant-baseline=\"central\" text-anchor=\"middle\" font-family=\"monospace\" font-size=\"30\" x=\"1504\" y=\"192\" fill=\"white\">M</text>\n",
       "<text text-anchor=\"middle\" font-family=\"monospace\" font-size=\"8\" x=\"1504\" y=\"172\">rec[201]</text>\n",
       "<rect x=\"1488\" y=\"304\" width=\"32\" height=\"32\" stroke=\"black\" fill=\"black\"/>\n",
       "<text dominant-baseline=\"central\" text-anchor=\"middle\" font-family=\"monospace\" font-size=\"30\" x=\"1504\" y=\"320\" fill=\"white\">M</text>\n",
       "<text text-anchor=\"middle\" font-family=\"monospace\" font-size=\"8\" x=\"1504\" y=\"300\">rec[202]</text>\n",
       "<rect x=\"1488\" y=\"432\" width=\"32\" height=\"32\" stroke=\"black\" fill=\"black\"/>\n",
       "<text dominant-baseline=\"central\" text-anchor=\"middle\" font-family=\"monospace\" font-size=\"30\" x=\"1504\" y=\"448\" fill=\"white\">M</text>\n",
       "<text text-anchor=\"middle\" font-family=\"monospace\" font-size=\"8\" x=\"1504\" y=\"428\">rec[203]</text>\n",
       "<rect x=\"1488\" y=\"560\" width=\"32\" height=\"32\" stroke=\"black\" fill=\"black\"/>\n",
       "<text dominant-baseline=\"central\" text-anchor=\"middle\" font-family=\"monospace\" font-size=\"30\" x=\"1504\" y=\"576\" fill=\"white\">M</text>\n",
       "<text text-anchor=\"middle\" font-family=\"monospace\" font-size=\"8\" x=\"1504\" y=\"556\">rec[204]</text>\n",
       "<rect x=\"1488\" y=\"688\" width=\"32\" height=\"32\" stroke=\"black\" fill=\"black\"/>\n",
       "<text dominant-baseline=\"central\" text-anchor=\"middle\" font-family=\"monospace\" font-size=\"30\" x=\"1504\" y=\"704\" fill=\"white\">M</text>\n",
       "<text text-anchor=\"middle\" font-family=\"monospace\" font-size=\"8\" x=\"1504\" y=\"684\">rec[205]</text>\n",
       "<rect x=\"1488\" y=\"816\" width=\"32\" height=\"32\" stroke=\"black\" fill=\"black\"/>\n",
       "<text dominant-baseline=\"central\" text-anchor=\"middle\" font-family=\"monospace\" font-size=\"30\" x=\"1504\" y=\"832\" fill=\"white\">M</text>\n",
       "<text text-anchor=\"middle\" font-family=\"monospace\" font-size=\"8\" x=\"1504\" y=\"812\">rec[206]</text>\n",
       "<rect x=\"1488\" y=\"944\" width=\"32\" height=\"32\" stroke=\"black\" fill=\"black\"/>\n",
       "<text dominant-baseline=\"central\" text-anchor=\"middle\" font-family=\"monospace\" font-size=\"30\" x=\"1504\" y=\"960\" fill=\"white\">M</text>\n",
       "<text text-anchor=\"middle\" font-family=\"monospace\" font-size=\"8\" x=\"1504\" y=\"940\">rec[207]</text>\n",
       "<rect x=\"1488\" y=\"1072\" width=\"32\" height=\"32\" stroke=\"black\" fill=\"black\"/>\n",
       "<text dominant-baseline=\"central\" text-anchor=\"middle\" font-family=\"monospace\" font-size=\"30\" x=\"1504\" y=\"1088\" fill=\"white\">M</text>\n",
       "<text text-anchor=\"middle\" font-family=\"monospace\" font-size=\"8\" x=\"1504\" y=\"1068\">rec[208]</text>\n",
       "<rect x=\"1552\" y=\"48\" width=\"288\" height=\"32\" stroke=\"black\" fill=\"lightgray\"/>\n",
       "<text dominant-baseline=\"central\" text-anchor=\"middle\" font-family=\"monospace\" font-size=\"16\" x=\"1696\" y=\"64\">DETECTOR</text>\n",
       "<text dominant-baseline=\"hanging\" text-anchor=\"middle\" font-family=\"monospace\" font-size=\"8\" x=\"1696\" y=\"84\">coords=(1,25)</text>\n",
       "<text text-anchor=\"middle\" font-family=\"monospace\" font-size=\"8\" x=\"1696\" y=\"44\">D200 = rec[201]*rec[200]*rec[192]</text>\n",
       "<rect x=\"1552\" y=\"176\" width=\"288\" height=\"32\" stroke=\"black\" fill=\"lightgray\"/>\n",
       "<text dominant-baseline=\"central\" text-anchor=\"middle\" font-family=\"monospace\" font-size=\"16\" x=\"1696\" y=\"192\">DETECTOR</text>\n",
       "<text dominant-baseline=\"hanging\" text-anchor=\"middle\" font-family=\"monospace\" font-size=\"8\" x=\"1696\" y=\"212\">coords=(3,25)</text>\n",
       "<text text-anchor=\"middle\" font-family=\"monospace\" font-size=\"8\" x=\"1696\" y=\"172\">D201 = rec[202]*rec[201]*rec[193]</text>\n",
       "<rect x=\"1552\" y=\"304\" width=\"288\" height=\"32\" stroke=\"black\" fill=\"lightgray\"/>\n",
       "<text dominant-baseline=\"central\" text-anchor=\"middle\" font-family=\"monospace\" font-size=\"16\" x=\"1696\" y=\"320\">DETECTOR</text>\n",
       "<text dominant-baseline=\"hanging\" text-anchor=\"middle\" font-family=\"monospace\" font-size=\"8\" x=\"1696\" y=\"340\">coords=(5,25)</text>\n",
       "<text text-anchor=\"middle\" font-family=\"monospace\" font-size=\"8\" x=\"1696\" y=\"300\">D202 = rec[203]*rec[202]*rec[194]</text>\n",
       "<rect x=\"1552\" y=\"432\" width=\"288\" height=\"32\" stroke=\"black\" fill=\"lightgray\"/>\n",
       "<text dominant-baseline=\"central\" text-anchor=\"middle\" font-family=\"monospace\" font-size=\"16\" x=\"1696\" y=\"448\">DETECTOR</text>\n",
       "<text dominant-baseline=\"hanging\" text-anchor=\"middle\" font-family=\"monospace\" font-size=\"8\" x=\"1696\" y=\"468\">coords=(7,25)</text>\n",
       "<text text-anchor=\"middle\" font-family=\"monospace\" font-size=\"8\" x=\"1696\" y=\"428\">D203 = rec[204]*rec[203]*rec[195]</text>\n",
       "<rect x=\"1552\" y=\"560\" width=\"288\" height=\"32\" stroke=\"black\" fill=\"lightgray\"/>\n",
       "<text dominant-baseline=\"central\" text-anchor=\"middle\" font-family=\"monospace\" font-size=\"16\" x=\"1696\" y=\"576\">DETECTOR</text>\n",
       "<text dominant-baseline=\"hanging\" text-anchor=\"middle\" font-family=\"monospace\" font-size=\"8\" x=\"1696\" y=\"596\">coords=(9,25)</text>\n",
       "<text text-anchor=\"middle\" font-family=\"monospace\" font-size=\"8\" x=\"1696\" y=\"556\">D204 = rec[205]*rec[204]*rec[196]</text>\n",
       "<rect x=\"1552\" y=\"688\" width=\"288\" height=\"32\" stroke=\"black\" fill=\"lightgray\"/>\n",
       "<text dominant-baseline=\"central\" text-anchor=\"middle\" font-family=\"monospace\" font-size=\"16\" x=\"1696\" y=\"704\">DETECTOR</text>\n",
       "<text dominant-baseline=\"hanging\" text-anchor=\"middle\" font-family=\"monospace\" font-size=\"8\" x=\"1696\" y=\"724\">coords=(11,25)</text>\n",
       "<text text-anchor=\"middle\" font-family=\"monospace\" font-size=\"8\" x=\"1696\" y=\"684\">D205 = rec[206]*rec[205]*rec[197]</text>\n",
       "<rect x=\"1552\" y=\"816\" width=\"288\" height=\"32\" stroke=\"black\" fill=\"lightgray\"/>\n",
       "<text dominant-baseline=\"central\" text-anchor=\"middle\" font-family=\"monospace\" font-size=\"16\" x=\"1696\" y=\"832\">DETECTOR</text>\n",
       "<text dominant-baseline=\"hanging\" text-anchor=\"middle\" font-family=\"monospace\" font-size=\"8\" x=\"1696\" y=\"852\">coords=(13,25)</text>\n",
       "<text text-anchor=\"middle\" font-family=\"monospace\" font-size=\"8\" x=\"1696\" y=\"812\">D206 = rec[207]*rec[206]*rec[198]</text>\n",
       "<rect x=\"1552\" y=\"944\" width=\"288\" height=\"32\" stroke=\"black\" fill=\"lightgray\"/>\n",
       "<text dominant-baseline=\"central\" text-anchor=\"middle\" font-family=\"monospace\" font-size=\"16\" x=\"1696\" y=\"960\">DETECTOR</text>\n",
       "<text dominant-baseline=\"hanging\" text-anchor=\"middle\" font-family=\"monospace\" font-size=\"8\" x=\"1696\" y=\"980\">coords=(15,25)</text>\n",
       "<text text-anchor=\"middle\" font-family=\"monospace\" font-size=\"8\" x=\"1696\" y=\"940\">D207 = rec[208]*rec[207]*rec[199]</text>\n",
       "<rect x=\"1552\" y=\"1072\" width=\"160\" height=\"32\" stroke=\"black\" fill=\"lightgray\"/>\n",
       "<text dominant-baseline=\"central\" text-anchor=\"middle\" font-family=\"monospace\" font-size=\"16\" x=\"1632\" y=\"1088\">OBS_INCLUDE(0)</text>\n",
       "<text text-anchor=\"middle\" font-family=\"monospace\" font-size=\"8\" x=\"1632\" y=\"1068\">L0 *= rec[208]</text>\n",
       "<path d=\"M1412,40 L1412,32 L1852,32 L1852,40 \" stroke=\"black\" fill=\"none\"/>\n",
       "<path d=\"M1412,1144 L1412,1152 L1852,1152 L1852,1144 \" stroke=\"black\" fill=\"none\"/>\n",
       "</svg>"
      ],
      "text/plain": [
       "<svg viewBox=\"0 0 1888 1184\"  version=\"1.1\" xmlns=\"http://www.w3.org/2000/svg\">\n",
       "<g id=\"qubit_lines\">\n",
       "<path id=\"qubit_line:0\" d=\"M64,64 L1856,64 \" stroke=\"black\"/>\n",
       "<text dominant-baseline=\"central\" text-anchor=\"end\" font-family=\"monospace\" font-size=\"12\" x=\"64\" y=\"64\">q0</text>\n",
       "<path id=\"qubit_line:1\" d=\"M64,128 L1856,128 \" stroke=\"black\"/>\n",
       "<text dominant-baseline=\"central\" text-anchor=\"end\" font-family=\"monospace\" font-size=\"12\" x=\"64\" y=\"128\">q1</text>\n",
       "<path id=\"qubit_line:2\" d=\"M64,192 L1856,192 \" stroke=\"black\"/>\n",
       "<text dominant-baseline=\"central\" text-anchor=\"end\" font-family=\"monospace\" font-size=\"12\" x=\"64\" y=\"192\">q2</text>\n",
       "<path id=\"qubit_line:3\" d=\"M64,256 L1856,256 \" stroke=\"black\"/>\n",
       "<text dominant-baseline=\"central\" text-anchor=\"end\" font-family=\"monospace\" font-size=\"12\" x=\"64\" y=\"256\">q3</text>\n",
       "<path id=\"qubit_line:4\" d=\"M64,320 L1856,320 \" stroke=\"black\"/>\n",
       "<text dominant-baseline=\"central\" text-anchor=\"end\" font-family=\"monospace\" font-size=\"12\" x=\"64\" y=\"320\">q4</text>\n",
       "<path id=\"qubit_line:5\" d=\"M64,384 L1856,384 \" stroke=\"black\"/>\n",
       "<text dominant-baseline=\"central\" text-anchor=\"end\" font-family=\"monospace\" font-size=\"12\" x=\"64\" y=\"384\">q5</text>\n",
       "<path id=\"qubit_line:6\" d=\"M64,448 L1856,448 \" stroke=\"black\"/>\n",
       "<text dominant-baseline=\"central\" text-anchor=\"end\" font-family=\"monospace\" font-size=\"12\" x=\"64\" y=\"448\">q6</text>\n",
       "<path id=\"qubit_line:7\" d=\"M64,512 L1856,512 \" stroke=\"black\"/>\n",
       "<text dominant-baseline=\"central\" text-anchor=\"end\" font-family=\"monospace\" font-size=\"12\" x=\"64\" y=\"512\">q7</text>\n",
       "<path id=\"qubit_line:8\" d=\"M64,576 L1856,576 \" stroke=\"black\"/>\n",
       "<text dominant-baseline=\"central\" text-anchor=\"end\" font-family=\"monospace\" font-size=\"12\" x=\"64\" y=\"576\">q8</text>\n",
       "<path id=\"qubit_line:9\" d=\"M64,640 L1856,640 \" stroke=\"black\"/>\n",
       "<text dominant-baseline=\"central\" text-anchor=\"end\" font-family=\"monospace\" font-size=\"12\" x=\"64\" y=\"640\">q9</text>\n",
       "<path id=\"qubit_line:10\" d=\"M64,704 L1856,704 \" stroke=\"black\"/>\n",
       "<text dominant-baseline=\"central\" text-anchor=\"end\" font-family=\"monospace\" font-size=\"12\" x=\"64\" y=\"704\">q10</text>\n",
       "<path id=\"qubit_line:11\" d=\"M64,768 L1856,768 \" stroke=\"black\"/>\n",
       "<text dominant-baseline=\"central\" text-anchor=\"end\" font-family=\"monospace\" font-size=\"12\" x=\"64\" y=\"768\">q11</text>\n",
       "<path id=\"qubit_line:12\" d=\"M64,832 L1856,832 \" stroke=\"black\"/>\n",
       "<text dominant-baseline=\"central\" text-anchor=\"end\" font-family=\"monospace\" font-size=\"12\" x=\"64\" y=\"832\">q12</text>\n",
       "<path id=\"qubit_line:13\" d=\"M64,896 L1856,896 \" stroke=\"black\"/>\n",
       "<text dominant-baseline=\"central\" text-anchor=\"end\" font-family=\"monospace\" font-size=\"12\" x=\"64\" y=\"896\">q13</text>\n",
       "<path id=\"qubit_line:14\" d=\"M64,960 L1856,960 \" stroke=\"black\"/>\n",
       "<text dominant-baseline=\"central\" text-anchor=\"end\" font-family=\"monospace\" font-size=\"12\" x=\"64\" y=\"960\">q14</text>\n",
       "<path id=\"qubit_line:15\" d=\"M64,1024 L1856,1024 \" stroke=\"black\"/>\n",
       "<text dominant-baseline=\"central\" text-anchor=\"end\" font-family=\"monospace\" font-size=\"12\" x=\"64\" y=\"1024\">q15</text>\n",
       "<path id=\"qubit_line:16\" d=\"M64,1088 L1856,1088 \" stroke=\"black\"/>\n",
       "<text dominant-baseline=\"central\" text-anchor=\"end\" font-family=\"monospace\" font-size=\"12\" x=\"64\" y=\"1088\">q16</text>\n",
       "</g>\n",
       "<rect x=\"80\" y=\"48\" width=\"32\" height=\"32\" stroke=\"black\" fill=\"black\"/>\n",
       "<text dominant-baseline=\"central\" text-anchor=\"middle\" font-family=\"monospace\" font-size=\"30\" x=\"96\" y=\"64\" fill=\"white\">R</text>\n",
       "<rect x=\"80\" y=\"112\" width=\"32\" height=\"32\" stroke=\"black\" fill=\"black\"/>\n",
       "<text dominant-baseline=\"central\" text-anchor=\"middle\" font-family=\"monospace\" font-size=\"30\" x=\"96\" y=\"128\" fill=\"white\">R</text>\n",
       "<rect x=\"80\" y=\"176\" width=\"32\" height=\"32\" stroke=\"black\" fill=\"black\"/>\n",
       "<text dominant-baseline=\"central\" text-anchor=\"middle\" font-family=\"monospace\" font-size=\"30\" x=\"96\" y=\"192\" fill=\"white\">R</text>\n",
       "<rect x=\"80\" y=\"240\" width=\"32\" height=\"32\" stroke=\"black\" fill=\"black\"/>\n",
       "<text dominant-baseline=\"central\" text-anchor=\"middle\" font-family=\"monospace\" font-size=\"30\" x=\"96\" y=\"256\" fill=\"white\">R</text>\n",
       "<rect x=\"80\" y=\"304\" width=\"32\" height=\"32\" stroke=\"black\" fill=\"black\"/>\n",
       "<text dominant-baseline=\"central\" text-anchor=\"middle\" font-family=\"monospace\" font-size=\"30\" x=\"96\" y=\"320\" fill=\"white\">R</text>\n",
       "<rect x=\"80\" y=\"368\" width=\"32\" height=\"32\" stroke=\"black\" fill=\"black\"/>\n",
       "<text dominant-baseline=\"central\" text-anchor=\"middle\" font-family=\"monospace\" font-size=\"30\" x=\"96\" y=\"384\" fill=\"white\">R</text>\n",
       "<rect x=\"80\" y=\"432\" width=\"32\" height=\"32\" stroke=\"black\" fill=\"black\"/>\n",
       "<text dominant-baseline=\"central\" text-anchor=\"middle\" font-family=\"monospace\" font-size=\"30\" x=\"96\" y=\"448\" fill=\"white\">R</text>\n",
       "<rect x=\"80\" y=\"496\" width=\"32\" height=\"32\" stroke=\"black\" fill=\"black\"/>\n",
       "<text dominant-baseline=\"central\" text-anchor=\"middle\" font-family=\"monospace\" font-size=\"30\" x=\"96\" y=\"512\" fill=\"white\">R</text>\n",
       "<rect x=\"80\" y=\"560\" width=\"32\" height=\"32\" stroke=\"black\" fill=\"black\"/>\n",
       "<text dominant-baseline=\"central\" text-anchor=\"middle\" font-family=\"monospace\" font-size=\"30\" x=\"96\" y=\"576\" fill=\"white\">R</text>\n",
       "<rect x=\"80\" y=\"624\" width=\"32\" height=\"32\" stroke=\"black\" fill=\"black\"/>\n",
       "<text dominant-baseline=\"central\" text-anchor=\"middle\" font-family=\"monospace\" font-size=\"30\" x=\"96\" y=\"640\" fill=\"white\">R</text>\n",
       "<rect x=\"80\" y=\"688\" width=\"32\" height=\"32\" stroke=\"black\" fill=\"black\"/>\n",
       "<text dominant-baseline=\"central\" text-anchor=\"middle\" font-family=\"monospace\" font-size=\"30\" x=\"96\" y=\"704\" fill=\"white\">R</text>\n",
       "<rect x=\"80\" y=\"752\" width=\"32\" height=\"32\" stroke=\"black\" fill=\"black\"/>\n",
       "<text dominant-baseline=\"central\" text-anchor=\"middle\" font-family=\"monospace\" font-size=\"30\" x=\"96\" y=\"768\" fill=\"white\">R</text>\n",
       "<rect x=\"80\" y=\"816\" width=\"32\" height=\"32\" stroke=\"black\" fill=\"black\"/>\n",
       "<text dominant-baseline=\"central\" text-anchor=\"middle\" font-family=\"monospace\" font-size=\"30\" x=\"96\" y=\"832\" fill=\"white\">R</text>\n",
       "<rect x=\"80\" y=\"880\" width=\"32\" height=\"32\" stroke=\"black\" fill=\"black\"/>\n",
       "<text dominant-baseline=\"central\" text-anchor=\"middle\" font-family=\"monospace\" font-size=\"30\" x=\"96\" y=\"896\" fill=\"white\">R</text>\n",
       "<rect x=\"80\" y=\"944\" width=\"32\" height=\"32\" stroke=\"black\" fill=\"black\"/>\n",
       "<text dominant-baseline=\"central\" text-anchor=\"middle\" font-family=\"monospace\" font-size=\"30\" x=\"96\" y=\"960\" fill=\"white\">R</text>\n",
       "<rect x=\"80\" y=\"1008\" width=\"32\" height=\"32\" stroke=\"black\" fill=\"black\"/>\n",
       "<text dominant-baseline=\"central\" text-anchor=\"middle\" font-family=\"monospace\" font-size=\"30\" x=\"96\" y=\"1024\" fill=\"white\">R</text>\n",
       "<rect x=\"80\" y=\"1072\" width=\"32\" height=\"32\" stroke=\"black\" fill=\"black\"/>\n",
       "<text dominant-baseline=\"central\" text-anchor=\"middle\" font-family=\"monospace\" font-size=\"30\" x=\"96\" y=\"1088\" fill=\"white\">R</text>\n",
       "<rect x=\"144\" y=\"48\" width=\"32\" height=\"32\" stroke=\"black\" fill=\"pink\"/>\n",
       "<text dominant-baseline=\"central\" text-anchor=\"middle\" font-family=\"monospace\" font-size=\"12\" x=\"160\" y=\"64\">DEP<tspan baseline-shift=\"sub\" font-size=\"10\">1</tspan></text>\n",
       "<text dominant-baseline=\"hanging\" text-anchor=\"middle\" font-family=\"monospace\" font-size=\"10\" stroke=\"red\" x=\"160\" y=\"84\">0.04</text>\n",
       "<rect x=\"144\" y=\"176\" width=\"32\" height=\"32\" stroke=\"black\" fill=\"pink\"/>\n",
       "<text dominant-baseline=\"central\" text-anchor=\"middle\" font-family=\"monospace\" font-size=\"12\" x=\"160\" y=\"192\">DEP<tspan baseline-shift=\"sub\" font-size=\"10\">1</tspan></text>\n",
       "<text dominant-baseline=\"hanging\" text-anchor=\"middle\" font-family=\"monospace\" font-size=\"10\" stroke=\"red\" x=\"160\" y=\"212\">0.04</text>\n",
       "<rect x=\"144\" y=\"304\" width=\"32\" height=\"32\" stroke=\"black\" fill=\"pink\"/>\n",
       "<text dominant-baseline=\"central\" text-anchor=\"middle\" font-family=\"monospace\" font-size=\"12\" x=\"160\" y=\"320\">DEP<tspan baseline-shift=\"sub\" font-size=\"10\">1</tspan></text>\n",
       "<text dominant-baseline=\"hanging\" text-anchor=\"middle\" font-family=\"monospace\" font-size=\"10\" stroke=\"red\" x=\"160\" y=\"340\">0.04</text>\n",
       "<rect x=\"144\" y=\"432\" width=\"32\" height=\"32\" stroke=\"black\" fill=\"pink\"/>\n",
       "<text dominant-baseline=\"central\" text-anchor=\"middle\" font-family=\"monospace\" font-size=\"12\" x=\"160\" y=\"448\">DEP<tspan baseline-shift=\"sub\" font-size=\"10\">1</tspan></text>\n",
       "<text dominant-baseline=\"hanging\" text-anchor=\"middle\" font-family=\"monospace\" font-size=\"10\" stroke=\"red\" x=\"160\" y=\"468\">0.04</text>\n",
       "<rect x=\"144\" y=\"560\" width=\"32\" height=\"32\" stroke=\"black\" fill=\"pink\"/>\n",
       "<text dominant-baseline=\"central\" text-anchor=\"middle\" font-family=\"monospace\" font-size=\"12\" x=\"160\" y=\"576\">DEP<tspan baseline-shift=\"sub\" font-size=\"10\">1</tspan></text>\n",
       "<text dominant-baseline=\"hanging\" text-anchor=\"middle\" font-family=\"monospace\" font-size=\"10\" stroke=\"red\" x=\"160\" y=\"596\">0.04</text>\n",
       "<rect x=\"144\" y=\"688\" width=\"32\" height=\"32\" stroke=\"black\" fill=\"pink\"/>\n",
       "<text dominant-baseline=\"central\" text-anchor=\"middle\" font-family=\"monospace\" font-size=\"12\" x=\"160\" y=\"704\">DEP<tspan baseline-shift=\"sub\" font-size=\"10\">1</tspan></text>\n",
       "<text dominant-baseline=\"hanging\" text-anchor=\"middle\" font-family=\"monospace\" font-size=\"10\" stroke=\"red\" x=\"160\" y=\"724\">0.04</text>\n",
       "<rect x=\"144\" y=\"816\" width=\"32\" height=\"32\" stroke=\"black\" fill=\"pink\"/>\n",
       "<text dominant-baseline=\"central\" text-anchor=\"middle\" font-family=\"monospace\" font-size=\"12\" x=\"160\" y=\"832\">DEP<tspan baseline-shift=\"sub\" font-size=\"10\">1</tspan></text>\n",
       "<text dominant-baseline=\"hanging\" text-anchor=\"middle\" font-family=\"monospace\" font-size=\"10\" stroke=\"red\" x=\"160\" y=\"852\">0.04</text>\n",
       "<rect x=\"144\" y=\"944\" width=\"32\" height=\"32\" stroke=\"black\" fill=\"pink\"/>\n",
       "<text dominant-baseline=\"central\" text-anchor=\"middle\" font-family=\"monospace\" font-size=\"12\" x=\"160\" y=\"960\">DEP<tspan baseline-shift=\"sub\" font-size=\"10\">1</tspan></text>\n",
       "<text dominant-baseline=\"hanging\" text-anchor=\"middle\" font-family=\"monospace\" font-size=\"10\" stroke=\"red\" x=\"160\" y=\"980\">0.04</text>\n",
       "<rect x=\"144\" y=\"1072\" width=\"32\" height=\"32\" stroke=\"black\" fill=\"pink\"/>\n",
       "<text dominant-baseline=\"central\" text-anchor=\"middle\" font-family=\"monospace\" font-size=\"12\" x=\"160\" y=\"1088\">DEP<tspan baseline-shift=\"sub\" font-size=\"10\">1</tspan></text>\n",
       "<text dominant-baseline=\"hanging\" text-anchor=\"middle\" font-family=\"monospace\" font-size=\"10\" stroke=\"red\" x=\"160\" y=\"1108\">0.04</text>\n",
       "<path d=\"M224,64 L224,128 \" stroke=\"black\"/>\n",
       "<circle cx=\"224\" cy=\"64\" r=\"12\" stroke=\"none\" fill=\"black\"/>\n",
       "<circle cx=\"224\" cy=\"128\" r=\"12\" stroke=\"black\" fill=\"white\"/>\n",
       "<path d=\"M212,128 L236,128 M224,116 L224,140 \" stroke=\"black\"/>\n",
       "<path d=\"M224,192 L224,256 \" stroke=\"black\"/>\n",
       "<circle cx=\"224\" cy=\"192\" r=\"12\" stroke=\"none\" fill=\"black\"/>\n",
       "<circle cx=\"224\" cy=\"256\" r=\"12\" stroke=\"black\" fill=\"white\"/>\n",
       "<path d=\"M212,256 L236,256 M224,244 L224,268 \" stroke=\"black\"/>\n",
       "<path d=\"M224,320 L224,384 \" stroke=\"black\"/>\n",
       "<circle cx=\"224\" cy=\"320\" r=\"12\" stroke=\"none\" fill=\"black\"/>\n",
       "<circle cx=\"224\" cy=\"384\" r=\"12\" stroke=\"black\" fill=\"white\"/>\n",
       "<path d=\"M212,384 L236,384 M224,372 L224,396 \" stroke=\"black\"/>\n",
       "<path d=\"M224,448 L224,512 \" stroke=\"black\"/>\n",
       "<circle cx=\"224\" cy=\"448\" r=\"12\" stroke=\"none\" fill=\"black\"/>\n",
       "<circle cx=\"224\" cy=\"512\" r=\"12\" stroke=\"black\" fill=\"white\"/>\n",
       "<path d=\"M212,512 L236,512 M224,500 L224,524 \" stroke=\"black\"/>\n",
       "<path d=\"M224,576 L224,640 \" stroke=\"black\"/>\n",
       "<circle cx=\"224\" cy=\"576\" r=\"12\" stroke=\"none\" fill=\"black\"/>\n",
       "<circle cx=\"224\" cy=\"640\" r=\"12\" stroke=\"black\" fill=\"white\"/>\n",
       "<path d=\"M212,640 L236,640 M224,628 L224,652 \" stroke=\"black\"/>\n",
       "<path d=\"M224,704 L224,768 \" stroke=\"black\"/>\n",
       "<circle cx=\"224\" cy=\"704\" r=\"12\" stroke=\"none\" fill=\"black\"/>\n",
       "<circle cx=\"224\" cy=\"768\" r=\"12\" stroke=\"black\" fill=\"white\"/>\n",
       "<path d=\"M212,768 L236,768 M224,756 L224,780 \" stroke=\"black\"/>\n",
       "<path d=\"M224,832 L224,896 \" stroke=\"black\"/>\n",
       "<circle cx=\"224\" cy=\"832\" r=\"12\" stroke=\"none\" fill=\"black\"/>\n",
       "<circle cx=\"224\" cy=\"896\" r=\"12\" stroke=\"black\" fill=\"white\"/>\n",
       "<path d=\"M212,896 L236,896 M224,884 L224,908 \" stroke=\"black\"/>\n",
       "<path d=\"M224,960 L224,1024 \" stroke=\"black\"/>\n",
       "<circle cx=\"224\" cy=\"960\" r=\"12\" stroke=\"none\" fill=\"black\"/>\n",
       "<circle cx=\"224\" cy=\"1024\" r=\"12\" stroke=\"black\" fill=\"white\"/>\n",
       "<path d=\"M212,1024 L236,1024 M224,1012 L224,1036 \" stroke=\"black\"/>\n",
       "<path d=\"M132,40 L132,32 L252,32 L252,40 \" stroke=\"black\" fill=\"none\"/>\n",
       "<path d=\"M132,1144 L132,1152 L252,1152 L252,1144 \" stroke=\"black\" fill=\"none\"/>\n",
       "<path d=\"M288,128 L288,192 \" stroke=\"black\"/>\n",
       "<circle cx=\"288\" cy=\"192\" r=\"12\" stroke=\"none\" fill=\"black\"/>\n",
       "<circle cx=\"288\" cy=\"128\" r=\"12\" stroke=\"black\" fill=\"white\"/>\n",
       "<path d=\"M276,128 L300,128 M288,116 L288,140 \" stroke=\"black\"/>\n",
       "<path d=\"M288,256 L288,320 \" stroke=\"black\"/>\n",
       "<circle cx=\"288\" cy=\"320\" r=\"12\" stroke=\"none\" fill=\"black\"/>\n",
       "<circle cx=\"288\" cy=\"256\" r=\"12\" stroke=\"black\" fill=\"white\"/>\n",
       "<path d=\"M276,256 L300,256 M288,244 L288,268 \" stroke=\"black\"/>\n",
       "<path d=\"M288,384 L288,448 \" stroke=\"black\"/>\n",
       "<circle cx=\"288\" cy=\"448\" r=\"12\" stroke=\"none\" fill=\"black\"/>\n",
       "<circle cx=\"288\" cy=\"384\" r=\"12\" stroke=\"black\" fill=\"white\"/>\n",
       "<path d=\"M276,384 L300,384 M288,372 L288,396 \" stroke=\"black\"/>\n",
       "<path d=\"M288,512 L288,576 \" stroke=\"black\"/>\n",
       "<circle cx=\"288\" cy=\"576\" r=\"12\" stroke=\"none\" fill=\"black\"/>\n",
       "<circle cx=\"288\" cy=\"512\" r=\"12\" stroke=\"black\" fill=\"white\"/>\n",
       "<path d=\"M276,512 L300,512 M288,500 L288,524 \" stroke=\"black\"/>\n",
       "<path d=\"M288,640 L288,704 \" stroke=\"black\"/>\n",
       "<circle cx=\"288\" cy=\"704\" r=\"12\" stroke=\"none\" fill=\"black\"/>\n",
       "<circle cx=\"288\" cy=\"640\" r=\"12\" stroke=\"black\" fill=\"white\"/>\n",
       "<path d=\"M276,640 L300,640 M288,628 L288,652 \" stroke=\"black\"/>\n",
       "<path d=\"M288,768 L288,832 \" stroke=\"black\"/>\n",
       "<circle cx=\"288\" cy=\"832\" r=\"12\" stroke=\"none\" fill=\"black\"/>\n",
       "<circle cx=\"288\" cy=\"768\" r=\"12\" stroke=\"black\" fill=\"white\"/>\n",
       "<path d=\"M276,768 L300,768 M288,756 L288,780 \" stroke=\"black\"/>\n",
       "<path d=\"M288,896 L288,960 \" stroke=\"black\"/>\n",
       "<circle cx=\"288\" cy=\"960\" r=\"12\" stroke=\"none\" fill=\"black\"/>\n",
       "<circle cx=\"288\" cy=\"896\" r=\"12\" stroke=\"black\" fill=\"white\"/>\n",
       "<path d=\"M276,896 L300,896 M288,884 L288,908 \" stroke=\"black\"/>\n",
       "<path d=\"M288,1024 L288,1088 \" stroke=\"black\"/>\n",
       "<circle cx=\"288\" cy=\"1088\" r=\"12\" stroke=\"none\" fill=\"black\"/>\n",
       "<circle cx=\"288\" cy=\"1024\" r=\"12\" stroke=\"black\" fill=\"white\"/>\n",
       "<path d=\"M276,1024 L300,1024 M288,1012 L288,1036 \" stroke=\"black\"/>\n",
       "<rect x=\"336\" y=\"112\" width=\"32\" height=\"32\" stroke=\"black\" fill=\"pink\"/>\n",
       "<text dominant-baseline=\"central\" text-anchor=\"middle\" font-family=\"monospace\" font-size=\"12\" x=\"352\" y=\"128\">ERR<tspan baseline-shift=\"sub\" font-size=\"10\">X</tspan></text>\n",
       "<text dominant-baseline=\"hanging\" text-anchor=\"middle\" font-family=\"monospace\" font-size=\"10\" stroke=\"red\" x=\"352\" y=\"148\">0.01</text>\n",
       "<rect x=\"336\" y=\"240\" width=\"32\" height=\"32\" stroke=\"black\" fill=\"pink\"/>\n",
       "<text dominant-baseline=\"central\" text-anchor=\"middle\" font-family=\"monospace\" font-size=\"12\" x=\"352\" y=\"256\">ERR<tspan baseline-shift=\"sub\" font-size=\"10\">X</tspan></text>\n",
       "<text dominant-baseline=\"hanging\" text-anchor=\"middle\" font-family=\"monospace\" font-size=\"10\" stroke=\"red\" x=\"352\" y=\"276\">0.01</text>\n",
       "<rect x=\"336\" y=\"368\" width=\"32\" height=\"32\" stroke=\"black\" fill=\"pink\"/>\n",
       "<text dominant-baseline=\"central\" text-anchor=\"middle\" font-family=\"monospace\" font-size=\"12\" x=\"352\" y=\"384\">ERR<tspan baseline-shift=\"sub\" font-size=\"10\">X</tspan></text>\n",
       "<text dominant-baseline=\"hanging\" text-anchor=\"middle\" font-family=\"monospace\" font-size=\"10\" stroke=\"red\" x=\"352\" y=\"404\">0.01</text>\n",
       "<rect x=\"336\" y=\"496\" width=\"32\" height=\"32\" stroke=\"black\" fill=\"pink\"/>\n",
       "<text dominant-baseline=\"central\" text-anchor=\"middle\" font-family=\"monospace\" font-size=\"12\" x=\"352\" y=\"512\">ERR<tspan baseline-shift=\"sub\" font-size=\"10\">X</tspan></text>\n",
       "<text dominant-baseline=\"hanging\" text-anchor=\"middle\" font-family=\"monospace\" font-size=\"10\" stroke=\"red\" x=\"352\" y=\"532\">0.01</text>\n",
       "<rect x=\"336\" y=\"624\" width=\"32\" height=\"32\" stroke=\"black\" fill=\"pink\"/>\n",
       "<text dominant-baseline=\"central\" text-anchor=\"middle\" font-family=\"monospace\" font-size=\"12\" x=\"352\" y=\"640\">ERR<tspan baseline-shift=\"sub\" font-size=\"10\">X</tspan></text>\n",
       "<text dominant-baseline=\"hanging\" text-anchor=\"middle\" font-family=\"monospace\" font-size=\"10\" stroke=\"red\" x=\"352\" y=\"660\">0.01</text>\n",
       "<rect x=\"336\" y=\"752\" width=\"32\" height=\"32\" stroke=\"black\" fill=\"pink\"/>\n",
       "<text dominant-baseline=\"central\" text-anchor=\"middle\" font-family=\"monospace\" font-size=\"12\" x=\"352\" y=\"768\">ERR<tspan baseline-shift=\"sub\" font-size=\"10\">X</tspan></text>\n",
       "<text dominant-baseline=\"hanging\" text-anchor=\"middle\" font-family=\"monospace\" font-size=\"10\" stroke=\"red\" x=\"352\" y=\"788\">0.01</text>\n",
       "<rect x=\"336\" y=\"880\" width=\"32\" height=\"32\" stroke=\"black\" fill=\"pink\"/>\n",
       "<text dominant-baseline=\"central\" text-anchor=\"middle\" font-family=\"monospace\" font-size=\"12\" x=\"352\" y=\"896\">ERR<tspan baseline-shift=\"sub\" font-size=\"10\">X</tspan></text>\n",
       "<text dominant-baseline=\"hanging\" text-anchor=\"middle\" font-family=\"monospace\" font-size=\"10\" stroke=\"red\" x=\"352\" y=\"916\">0.01</text>\n",
       "<rect x=\"336\" y=\"1008\" width=\"32\" height=\"32\" stroke=\"black\" fill=\"pink\"/>\n",
       "<text dominant-baseline=\"central\" text-anchor=\"middle\" font-family=\"monospace\" font-size=\"12\" x=\"352\" y=\"1024\">ERR<tspan baseline-shift=\"sub\" font-size=\"10\">X</tspan></text>\n",
       "<text dominant-baseline=\"hanging\" text-anchor=\"middle\" font-family=\"monospace\" font-size=\"10\" stroke=\"red\" x=\"352\" y=\"1044\">0.01</text>\n",
       "<rect x=\"400\" y=\"112\" width=\"32\" height=\"32\" stroke=\"black\" fill=\"black\"/>\n",
       "<text dominant-baseline=\"central\" text-anchor=\"middle\" font-family=\"monospace\" font-size=\"24\" x=\"416\" y=\"128\" fill=\"white\">MR</text>\n",
       "<text text-anchor=\"middle\" font-family=\"monospace\" font-size=\"8\" x=\"416\" y=\"108\">rec[0]</text>\n",
       "<rect x=\"400\" y=\"240\" width=\"32\" height=\"32\" stroke=\"black\" fill=\"black\"/>\n",
       "<text dominant-baseline=\"central\" text-anchor=\"middle\" font-family=\"monospace\" font-size=\"24\" x=\"416\" y=\"256\" fill=\"white\">MR</text>\n",
       "<text text-anchor=\"middle\" font-family=\"monospace\" font-size=\"8\" x=\"416\" y=\"236\">rec[1]</text>\n",
       "<rect x=\"400\" y=\"368\" width=\"32\" height=\"32\" stroke=\"black\" fill=\"black\"/>\n",
       "<text dominant-baseline=\"central\" text-anchor=\"middle\" font-family=\"monospace\" font-size=\"24\" x=\"416\" y=\"384\" fill=\"white\">MR</text>\n",
       "<text text-anchor=\"middle\" font-family=\"monospace\" font-size=\"8\" x=\"416\" y=\"364\">rec[2]</text>\n",
       "<rect x=\"400\" y=\"496\" width=\"32\" height=\"32\" stroke=\"black\" fill=\"black\"/>\n",
       "<text dominant-baseline=\"central\" text-anchor=\"middle\" font-family=\"monospace\" font-size=\"24\" x=\"416\" y=\"512\" fill=\"white\">MR</text>\n",
       "<text text-anchor=\"middle\" font-family=\"monospace\" font-size=\"8\" x=\"416\" y=\"492\">rec[3]</text>\n",
       "<rect x=\"400\" y=\"624\" width=\"32\" height=\"32\" stroke=\"black\" fill=\"black\"/>\n",
       "<text dominant-baseline=\"central\" text-anchor=\"middle\" font-family=\"monospace\" font-size=\"24\" x=\"416\" y=\"640\" fill=\"white\">MR</text>\n",
       "<text text-anchor=\"middle\" font-family=\"monospace\" font-size=\"8\" x=\"416\" y=\"620\">rec[4]</text>\n",
       "<rect x=\"400\" y=\"752\" width=\"32\" height=\"32\" stroke=\"black\" fill=\"black\"/>\n",
       "<text dominant-baseline=\"central\" text-anchor=\"middle\" font-family=\"monospace\" font-size=\"24\" x=\"416\" y=\"768\" fill=\"white\">MR</text>\n",
       "<text text-anchor=\"middle\" font-family=\"monospace\" font-size=\"8\" x=\"416\" y=\"748\">rec[5]</text>\n",
       "<rect x=\"400\" y=\"880\" width=\"32\" height=\"32\" stroke=\"black\" fill=\"black\"/>\n",
       "<text dominant-baseline=\"central\" text-anchor=\"middle\" font-family=\"monospace\" font-size=\"24\" x=\"416\" y=\"896\" fill=\"white\">MR</text>\n",
       "<text text-anchor=\"middle\" font-family=\"monospace\" font-size=\"8\" x=\"416\" y=\"876\">rec[6]</text>\n",
       "<rect x=\"400\" y=\"1008\" width=\"32\" height=\"32\" stroke=\"black\" fill=\"black\"/>\n",
       "<text dominant-baseline=\"central\" text-anchor=\"middle\" font-family=\"monospace\" font-size=\"24\" x=\"416\" y=\"1024\" fill=\"white\">MR</text>\n",
       "<text text-anchor=\"middle\" font-family=\"monospace\" font-size=\"8\" x=\"416\" y=\"1004\">rec[7]</text>\n",
       "<rect x=\"464\" y=\"112\" width=\"160\" height=\"32\" stroke=\"black\" fill=\"lightgray\"/>\n",
       "<text dominant-baseline=\"central\" text-anchor=\"middle\" font-family=\"monospace\" font-size=\"16\" x=\"544\" y=\"128\">DETECTOR</text>\n",
       "<text dominant-baseline=\"hanging\" text-anchor=\"middle\" font-family=\"monospace\" font-size=\"8\" x=\"544\" y=\"148\">coords=(1,0)</text>\n",
       "<text text-anchor=\"middle\" font-family=\"monospace\" font-size=\"8\" x=\"544\" y=\"108\">D0 = rec[0]</text>\n",
       "<rect x=\"464\" y=\"240\" width=\"160\" height=\"32\" stroke=\"black\" fill=\"lightgray\"/>\n",
       "<text dominant-baseline=\"central\" text-anchor=\"middle\" font-family=\"monospace\" font-size=\"16\" x=\"544\" y=\"256\">DETECTOR</text>\n",
       "<text dominant-baseline=\"hanging\" text-anchor=\"middle\" font-family=\"monospace\" font-size=\"8\" x=\"544\" y=\"276\">coords=(3,0)</text>\n",
       "<text text-anchor=\"middle\" font-family=\"monospace\" font-size=\"8\" x=\"544\" y=\"236\">D1 = rec[1]</text>\n",
       "<rect x=\"464\" y=\"368\" width=\"160\" height=\"32\" stroke=\"black\" fill=\"lightgray\"/>\n",
       "<text dominant-baseline=\"central\" text-anchor=\"middle\" font-family=\"monospace\" font-size=\"16\" x=\"544\" y=\"384\">DETECTOR</text>\n",
       "<text dominant-baseline=\"hanging\" text-anchor=\"middle\" font-family=\"monospace\" font-size=\"8\" x=\"544\" y=\"404\">coords=(5,0)</text>\n",
       "<text text-anchor=\"middle\" font-family=\"monospace\" font-size=\"8\" x=\"544\" y=\"364\">D2 = rec[2]</text>\n",
       "<rect x=\"464\" y=\"496\" width=\"160\" height=\"32\" stroke=\"black\" fill=\"lightgray\"/>\n",
       "<text dominant-baseline=\"central\" text-anchor=\"middle\" font-family=\"monospace\" font-size=\"16\" x=\"544\" y=\"512\">DETECTOR</text>\n",
       "<text dominant-baseline=\"hanging\" text-anchor=\"middle\" font-family=\"monospace\" font-size=\"8\" x=\"544\" y=\"532\">coords=(7,0)</text>\n",
       "<text text-anchor=\"middle\" font-family=\"monospace\" font-size=\"8\" x=\"544\" y=\"492\">D3 = rec[3]</text>\n",
       "<rect x=\"464\" y=\"624\" width=\"160\" height=\"32\" stroke=\"black\" fill=\"lightgray\"/>\n",
       "<text dominant-baseline=\"central\" text-anchor=\"middle\" font-family=\"monospace\" font-size=\"16\" x=\"544\" y=\"640\">DETECTOR</text>\n",
       "<text dominant-baseline=\"hanging\" text-anchor=\"middle\" font-family=\"monospace\" font-size=\"8\" x=\"544\" y=\"660\">coords=(9,0)</text>\n",
       "<text text-anchor=\"middle\" font-family=\"monospace\" font-size=\"8\" x=\"544\" y=\"620\">D4 = rec[4]</text>\n",
       "<rect x=\"464\" y=\"752\" width=\"160\" height=\"32\" stroke=\"black\" fill=\"lightgray\"/>\n",
       "<text dominant-baseline=\"central\" text-anchor=\"middle\" font-family=\"monospace\" font-size=\"16\" x=\"544\" y=\"768\">DETECTOR</text>\n",
       "<text dominant-baseline=\"hanging\" text-anchor=\"middle\" font-family=\"monospace\" font-size=\"8\" x=\"544\" y=\"788\">coords=(11,0)</text>\n",
       "<text text-anchor=\"middle\" font-family=\"monospace\" font-size=\"8\" x=\"544\" y=\"748\">D5 = rec[5]</text>\n",
       "<rect x=\"464\" y=\"880\" width=\"160\" height=\"32\" stroke=\"black\" fill=\"lightgray\"/>\n",
       "<text dominant-baseline=\"central\" text-anchor=\"middle\" font-family=\"monospace\" font-size=\"16\" x=\"544\" y=\"896\">DETECTOR</text>\n",
       "<text dominant-baseline=\"hanging\" text-anchor=\"middle\" font-family=\"monospace\" font-size=\"8\" x=\"544\" y=\"916\">coords=(13,0)</text>\n",
       "<text text-anchor=\"middle\" font-family=\"monospace\" font-size=\"8\" x=\"544\" y=\"876\">D6 = rec[6]</text>\n",
       "<rect x=\"464\" y=\"1008\" width=\"160\" height=\"32\" stroke=\"black\" fill=\"lightgray\"/>\n",
       "<text dominant-baseline=\"central\" text-anchor=\"middle\" font-family=\"monospace\" font-size=\"16\" x=\"544\" y=\"1024\">DETECTOR</text>\n",
       "<text dominant-baseline=\"hanging\" text-anchor=\"middle\" font-family=\"monospace\" font-size=\"8\" x=\"544\" y=\"1044\">coords=(15,0)</text>\n",
       "<text text-anchor=\"middle\" font-family=\"monospace\" font-size=\"8\" x=\"544\" y=\"1004\">D7 = rec[7]</text>\n",
       "<path d=\"M324,40 L324,32 L636,32 L636,40 \" stroke=\"black\" fill=\"none\"/>\n",
       "<path d=\"M324,1144 L324,1152 L636,1152 L636,1144 \" stroke=\"black\" fill=\"none\"/>\n",
       "<path d=\"M680,32 L672,32 L672,1152 L680,1152 \" stroke=\"black\" fill=\"none\"/>\n",
       "<text dominant-baseline=\"auto\" text-anchor=\"start\" font-family=\"monospace\" font-size=\"12\" x=\"676\" y=\"1148\">REP24</text>\n",
       "<rect x=\"784\" y=\"48\" width=\"32\" height=\"32\" stroke=\"black\" fill=\"pink\"/>\n",
       "<text dominant-baseline=\"central\" text-anchor=\"middle\" font-family=\"monospace\" font-size=\"12\" x=\"800\" y=\"64\">DEP<tspan baseline-shift=\"sub\" font-size=\"10\">1</tspan></text>\n",
       "<text dominant-baseline=\"hanging\" text-anchor=\"middle\" font-family=\"monospace\" font-size=\"10\" stroke=\"red\" x=\"800\" y=\"84\">0.04</text>\n",
       "<rect x=\"784\" y=\"176\" width=\"32\" height=\"32\" stroke=\"black\" fill=\"pink\"/>\n",
       "<text dominant-baseline=\"central\" text-anchor=\"middle\" font-family=\"monospace\" font-size=\"12\" x=\"800\" y=\"192\">DEP<tspan baseline-shift=\"sub\" font-size=\"10\">1</tspan></text>\n",
       "<text dominant-baseline=\"hanging\" text-anchor=\"middle\" font-family=\"monospace\" font-size=\"10\" stroke=\"red\" x=\"800\" y=\"212\">0.04</text>\n",
       "<rect x=\"784\" y=\"304\" width=\"32\" height=\"32\" stroke=\"black\" fill=\"pink\"/>\n",
       "<text dominant-baseline=\"central\" text-anchor=\"middle\" font-family=\"monospace\" font-size=\"12\" x=\"800\" y=\"320\">DEP<tspan baseline-shift=\"sub\" font-size=\"10\">1</tspan></text>\n",
       "<text dominant-baseline=\"hanging\" text-anchor=\"middle\" font-family=\"monospace\" font-size=\"10\" stroke=\"red\" x=\"800\" y=\"340\">0.04</text>\n",
       "<rect x=\"784\" y=\"432\" width=\"32\" height=\"32\" stroke=\"black\" fill=\"pink\"/>\n",
       "<text dominant-baseline=\"central\" text-anchor=\"middle\" font-family=\"monospace\" font-size=\"12\" x=\"800\" y=\"448\">DEP<tspan baseline-shift=\"sub\" font-size=\"10\">1</tspan></text>\n",
       "<text dominant-baseline=\"hanging\" text-anchor=\"middle\" font-family=\"monospace\" font-size=\"10\" stroke=\"red\" x=\"800\" y=\"468\">0.04</text>\n",
       "<rect x=\"784\" y=\"560\" width=\"32\" height=\"32\" stroke=\"black\" fill=\"pink\"/>\n",
       "<text dominant-baseline=\"central\" text-anchor=\"middle\" font-family=\"monospace\" font-size=\"12\" x=\"800\" y=\"576\">DEP<tspan baseline-shift=\"sub\" font-size=\"10\">1</tspan></text>\n",
       "<text dominant-baseline=\"hanging\" text-anchor=\"middle\" font-family=\"monospace\" font-size=\"10\" stroke=\"red\" x=\"800\" y=\"596\">0.04</text>\n",
       "<rect x=\"784\" y=\"688\" width=\"32\" height=\"32\" stroke=\"black\" fill=\"pink\"/>\n",
       "<text dominant-baseline=\"central\" text-anchor=\"middle\" font-family=\"monospace\" font-size=\"12\" x=\"800\" y=\"704\">DEP<tspan baseline-shift=\"sub\" font-size=\"10\">1</tspan></text>\n",
       "<text dominant-baseline=\"hanging\" text-anchor=\"middle\" font-family=\"monospace\" font-size=\"10\" stroke=\"red\" x=\"800\" y=\"724\">0.04</text>\n",
       "<rect x=\"784\" y=\"816\" width=\"32\" height=\"32\" stroke=\"black\" fill=\"pink\"/>\n",
       "<text dominant-baseline=\"central\" text-anchor=\"middle\" font-family=\"monospace\" font-size=\"12\" x=\"800\" y=\"832\">DEP<tspan baseline-shift=\"sub\" font-size=\"10\">1</tspan></text>\n",
       "<text dominant-baseline=\"hanging\" text-anchor=\"middle\" font-family=\"monospace\" font-size=\"10\" stroke=\"red\" x=\"800\" y=\"852\">0.04</text>\n",
       "<rect x=\"784\" y=\"944\" width=\"32\" height=\"32\" stroke=\"black\" fill=\"pink\"/>\n",
       "<text dominant-baseline=\"central\" text-anchor=\"middle\" font-family=\"monospace\" font-size=\"12\" x=\"800\" y=\"960\">DEP<tspan baseline-shift=\"sub\" font-size=\"10\">1</tspan></text>\n",
       "<text dominant-baseline=\"hanging\" text-anchor=\"middle\" font-family=\"monospace\" font-size=\"10\" stroke=\"red\" x=\"800\" y=\"980\">0.04</text>\n",
       "<rect x=\"784\" y=\"1072\" width=\"32\" height=\"32\" stroke=\"black\" fill=\"pink\"/>\n",
       "<text dominant-baseline=\"central\" text-anchor=\"middle\" font-family=\"monospace\" font-size=\"12\" x=\"800\" y=\"1088\">DEP<tspan baseline-shift=\"sub\" font-size=\"10\">1</tspan></text>\n",
       "<text dominant-baseline=\"hanging\" text-anchor=\"middle\" font-family=\"monospace\" font-size=\"10\" stroke=\"red\" x=\"800\" y=\"1108\">0.04</text>\n",
       "<path d=\"M864,64 L864,128 \" stroke=\"black\"/>\n",
       "<circle cx=\"864\" cy=\"64\" r=\"12\" stroke=\"none\" fill=\"black\"/>\n",
       "<circle cx=\"864\" cy=\"128\" r=\"12\" stroke=\"black\" fill=\"white\"/>\n",
       "<path d=\"M852,128 L876,128 M864,116 L864,140 \" stroke=\"black\"/>\n",
       "<path d=\"M864,192 L864,256 \" stroke=\"black\"/>\n",
       "<circle cx=\"864\" cy=\"192\" r=\"12\" stroke=\"none\" fill=\"black\"/>\n",
       "<circle cx=\"864\" cy=\"256\" r=\"12\" stroke=\"black\" fill=\"white\"/>\n",
       "<path d=\"M852,256 L876,256 M864,244 L864,268 \" stroke=\"black\"/>\n",
       "<path d=\"M864,320 L864,384 \" stroke=\"black\"/>\n",
       "<circle cx=\"864\" cy=\"320\" r=\"12\" stroke=\"none\" fill=\"black\"/>\n",
       "<circle cx=\"864\" cy=\"384\" r=\"12\" stroke=\"black\" fill=\"white\"/>\n",
       "<path d=\"M852,384 L876,384 M864,372 L864,396 \" stroke=\"black\"/>\n",
       "<path d=\"M864,448 L864,512 \" stroke=\"black\"/>\n",
       "<circle cx=\"864\" cy=\"448\" r=\"12\" stroke=\"none\" fill=\"black\"/>\n",
       "<circle cx=\"864\" cy=\"512\" r=\"12\" stroke=\"black\" fill=\"white\"/>\n",
       "<path d=\"M852,512 L876,512 M864,500 L864,524 \" stroke=\"black\"/>\n",
       "<path d=\"M864,576 L864,640 \" stroke=\"black\"/>\n",
       "<circle cx=\"864\" cy=\"576\" r=\"12\" stroke=\"none\" fill=\"black\"/>\n",
       "<circle cx=\"864\" cy=\"640\" r=\"12\" stroke=\"black\" fill=\"white\"/>\n",
       "<path d=\"M852,640 L876,640 M864,628 L864,652 \" stroke=\"black\"/>\n",
       "<path d=\"M864,704 L864,768 \" stroke=\"black\"/>\n",
       "<circle cx=\"864\" cy=\"704\" r=\"12\" stroke=\"none\" fill=\"black\"/>\n",
       "<circle cx=\"864\" cy=\"768\" r=\"12\" stroke=\"black\" fill=\"white\"/>\n",
       "<path d=\"M852,768 L876,768 M864,756 L864,780 \" stroke=\"black\"/>\n",
       "<path d=\"M864,832 L864,896 \" stroke=\"black\"/>\n",
       "<circle cx=\"864\" cy=\"832\" r=\"12\" stroke=\"none\" fill=\"black\"/>\n",
       "<circle cx=\"864\" cy=\"896\" r=\"12\" stroke=\"black\" fill=\"white\"/>\n",
       "<path d=\"M852,896 L876,896 M864,884 L864,908 \" stroke=\"black\"/>\n",
       "<path d=\"M864,960 L864,1024 \" stroke=\"black\"/>\n",
       "<circle cx=\"864\" cy=\"960\" r=\"12\" stroke=\"none\" fill=\"black\"/>\n",
       "<circle cx=\"864\" cy=\"1024\" r=\"12\" stroke=\"black\" fill=\"white\"/>\n",
       "<path d=\"M852,1024 L876,1024 M864,1012 L864,1036 \" stroke=\"black\"/>\n",
       "<path d=\"M772,40 L772,32 L892,32 L892,40 \" stroke=\"black\" fill=\"none\"/>\n",
       "<path d=\"M772,1144 L772,1152 L892,1152 L892,1144 \" stroke=\"black\" fill=\"none\"/>\n",
       "<path d=\"M928,128 L928,192 \" stroke=\"black\"/>\n",
       "<circle cx=\"928\" cy=\"192\" r=\"12\" stroke=\"none\" fill=\"black\"/>\n",
       "<circle cx=\"928\" cy=\"128\" r=\"12\" stroke=\"black\" fill=\"white\"/>\n",
       "<path d=\"M916,128 L940,128 M928,116 L928,140 \" stroke=\"black\"/>\n",
       "<path d=\"M928,256 L928,320 \" stroke=\"black\"/>\n",
       "<circle cx=\"928\" cy=\"320\" r=\"12\" stroke=\"none\" fill=\"black\"/>\n",
       "<circle cx=\"928\" cy=\"256\" r=\"12\" stroke=\"black\" fill=\"white\"/>\n",
       "<path d=\"M916,256 L940,256 M928,244 L928,268 \" stroke=\"black\"/>\n",
       "<path d=\"M928,384 L928,448 \" stroke=\"black\"/>\n",
       "<circle cx=\"928\" cy=\"448\" r=\"12\" stroke=\"none\" fill=\"black\"/>\n",
       "<circle cx=\"928\" cy=\"384\" r=\"12\" stroke=\"black\" fill=\"white\"/>\n",
       "<path d=\"M916,384 L940,384 M928,372 L928,396 \" stroke=\"black\"/>\n",
       "<path d=\"M928,512 L928,576 \" stroke=\"black\"/>\n",
       "<circle cx=\"928\" cy=\"576\" r=\"12\" stroke=\"none\" fill=\"black\"/>\n",
       "<circle cx=\"928\" cy=\"512\" r=\"12\" stroke=\"black\" fill=\"white\"/>\n",
       "<path d=\"M916,512 L940,512 M928,500 L928,524 \" stroke=\"black\"/>\n",
       "<path d=\"M928,640 L928,704 \" stroke=\"black\"/>\n",
       "<circle cx=\"928\" cy=\"704\" r=\"12\" stroke=\"none\" fill=\"black\"/>\n",
       "<circle cx=\"928\" cy=\"640\" r=\"12\" stroke=\"black\" fill=\"white\"/>\n",
       "<path d=\"M916,640 L940,640 M928,628 L928,652 \" stroke=\"black\"/>\n",
       "<path d=\"M928,768 L928,832 \" stroke=\"black\"/>\n",
       "<circle cx=\"928\" cy=\"832\" r=\"12\" stroke=\"none\" fill=\"black\"/>\n",
       "<circle cx=\"928\" cy=\"768\" r=\"12\" stroke=\"black\" fill=\"white\"/>\n",
       "<path d=\"M916,768 L940,768 M928,756 L928,780 \" stroke=\"black\"/>\n",
       "<path d=\"M928,896 L928,960 \" stroke=\"black\"/>\n",
       "<circle cx=\"928\" cy=\"960\" r=\"12\" stroke=\"none\" fill=\"black\"/>\n",
       "<circle cx=\"928\" cy=\"896\" r=\"12\" stroke=\"black\" fill=\"white\"/>\n",
       "<path d=\"M916,896 L940,896 M928,884 L928,908 \" stroke=\"black\"/>\n",
       "<path d=\"M928,1024 L928,1088 \" stroke=\"black\"/>\n",
       "<circle cx=\"928\" cy=\"1088\" r=\"12\" stroke=\"none\" fill=\"black\"/>\n",
       "<circle cx=\"928\" cy=\"1024\" r=\"12\" stroke=\"black\" fill=\"white\"/>\n",
       "<path d=\"M916,1024 L940,1024 M928,1012 L928,1036 \" stroke=\"black\"/>\n",
       "<rect x=\"976\" y=\"112\" width=\"32\" height=\"32\" stroke=\"black\" fill=\"pink\"/>\n",
       "<text dominant-baseline=\"central\" text-anchor=\"middle\" font-family=\"monospace\" font-size=\"12\" x=\"992\" y=\"128\">ERR<tspan baseline-shift=\"sub\" font-size=\"10\">X</tspan></text>\n",
       "<text dominant-baseline=\"hanging\" text-anchor=\"middle\" font-family=\"monospace\" font-size=\"10\" stroke=\"red\" x=\"992\" y=\"148\">0.01</text>\n",
       "<rect x=\"976\" y=\"240\" width=\"32\" height=\"32\" stroke=\"black\" fill=\"pink\"/>\n",
       "<text dominant-baseline=\"central\" text-anchor=\"middle\" font-family=\"monospace\" font-size=\"12\" x=\"992\" y=\"256\">ERR<tspan baseline-shift=\"sub\" font-size=\"10\">X</tspan></text>\n",
       "<text dominant-baseline=\"hanging\" text-anchor=\"middle\" font-family=\"monospace\" font-size=\"10\" stroke=\"red\" x=\"992\" y=\"276\">0.01</text>\n",
       "<rect x=\"976\" y=\"368\" width=\"32\" height=\"32\" stroke=\"black\" fill=\"pink\"/>\n",
       "<text dominant-baseline=\"central\" text-anchor=\"middle\" font-family=\"monospace\" font-size=\"12\" x=\"992\" y=\"384\">ERR<tspan baseline-shift=\"sub\" font-size=\"10\">X</tspan></text>\n",
       "<text dominant-baseline=\"hanging\" text-anchor=\"middle\" font-family=\"monospace\" font-size=\"10\" stroke=\"red\" x=\"992\" y=\"404\">0.01</text>\n",
       "<rect x=\"976\" y=\"496\" width=\"32\" height=\"32\" stroke=\"black\" fill=\"pink\"/>\n",
       "<text dominant-baseline=\"central\" text-anchor=\"middle\" font-family=\"monospace\" font-size=\"12\" x=\"992\" y=\"512\">ERR<tspan baseline-shift=\"sub\" font-size=\"10\">X</tspan></text>\n",
       "<text dominant-baseline=\"hanging\" text-anchor=\"middle\" font-family=\"monospace\" font-size=\"10\" stroke=\"red\" x=\"992\" y=\"532\">0.01</text>\n",
       "<rect x=\"976\" y=\"624\" width=\"32\" height=\"32\" stroke=\"black\" fill=\"pink\"/>\n",
       "<text dominant-baseline=\"central\" text-anchor=\"middle\" font-family=\"monospace\" font-size=\"12\" x=\"992\" y=\"640\">ERR<tspan baseline-shift=\"sub\" font-size=\"10\">X</tspan></text>\n",
       "<text dominant-baseline=\"hanging\" text-anchor=\"middle\" font-family=\"monospace\" font-size=\"10\" stroke=\"red\" x=\"992\" y=\"660\">0.01</text>\n",
       "<rect x=\"976\" y=\"752\" width=\"32\" height=\"32\" stroke=\"black\" fill=\"pink\"/>\n",
       "<text dominant-baseline=\"central\" text-anchor=\"middle\" font-family=\"monospace\" font-size=\"12\" x=\"992\" y=\"768\">ERR<tspan baseline-shift=\"sub\" font-size=\"10\">X</tspan></text>\n",
       "<text dominant-baseline=\"hanging\" text-anchor=\"middle\" font-family=\"monospace\" font-size=\"10\" stroke=\"red\" x=\"992\" y=\"788\">0.01</text>\n",
       "<rect x=\"976\" y=\"880\" width=\"32\" height=\"32\" stroke=\"black\" fill=\"pink\"/>\n",
       "<text dominant-baseline=\"central\" text-anchor=\"middle\" font-family=\"monospace\" font-size=\"12\" x=\"992\" y=\"896\">ERR<tspan baseline-shift=\"sub\" font-size=\"10\">X</tspan></text>\n",
       "<text dominant-baseline=\"hanging\" text-anchor=\"middle\" font-family=\"monospace\" font-size=\"10\" stroke=\"red\" x=\"992\" y=\"916\">0.01</text>\n",
       "<rect x=\"976\" y=\"1008\" width=\"32\" height=\"32\" stroke=\"black\" fill=\"pink\"/>\n",
       "<text dominant-baseline=\"central\" text-anchor=\"middle\" font-family=\"monospace\" font-size=\"12\" x=\"992\" y=\"1024\">ERR<tspan baseline-shift=\"sub\" font-size=\"10\">X</tspan></text>\n",
       "<text dominant-baseline=\"hanging\" text-anchor=\"middle\" font-family=\"monospace\" font-size=\"10\" stroke=\"red\" x=\"992\" y=\"1044\">0.01</text>\n",
       "<rect x=\"1040\" y=\"112\" width=\"32\" height=\"32\" stroke=\"black\" fill=\"black\"/>\n",
       "<text dominant-baseline=\"central\" text-anchor=\"middle\" font-family=\"monospace\" font-size=\"24\" x=\"1056\" y=\"128\" fill=\"white\">MR</text>\n",
       "<text text-anchor=\"middle\" font-family=\"monospace\" font-size=\"8\" x=\"1056\" y=\"108\">rec[8+iter*8]</text>\n",
       "<rect x=\"1040\" y=\"240\" width=\"32\" height=\"32\" stroke=\"black\" fill=\"black\"/>\n",
       "<text dominant-baseline=\"central\" text-anchor=\"middle\" font-family=\"monospace\" font-size=\"24\" x=\"1056\" y=\"256\" fill=\"white\">MR</text>\n",
       "<text text-anchor=\"middle\" font-family=\"monospace\" font-size=\"8\" x=\"1056\" y=\"236\">rec[9+iter*8]</text>\n",
       "<rect x=\"1040\" y=\"368\" width=\"32\" height=\"32\" stroke=\"black\" fill=\"black\"/>\n",
       "<text dominant-baseline=\"central\" text-anchor=\"middle\" font-family=\"monospace\" font-size=\"24\" x=\"1056\" y=\"384\" fill=\"white\">MR</text>\n",
       "<text text-anchor=\"middle\" font-family=\"monospace\" font-size=\"8\" x=\"1056\" y=\"364\">rec[10+iter*8]</text>\n",
       "<rect x=\"1040\" y=\"496\" width=\"32\" height=\"32\" stroke=\"black\" fill=\"black\"/>\n",
       "<text dominant-baseline=\"central\" text-anchor=\"middle\" font-family=\"monospace\" font-size=\"24\" x=\"1056\" y=\"512\" fill=\"white\">MR</text>\n",
       "<text text-anchor=\"middle\" font-family=\"monospace\" font-size=\"8\" x=\"1056\" y=\"492\">rec[11+iter*8]</text>\n",
       "<rect x=\"1040\" y=\"624\" width=\"32\" height=\"32\" stroke=\"black\" fill=\"black\"/>\n",
       "<text dominant-baseline=\"central\" text-anchor=\"middle\" font-family=\"monospace\" font-size=\"24\" x=\"1056\" y=\"640\" fill=\"white\">MR</text>\n",
       "<text text-anchor=\"middle\" font-family=\"monospace\" font-size=\"8\" x=\"1056\" y=\"620\">rec[12+iter*8]</text>\n",
       "<rect x=\"1040\" y=\"752\" width=\"32\" height=\"32\" stroke=\"black\" fill=\"black\"/>\n",
       "<text dominant-baseline=\"central\" text-anchor=\"middle\" font-family=\"monospace\" font-size=\"24\" x=\"1056\" y=\"768\" fill=\"white\">MR</text>\n",
       "<text text-anchor=\"middle\" font-family=\"monospace\" font-size=\"8\" x=\"1056\" y=\"748\">rec[13+iter*8]</text>\n",
       "<rect x=\"1040\" y=\"880\" width=\"32\" height=\"32\" stroke=\"black\" fill=\"black\"/>\n",
       "<text dominant-baseline=\"central\" text-anchor=\"middle\" font-family=\"monospace\" font-size=\"24\" x=\"1056\" y=\"896\" fill=\"white\">MR</text>\n",
       "<text text-anchor=\"middle\" font-family=\"monospace\" font-size=\"8\" x=\"1056\" y=\"876\">rec[14+iter*8]</text>\n",
       "<rect x=\"1040\" y=\"1008\" width=\"32\" height=\"32\" stroke=\"black\" fill=\"black\"/>\n",
       "<text dominant-baseline=\"central\" text-anchor=\"middle\" font-family=\"monospace\" font-size=\"24\" x=\"1056\" y=\"1024\" fill=\"white\">MR</text>\n",
       "<text text-anchor=\"middle\" font-family=\"monospace\" font-size=\"8\" x=\"1056\" y=\"1004\">rec[15+iter*8]</text>\n",
       "<rect x=\"1104\" y=\"112\" width=\"224\" height=\"32\" stroke=\"black\" fill=\"lightgray\"/>\n",
       "<text dominant-baseline=\"central\" text-anchor=\"middle\" font-family=\"monospace\" font-size=\"16\" x=\"1216\" y=\"128\">DETECTOR</text>\n",
       "<text dominant-baseline=\"hanging\" text-anchor=\"middle\" font-family=\"monospace\" font-size=\"8\" x=\"1216\" y=\"148\">coords=(1,1+iter)</text>\n",
       "<text text-anchor=\"middle\" font-family=\"monospace\" font-size=\"8\" x=\"1216\" y=\"108\">D[8+iter*8] = rec[8+iter*8]*rec[0+iter*8]</text>\n",
       "<rect x=\"1104\" y=\"240\" width=\"224\" height=\"32\" stroke=\"black\" fill=\"lightgray\"/>\n",
       "<text dominant-baseline=\"central\" text-anchor=\"middle\" font-family=\"monospace\" font-size=\"16\" x=\"1216\" y=\"256\">DETECTOR</text>\n",
       "<text dominant-baseline=\"hanging\" text-anchor=\"middle\" font-family=\"monospace\" font-size=\"8\" x=\"1216\" y=\"276\">coords=(3,1+iter)</text>\n",
       "<text text-anchor=\"middle\" font-family=\"monospace\" font-size=\"8\" x=\"1216\" y=\"236\">D[9+iter*8] = rec[9+iter*8]*rec[1+iter*8]</text>\n",
       "<rect x=\"1104\" y=\"368\" width=\"224\" height=\"32\" stroke=\"black\" fill=\"lightgray\"/>\n",
       "<text dominant-baseline=\"central\" text-anchor=\"middle\" font-family=\"monospace\" font-size=\"16\" x=\"1216\" y=\"384\">DETECTOR</text>\n",
       "<text dominant-baseline=\"hanging\" text-anchor=\"middle\" font-family=\"monospace\" font-size=\"8\" x=\"1216\" y=\"404\">coords=(5,1+iter)</text>\n",
       "<text text-anchor=\"middle\" font-family=\"monospace\" font-size=\"8\" x=\"1216\" y=\"364\">D[10+iter*8] = rec[10+iter*8]*rec[2+iter*8]</text>\n",
       "<rect x=\"1104\" y=\"496\" width=\"224\" height=\"32\" stroke=\"black\" fill=\"lightgray\"/>\n",
       "<text dominant-baseline=\"central\" text-anchor=\"middle\" font-family=\"monospace\" font-size=\"16\" x=\"1216\" y=\"512\">DETECTOR</text>\n",
       "<text dominant-baseline=\"hanging\" text-anchor=\"middle\" font-family=\"monospace\" font-size=\"8\" x=\"1216\" y=\"532\">coords=(7,1+iter)</text>\n",
       "<text text-anchor=\"middle\" font-family=\"monospace\" font-size=\"8\" x=\"1216\" y=\"492\">D[11+iter*8] = rec[11+iter*8]*rec[3+iter*8]</text>\n",
       "<rect x=\"1104\" y=\"624\" width=\"224\" height=\"32\" stroke=\"black\" fill=\"lightgray\"/>\n",
       "<text dominant-baseline=\"central\" text-anchor=\"middle\" font-family=\"monospace\" font-size=\"16\" x=\"1216\" y=\"640\">DETECTOR</text>\n",
       "<text dominant-baseline=\"hanging\" text-anchor=\"middle\" font-family=\"monospace\" font-size=\"8\" x=\"1216\" y=\"660\">coords=(9,1+iter)</text>\n",
       "<text text-anchor=\"middle\" font-family=\"monospace\" font-size=\"8\" x=\"1216\" y=\"620\">D[12+iter*8] = rec[12+iter*8]*rec[4+iter*8]</text>\n",
       "<rect x=\"1104\" y=\"752\" width=\"224\" height=\"32\" stroke=\"black\" fill=\"lightgray\"/>\n",
       "<text dominant-baseline=\"central\" text-anchor=\"middle\" font-family=\"monospace\" font-size=\"16\" x=\"1216\" y=\"768\">DETECTOR</text>\n",
       "<text dominant-baseline=\"hanging\" text-anchor=\"middle\" font-family=\"monospace\" font-size=\"8\" x=\"1216\" y=\"788\">coords=(11,1+iter)</text>\n",
       "<text text-anchor=\"middle\" font-family=\"monospace\" font-size=\"8\" x=\"1216\" y=\"748\">D[13+iter*8] = rec[13+iter*8]*rec[5+iter*8]</text>\n",
       "<rect x=\"1104\" y=\"880\" width=\"224\" height=\"32\" stroke=\"black\" fill=\"lightgray\"/>\n",
       "<text dominant-baseline=\"central\" text-anchor=\"middle\" font-family=\"monospace\" font-size=\"16\" x=\"1216\" y=\"896\">DETECTOR</text>\n",
       "<text dominant-baseline=\"hanging\" text-anchor=\"middle\" font-family=\"monospace\" font-size=\"8\" x=\"1216\" y=\"916\">coords=(13,1+iter)</text>\n",
       "<text text-anchor=\"middle\" font-family=\"monospace\" font-size=\"8\" x=\"1216\" y=\"876\">D[14+iter*8] = rec[14+iter*8]*rec[6+iter*8]</text>\n",
       "<rect x=\"1104\" y=\"1008\" width=\"224\" height=\"32\" stroke=\"black\" fill=\"lightgray\"/>\n",
       "<text dominant-baseline=\"central\" text-anchor=\"middle\" font-family=\"monospace\" font-size=\"16\" x=\"1216\" y=\"1024\">DETECTOR</text>\n",
       "<text dominant-baseline=\"hanging\" text-anchor=\"middle\" font-family=\"monospace\" font-size=\"8\" x=\"1216\" y=\"1044\">coords=(15,1+iter)</text>\n",
       "<text text-anchor=\"middle\" font-family=\"monospace\" font-size=\"8\" x=\"1216\" y=\"1004\">D[15+iter*8] = rec[15+iter*8]*rec[7+iter*8]</text>\n",
       "<path d=\"M964,40 L964,32 L1340,32 L1340,40 \" stroke=\"black\" fill=\"none\"/>\n",
       "<path d=\"M964,1144 L964,1152 L1340,1152 L1340,1144 \" stroke=\"black\" fill=\"none\"/>\n",
       "<path d=\"M1368,32 L1376,32 L1376,1152 L1368,1152 \" stroke=\"black\" fill=\"none\"/>\n",
       "<rect x=\"1424\" y=\"48\" width=\"32\" height=\"32\" stroke=\"black\" fill=\"pink\"/>\n",
       "<text dominant-baseline=\"central\" text-anchor=\"middle\" font-family=\"monospace\" font-size=\"12\" x=\"1440\" y=\"64\">ERR<tspan baseline-shift=\"sub\" font-size=\"10\">X</tspan></text>\n",
       "<text dominant-baseline=\"hanging\" text-anchor=\"middle\" font-family=\"monospace\" font-size=\"10\" stroke=\"red\" x=\"1440\" y=\"84\">0.01</text>\n",
       "<rect x=\"1424\" y=\"176\" width=\"32\" height=\"32\" stroke=\"black\" fill=\"pink\"/>\n",
       "<text dominant-baseline=\"central\" text-anchor=\"middle\" font-family=\"monospace\" font-size=\"12\" x=\"1440\" y=\"192\">ERR<tspan baseline-shift=\"sub\" font-size=\"10\">X</tspan></text>\n",
       "<text dominant-baseline=\"hanging\" text-anchor=\"middle\" font-family=\"monospace\" font-size=\"10\" stroke=\"red\" x=\"1440\" y=\"212\">0.01</text>\n",
       "<rect x=\"1424\" y=\"304\" width=\"32\" height=\"32\" stroke=\"black\" fill=\"pink\"/>\n",
       "<text dominant-baseline=\"central\" text-anchor=\"middle\" font-family=\"monospace\" font-size=\"12\" x=\"1440\" y=\"320\">ERR<tspan baseline-shift=\"sub\" font-size=\"10\">X</tspan></text>\n",
       "<text dominant-baseline=\"hanging\" text-anchor=\"middle\" font-family=\"monospace\" font-size=\"10\" stroke=\"red\" x=\"1440\" y=\"340\">0.01</text>\n",
       "<rect x=\"1424\" y=\"432\" width=\"32\" height=\"32\" stroke=\"black\" fill=\"pink\"/>\n",
       "<text dominant-baseline=\"central\" text-anchor=\"middle\" font-family=\"monospace\" font-size=\"12\" x=\"1440\" y=\"448\">ERR<tspan baseline-shift=\"sub\" font-size=\"10\">X</tspan></text>\n",
       "<text dominant-baseline=\"hanging\" text-anchor=\"middle\" font-family=\"monospace\" font-size=\"10\" stroke=\"red\" x=\"1440\" y=\"468\">0.01</text>\n",
       "<rect x=\"1424\" y=\"560\" width=\"32\" height=\"32\" stroke=\"black\" fill=\"pink\"/>\n",
       "<text dominant-baseline=\"central\" text-anchor=\"middle\" font-family=\"monospace\" font-size=\"12\" x=\"1440\" y=\"576\">ERR<tspan baseline-shift=\"sub\" font-size=\"10\">X</tspan></text>\n",
       "<text dominant-baseline=\"hanging\" text-anchor=\"middle\" font-family=\"monospace\" font-size=\"10\" stroke=\"red\" x=\"1440\" y=\"596\">0.01</text>\n",
       "<rect x=\"1424\" y=\"688\" width=\"32\" height=\"32\" stroke=\"black\" fill=\"pink\"/>\n",
       "<text dominant-baseline=\"central\" text-anchor=\"middle\" font-family=\"monospace\" font-size=\"12\" x=\"1440\" y=\"704\">ERR<tspan baseline-shift=\"sub\" font-size=\"10\">X</tspan></text>\n",
       "<text dominant-baseline=\"hanging\" text-anchor=\"middle\" font-family=\"monospace\" font-size=\"10\" stroke=\"red\" x=\"1440\" y=\"724\">0.01</text>\n",
       "<rect x=\"1424\" y=\"816\" width=\"32\" height=\"32\" stroke=\"black\" fill=\"pink\"/>\n",
       "<text dominant-baseline=\"central\" text-anchor=\"middle\" font-family=\"monospace\" font-size=\"12\" x=\"1440\" y=\"832\">ERR<tspan baseline-shift=\"sub\" font-size=\"10\">X</tspan></text>\n",
       "<text dominant-baseline=\"hanging\" text-anchor=\"middle\" font-family=\"monospace\" font-size=\"10\" stroke=\"red\" x=\"1440\" y=\"852\">0.01</text>\n",
       "<rect x=\"1424\" y=\"944\" width=\"32\" height=\"32\" stroke=\"black\" fill=\"pink\"/>\n",
       "<text dominant-baseline=\"central\" text-anchor=\"middle\" font-family=\"monospace\" font-size=\"12\" x=\"1440\" y=\"960\">ERR<tspan baseline-shift=\"sub\" font-size=\"10\">X</tspan></text>\n",
       "<text dominant-baseline=\"hanging\" text-anchor=\"middle\" font-family=\"monospace\" font-size=\"10\" stroke=\"red\" x=\"1440\" y=\"980\">0.01</text>\n",
       "<rect x=\"1424\" y=\"1072\" width=\"32\" height=\"32\" stroke=\"black\" fill=\"pink\"/>\n",
       "<text dominant-baseline=\"central\" text-anchor=\"middle\" font-family=\"monospace\" font-size=\"12\" x=\"1440\" y=\"1088\">ERR<tspan baseline-shift=\"sub\" font-size=\"10\">X</tspan></text>\n",
       "<text dominant-baseline=\"hanging\" text-anchor=\"middle\" font-family=\"monospace\" font-size=\"10\" stroke=\"red\" x=\"1440\" y=\"1108\">0.01</text>\n",
       "<rect x=\"1488\" y=\"48\" width=\"32\" height=\"32\" stroke=\"black\" fill=\"black\"/>\n",
       "<text dominant-baseline=\"central\" text-anchor=\"middle\" font-family=\"monospace\" font-size=\"30\" x=\"1504\" y=\"64\" fill=\"white\">M</text>\n",
       "<text text-anchor=\"middle\" font-family=\"monospace\" font-size=\"8\" x=\"1504\" y=\"44\">rec[200]</text>\n",
       "<rect x=\"1488\" y=\"176\" width=\"32\" height=\"32\" stroke=\"black\" fill=\"black\"/>\n",
       "<text dominant-baseline=\"central\" text-anchor=\"middle\" font-family=\"monospace\" font-size=\"30\" x=\"1504\" y=\"192\" fill=\"white\">M</text>\n",
       "<text text-anchor=\"middle\" font-family=\"monospace\" font-size=\"8\" x=\"1504\" y=\"172\">rec[201]</text>\n",
       "<rect x=\"1488\" y=\"304\" width=\"32\" height=\"32\" stroke=\"black\" fill=\"black\"/>\n",
       "<text dominant-baseline=\"central\" text-anchor=\"middle\" font-family=\"monospace\" font-size=\"30\" x=\"1504\" y=\"320\" fill=\"white\">M</text>\n",
       "<text text-anchor=\"middle\" font-family=\"monospace\" font-size=\"8\" x=\"1504\" y=\"300\">rec[202]</text>\n",
       "<rect x=\"1488\" y=\"432\" width=\"32\" height=\"32\" stroke=\"black\" fill=\"black\"/>\n",
       "<text dominant-baseline=\"central\" text-anchor=\"middle\" font-family=\"monospace\" font-size=\"30\" x=\"1504\" y=\"448\" fill=\"white\">M</text>\n",
       "<text text-anchor=\"middle\" font-family=\"monospace\" font-size=\"8\" x=\"1504\" y=\"428\">rec[203]</text>\n",
       "<rect x=\"1488\" y=\"560\" width=\"32\" height=\"32\" stroke=\"black\" fill=\"black\"/>\n",
       "<text dominant-baseline=\"central\" text-anchor=\"middle\" font-family=\"monospace\" font-size=\"30\" x=\"1504\" y=\"576\" fill=\"white\">M</text>\n",
       "<text text-anchor=\"middle\" font-family=\"monospace\" font-size=\"8\" x=\"1504\" y=\"556\">rec[204]</text>\n",
       "<rect x=\"1488\" y=\"688\" width=\"32\" height=\"32\" stroke=\"black\" fill=\"black\"/>\n",
       "<text dominant-baseline=\"central\" text-anchor=\"middle\" font-family=\"monospace\" font-size=\"30\" x=\"1504\" y=\"704\" fill=\"white\">M</text>\n",
       "<text text-anchor=\"middle\" font-family=\"monospace\" font-size=\"8\" x=\"1504\" y=\"684\">rec[205]</text>\n",
       "<rect x=\"1488\" y=\"816\" width=\"32\" height=\"32\" stroke=\"black\" fill=\"black\"/>\n",
       "<text dominant-baseline=\"central\" text-anchor=\"middle\" font-family=\"monospace\" font-size=\"30\" x=\"1504\" y=\"832\" fill=\"white\">M</text>\n",
       "<text text-anchor=\"middle\" font-family=\"monospace\" font-size=\"8\" x=\"1504\" y=\"812\">rec[206]</text>\n",
       "<rect x=\"1488\" y=\"944\" width=\"32\" height=\"32\" stroke=\"black\" fill=\"black\"/>\n",
       "<text dominant-baseline=\"central\" text-anchor=\"middle\" font-family=\"monospace\" font-size=\"30\" x=\"1504\" y=\"960\" fill=\"white\">M</text>\n",
       "<text text-anchor=\"middle\" font-family=\"monospace\" font-size=\"8\" x=\"1504\" y=\"940\">rec[207]</text>\n",
       "<rect x=\"1488\" y=\"1072\" width=\"32\" height=\"32\" stroke=\"black\" fill=\"black\"/>\n",
       "<text dominant-baseline=\"central\" text-anchor=\"middle\" font-family=\"monospace\" font-size=\"30\" x=\"1504\" y=\"1088\" fill=\"white\">M</text>\n",
       "<text text-anchor=\"middle\" font-family=\"monospace\" font-size=\"8\" x=\"1504\" y=\"1068\">rec[208]</text>\n",
       "<rect x=\"1552\" y=\"48\" width=\"288\" height=\"32\" stroke=\"black\" fill=\"lightgray\"/>\n",
       "<text dominant-baseline=\"central\" text-anchor=\"middle\" font-family=\"monospace\" font-size=\"16\" x=\"1696\" y=\"64\">DETECTOR</text>\n",
       "<text dominant-baseline=\"hanging\" text-anchor=\"middle\" font-family=\"monospace\" font-size=\"8\" x=\"1696\" y=\"84\">coords=(1,25)</text>\n",
       "<text text-anchor=\"middle\" font-family=\"monospace\" font-size=\"8\" x=\"1696\" y=\"44\">D200 = rec[201]*rec[200]*rec[192]</text>\n",
       "<rect x=\"1552\" y=\"176\" width=\"288\" height=\"32\" stroke=\"black\" fill=\"lightgray\"/>\n",
       "<text dominant-baseline=\"central\" text-anchor=\"middle\" font-family=\"monospace\" font-size=\"16\" x=\"1696\" y=\"192\">DETECTOR</text>\n",
       "<text dominant-baseline=\"hanging\" text-anchor=\"middle\" font-family=\"monospace\" font-size=\"8\" x=\"1696\" y=\"212\">coords=(3,25)</text>\n",
       "<text text-anchor=\"middle\" font-family=\"monospace\" font-size=\"8\" x=\"1696\" y=\"172\">D201 = rec[202]*rec[201]*rec[193]</text>\n",
       "<rect x=\"1552\" y=\"304\" width=\"288\" height=\"32\" stroke=\"black\" fill=\"lightgray\"/>\n",
       "<text dominant-baseline=\"central\" text-anchor=\"middle\" font-family=\"monospace\" font-size=\"16\" x=\"1696\" y=\"320\">DETECTOR</text>\n",
       "<text dominant-baseline=\"hanging\" text-anchor=\"middle\" font-family=\"monospace\" font-size=\"8\" x=\"1696\" y=\"340\">coords=(5,25)</text>\n",
       "<text text-anchor=\"middle\" font-family=\"monospace\" font-size=\"8\" x=\"1696\" y=\"300\">D202 = rec[203]*rec[202]*rec[194]</text>\n",
       "<rect x=\"1552\" y=\"432\" width=\"288\" height=\"32\" stroke=\"black\" fill=\"lightgray\"/>\n",
       "<text dominant-baseline=\"central\" text-anchor=\"middle\" font-family=\"monospace\" font-size=\"16\" x=\"1696\" y=\"448\">DETECTOR</text>\n",
       "<text dominant-baseline=\"hanging\" text-anchor=\"middle\" font-family=\"monospace\" font-size=\"8\" x=\"1696\" y=\"468\">coords=(7,25)</text>\n",
       "<text text-anchor=\"middle\" font-family=\"monospace\" font-size=\"8\" x=\"1696\" y=\"428\">D203 = rec[204]*rec[203]*rec[195]</text>\n",
       "<rect x=\"1552\" y=\"560\" width=\"288\" height=\"32\" stroke=\"black\" fill=\"lightgray\"/>\n",
       "<text dominant-baseline=\"central\" text-anchor=\"middle\" font-family=\"monospace\" font-size=\"16\" x=\"1696\" y=\"576\">DETECTOR</text>\n",
       "<text dominant-baseline=\"hanging\" text-anchor=\"middle\" font-family=\"monospace\" font-size=\"8\" x=\"1696\" y=\"596\">coords=(9,25)</text>\n",
       "<text text-anchor=\"middle\" font-family=\"monospace\" font-size=\"8\" x=\"1696\" y=\"556\">D204 = rec[205]*rec[204]*rec[196]</text>\n",
       "<rect x=\"1552\" y=\"688\" width=\"288\" height=\"32\" stroke=\"black\" fill=\"lightgray\"/>\n",
       "<text dominant-baseline=\"central\" text-anchor=\"middle\" font-family=\"monospace\" font-size=\"16\" x=\"1696\" y=\"704\">DETECTOR</text>\n",
       "<text dominant-baseline=\"hanging\" text-anchor=\"middle\" font-family=\"monospace\" font-size=\"8\" x=\"1696\" y=\"724\">coords=(11,25)</text>\n",
       "<text text-anchor=\"middle\" font-family=\"monospace\" font-size=\"8\" x=\"1696\" y=\"684\">D205 = rec[206]*rec[205]*rec[197]</text>\n",
       "<rect x=\"1552\" y=\"816\" width=\"288\" height=\"32\" stroke=\"black\" fill=\"lightgray\"/>\n",
       "<text dominant-baseline=\"central\" text-anchor=\"middle\" font-family=\"monospace\" font-size=\"16\" x=\"1696\" y=\"832\">DETECTOR</text>\n",
       "<text dominant-baseline=\"hanging\" text-anchor=\"middle\" font-family=\"monospace\" font-size=\"8\" x=\"1696\" y=\"852\">coords=(13,25)</text>\n",
       "<text text-anchor=\"middle\" font-family=\"monospace\" font-size=\"8\" x=\"1696\" y=\"812\">D206 = rec[207]*rec[206]*rec[198]</text>\n",
       "<rect x=\"1552\" y=\"944\" width=\"288\" height=\"32\" stroke=\"black\" fill=\"lightgray\"/>\n",
       "<text dominant-baseline=\"central\" text-anchor=\"middle\" font-family=\"monospace\" font-size=\"16\" x=\"1696\" y=\"960\">DETECTOR</text>\n",
       "<text dominant-baseline=\"hanging\" text-anchor=\"middle\" font-family=\"monospace\" font-size=\"8\" x=\"1696\" y=\"980\">coords=(15,25)</text>\n",
       "<text text-anchor=\"middle\" font-family=\"monospace\" font-size=\"8\" x=\"1696\" y=\"940\">D207 = rec[208]*rec[207]*rec[199]</text>\n",
       "<rect x=\"1552\" y=\"1072\" width=\"160\" height=\"32\" stroke=\"black\" fill=\"lightgray\"/>\n",
       "<text dominant-baseline=\"central\" text-anchor=\"middle\" font-family=\"monospace\" font-size=\"16\" x=\"1632\" y=\"1088\">OBS_INCLUDE(0)</text>\n",
       "<text text-anchor=\"middle\" font-family=\"monospace\" font-size=\"8\" x=\"1632\" y=\"1068\">L0 *= rec[208]</text>\n",
       "<path d=\"M1412,40 L1412,32 L1852,32 L1852,40 \" stroke=\"black\" fill=\"none\"/>\n",
       "<path d=\"M1412,1144 L1412,1152 L1852,1152 L1852,1144 \" stroke=\"black\" fill=\"none\"/>\n",
       "</svg>"
      ]
     },
     "execution_count": 14,
     "metadata": {},
     "output_type": "execute_result"
    }
   ],
   "source": [
    "circuit = stim.Circuit.generated(\n",
    "    \"repetition_code:memory\",\n",
    "    rounds=25,\n",
    "    distance=9,\n",
    "    before_round_data_depolarization=0.04,\n",
    "    before_measure_flip_probability=0.01)\n",
    "\n",
    "print(repr(circuit))\n",
    "circuit.diagram('timeline-svg')"
   ]
  },
  {
   "cell_type": "markdown",
   "metadata": {
    "id": "DlMD7p6LTQVU"
   },
   "source": [
    "## ノイズモデル\n",
    "閾値計算で用いられる代表的なノイズモデルは以下になります。ノイズモデルや符号に応じて閾値は変化します。\n",
    "\n",
    "① Depolarizing Noise（脱分極モデル）\n",
    "各ビットにランダムなPauli誤り（X/Y/Z）が確率 p で独立に発生。対称で解析が容易、最も理想化されたモデル。\n",
    "\n",
    "② Phenomenological Noise（現象論的モデル）\n",
    "データ量子ビットとシンドローム測定に誤りが入るが、ゲートによる誤り伝播は考慮しない。トポロジカル符号（Surface, Toric）のしきい値評価に多用される。閾値は①に比して低下。\n",
    "\n",
    "③ Circuit-level Noise（回路レベルモデル）\n",
    "各ゲート・測定・初期化の操作単位で誤りが入り、誤りが回路内で伝播する\n",
    "実装に近い厳密な評価だが解析・シミュレーションが重い。閾値はさらに低下。"
   ]
  },
  {
   "cell_type": "markdown",
   "metadata": {
    "id": "lTu556AOMTv6"
   },
   "source": [
    "この回路は、最初の例よりも複雑であることがおわかりいただけるでしょう。図の下にある小さな「REP24」に注目してください。この回路は`REPEAT`ブロックを使ってコードのスタビライザーを繰り返し測定しています。\n",
    "\n",
    "回路が手元にあれば、そこからサンプリングしてみることができます。\n",
    "測定結果を一度サンプリングして、時間が行から行へと進むようにちょうどよく分割してプリントアウトしてみてください："
   ]
  },
  {
   "cell_type": "code",
   "execution_count": 15,
   "metadata": {
    "colab": {
     "base_uri": "https://localhost:8080/"
    },
    "executionInfo": {
     "elapsed": 6,
     "status": "ok",
     "timestamp": 1749668416218,
     "user": {
      "displayName": "西尾真",
      "userId": "00115546110162814399"
     },
     "user_tz": -60
    },
    "id": "hQyBEti8Ng_S",
    "outputId": "db600772-b269-43fc-9091-f26e5d18b0f8"
   },
   "outputs": [
    {
     "name": "stdout",
     "output_type": "stream",
     "text": [
      "_11_____\n",
      "_11_____\n",
      "_11_____\n",
      "_11_____\n",
      "_11_____\n",
      "_11_____\n",
      "_11_____\n",
      "_11___1_\n",
      "_11_____\n",
      "_11_____\n",
      "_11_____\n",
      "_11_____\n",
      "_11_____\n",
      "_11_____\n",
      "_111____\n",
      "_11_____\n",
      "_11_____\n",
      "_11_____\n",
      "_11_____\n",
      "________\n",
      "________\n",
      "________\n",
      "________\n",
      "________\n",
      "________\n",
      "________\n",
      "_\n"
     ]
    }
   ],
   "source": [
    "sampler = circuit.compile_sampler()\n",
    "one_sample = sampler.sample(shots=1)[0]\n",
    "for k in range(0, len(one_sample), 8):\n",
    "    timeslice = one_sample[k:k+8]\n",
    "    print(\"\".join(\"1\" if e else \"_\" for e in timeslice))"
   ]
  },
  {
   "cell_type": "markdown",
   "metadata": {
    "id": "I5J3W6bWOIhJ"
   },
   "source": [
    "1が連なったように見えるのがわかるでしょうか？\n",
    "データ量子ビットが一度反転すると反転したままになり、その左右の測定値が永久にパリティを変えることを示しています。\n",
    "\n",
    "回路の検出器をサンプリングすると、縞がまだら模様に置き換わり、より疎なデータが得られます。"
   ]
  },
  {
   "cell_type": "code",
   "execution_count": 16,
   "metadata": {
    "colab": {
     "base_uri": "https://localhost:8080/"
    },
    "executionInfo": {
     "elapsed": 26,
     "status": "ok",
     "timestamp": 1749668416245,
     "user": {
      "displayName": "西尾真",
      "userId": "00115546110162814399"
     },
     "user_tz": -60
    },
    "id": "jJCydGZnOeez",
    "outputId": "8e7e97e4-6e54-4162-f913-1cda0f3cd42b"
   },
   "outputs": [
    {
     "name": "stdout",
     "output_type": "stream",
     "text": [
      "________\n",
      "________\n",
      "________\n",
      "________\n",
      "________\n",
      "________\n",
      "________\n",
      "________\n",
      "________\n",
      "________\n",
      "________\n",
      "________\n",
      "________\n",
      "____!!__\n",
      "!_______\n",
      "________\n",
      "________\n",
      "________\n",
      "________\n",
      "________\n",
      "________\n",
      "!!_____!\n",
      "________\n",
      "________\n",
      "_!!_____\n",
      "________\n"
     ]
    }
   ],
   "source": [
    "detector_sampler = circuit.compile_detector_sampler()\n",
    "one_sample = detector_sampler.sample(shots=1)[0]\n",
    "for k in range(0, len(one_sample), 8):\n",
    "    timeslice = one_sample[k:k+8]\n",
    "    print(\"\".join(\"!\" if e else \"_\" for e in timeslice))"
   ]
  },
  {
   "cell_type": "markdown",
   "metadata": {
    "id": "fFNsm0_GOh4H"
   },
   "source": [
    "<!-- Notice how the `!`s tend to come in pairs, except near the sides.\n",
    "This \"comes in pairs\" property is extremely important, because it allows you to perform error correction.\n",
    "Every `!` must be paired with another `!`, with the left boundary, or with the right boundary.\n",
    "In the circuit generated by Stim, the logical observable is annotated to be a measurement of the leftmost data qubit.\n",
    "That data qubit was flipped once for each `!` that's paired with the left boundary.\n",
    "If the data qubit was flipped an even number of times, the observable that was measured is correct.\n",
    "If it was flipped an odd number of times, the observable that was measured needs to be flipped to be correct.\n",
    "If you just had a syndrome decoder, you could use it to solve the matching problem and figure out if the leftmost data qubit (and therefore the protected logical observable) ended up flipped or not...\n",
    "\n",
    "<a class=\"anchor\" id=\"use-pymatching\"></a>\n",
    "# 6. Use `pymatching` to correct errors in a circuit\n",
    "\n",
    "Stim has a key feature that makes it easier to use a decoder: converting a circuit into a detector error model.\n",
    "A detector error model is just a list of all the independent error mechanisms in a circuit, as well as their symptoms (which detectors they set off) and frame changes (which logical observables they flip).\n",
    "\n",
    "You can get the detector error mode for a circuit by calling [`circuit.detector_error_model()`](https://github.com/quantumlib/Stim/blob/main/doc/python_api_reference_vDev.md#stim.Circuit.detector_error_model): -->\n",
    "\n",
    "!が左右を除いて対になっていることに注目してほしい。\n",
    "この「対になる」という性質は非常に重要で、これによって誤り訂正を行うことができます。\n",
    "すべての `!` は他の `!`、左の境界、または右の境界と対になっていなければなりません。\n",
    "Stimによって生成された回路では、論理的な観測値は左端のデータ量子ビットの測定値であると注釈されています。\n",
    "そのデータ量子ビットは、左の境界と対になる `!``ごとに1回反転されます。\n",
    "データ量子ビットが偶数回反転された場合、測定された観測値は正しいことになります。\n",
    "もし奇数回反転されたなら、測定された観測値は反転されないと正しくなりません。\n",
    "もしシンドロームデコーダがあれば、それを使ってマッチング問題を解き、一番左のデータ量子ビット(したがって保護された論理観測値)が反転したかどうかを知ることができます。\n",
    "# 回路のエラーを修正するために`pymatching`を使う\n",
    "\n",
    "Stimには、デコーダーを使いやすくする重要な機能があります。それは、回路を検出器エラーモデルに変換することです。\n",
    "検出器エラーモデルとは、回路内のすべての独立した誤りのメカニズムと、そのシンドローム（どのディテクターがオフになるか）とフレーム・チェンジ（どの論理観測値が反転するか）のリストです。\n",
    "\n",
    "回路の検出器エラーモードは、[`circuit.detector_error_model()`](https://github.com/quantumlib/Stim/blob/main/doc/python_api_reference_vDev.md#stim.Circuit.detector_error_model)を呼び出すことで取得できます："
   ]
  },
  {
   "cell_type": "code",
   "execution_count": 17,
   "metadata": {
    "colab": {
     "base_uri": "https://localhost:8080/"
    },
    "executionInfo": {
     "elapsed": 20,
     "status": "ok",
     "timestamp": 1749668416245,
     "user": {
      "displayName": "西尾真",
      "userId": "00115546110162814399"
     },
     "user_tz": -60
    },
    "id": "qqUSe1BvO0V9",
    "outputId": "e907e2f5-e42e-4f16-a227-c728fc4771c2"
   },
   "outputs": [
    {
     "name": "stdout",
     "output_type": "stream",
     "text": [
      "stim.DetectorErrorModel('''\n",
      "    error(0.0266667) D0\n",
      "    error(0.0266667) D0 D1\n",
      "    error(0.01) D0 D8\n",
      "    error(0.0266667) D1 D2\n",
      "    error(0.01) D1 D9\n",
      "    error(0.0266667) D2 D3\n",
      "    error(0.01) D2 D10\n",
      "    error(0.0266667) D3 D4\n",
      "    error(0.01) D3 D11\n",
      "    error(0.0266667) D4 D5\n",
      "    error(0.01) D4 D12\n",
      "    error(0.0266667) D5 D6\n",
      "    error(0.01) D5 D13\n",
      "    error(0.0266667) D6 D7\n",
      "    error(0.01) D6 D14\n",
      "    error(0.01) D7 D15\n",
      "    error(0.0266667) D7 L0\n",
      "    detector(1, 0) D0\n",
      "    detector(3, 0) D1\n",
      "    detector(5, 0) D2\n",
      "    detector(7, 0) D3\n",
      "    detector(9, 0) D4\n",
      "    detector(11, 0) D5\n",
      "    detector(13, 0) D6\n",
      "    detector(15, 0) D7\n",
      "    repeat 23 {\n",
      "        error(0.0266667) D8\n",
      "        error(0.0266667) D8 D9\n",
      "        error(0.01) D8 D16\n",
      "        error(0.0266667) D9 D10\n",
      "        error(0.01) D9 D17\n",
      "        error(0.0266667) D10 D11\n",
      "        error(0.01) D10 D18\n",
      "        error(0.0266667) D11 D12\n",
      "        error(0.01) D11 D19\n",
      "        error(0.0266667) D12 D13\n",
      "        error(0.01) D12 D20\n",
      "        error(0.0266667) D13 D14\n",
      "        error(0.01) D13 D21\n",
      "        error(0.0266667) D14 D15\n",
      "        error(0.01) D14 D22\n",
      "        error(0.01) D15 D23\n",
      "        error(0.0266667) D15 L0\n",
      "        shift_detectors(0, 1) 0\n",
      "        detector(1, 0) D8\n",
      "        detector(3, 0) D9\n",
      "        detector(5, 0) D10\n",
      "        detector(7, 0) D11\n",
      "        detector(9, 0) D12\n",
      "        detector(11, 0) D13\n",
      "        detector(13, 0) D14\n",
      "        detector(15, 0) D15\n",
      "        shift_detectors 8\n",
      "    }\n",
      "    error(0.0266667) D8\n",
      "    error(0.0266667) D8 D9\n",
      "    error(0.01) D8 D16\n",
      "    error(0.0266667) D9 D10\n",
      "    error(0.01) D9 D17\n",
      "    error(0.0266667) D10 D11\n",
      "    error(0.01) D10 D18\n",
      "    error(0.0266667) D11 D12\n",
      "    error(0.01) D11 D19\n",
      "    error(0.0266667) D12 D13\n",
      "    error(0.01) D12 D20\n",
      "    error(0.0266667) D13 D14\n",
      "    error(0.01) D13 D21\n",
      "    error(0.0266667) D14 D15\n",
      "    error(0.01) D14 D22\n",
      "    error(0.01) D15 D23\n",
      "    error(0.0266667) D15 L0\n",
      "    error(0.01) D16\n",
      "    error(0.01) D16 D17\n",
      "    error(0.01) D17 D18\n",
      "    error(0.01) D18 D19\n",
      "    error(0.01) D19 D20\n",
      "    error(0.01) D20 D21\n",
      "    error(0.01) D21 D22\n",
      "    error(0.01) D22 D23\n",
      "    error(0.01) D23 L0\n",
      "    shift_detectors(0, 1) 0\n",
      "    detector(1, 0) D8\n",
      "    detector(3, 0) D9\n",
      "    detector(5, 0) D10\n",
      "    detector(7, 0) D11\n",
      "    detector(9, 0) D12\n",
      "    detector(11, 0) D13\n",
      "    detector(13, 0) D14\n",
      "    detector(15, 0) D15\n",
      "    detector(1, 1) D16\n",
      "    detector(3, 1) D17\n",
      "    detector(5, 1) D18\n",
      "    detector(7, 1) D19\n",
      "    detector(9, 1) D20\n",
      "    detector(11, 1) D21\n",
      "    detector(13, 1) D22\n",
      "    detector(15, 1) D23\n",
      "''')\n"
     ]
    }
   ],
   "source": [
    "dem = circuit.detector_error_model()\n",
    "print(repr(dem))"
   ]
  },
  {
   "cell_type": "markdown",
   "metadata": {
    "id": "2NpcBtBM-qOS"
   },
   "source": [
    "`matchgraph-svg`ダイアグラムを使えば、検出器エラーモデルをグラフとして見ることができます。この図がうまく見えるかどうかは、回路が検出器の座標データを指定しているかどうかに大きく依存していることに注意してください。幸運なことに、あなたが生成した回路には良い座標データが含まれています："
   ]
  },
  {
   "cell_type": "code",
   "execution_count": 18,
   "metadata": {
    "colab": {
     "base_uri": "https://localhost:8080/",
     "height": 1000
    },
    "executionInfo": {
     "elapsed": 52,
     "status": "ok",
     "timestamp": 1749668416296,
     "user": {
      "displayName": "西尾真",
      "userId": "00115546110162814399"
     },
     "user_tz": -60
    },
    "id": "DrUUoFMu-qOV",
    "outputId": "af4a953f-f5ce-43cc-cc8b-6daad28fa59c"
   },
   "outputs": [
    {
     "data": {
      "image/svg+xml": [
       "<svg viewBox=\"0 0 319.746 472.251\"  version=\"1.1\" xmlns=\"http://www.w3.org/2000/svg\">\n",
       "<path d=\"M54.8729,48.6253 L30.4428,5 M54.8729,48.6253 L84.8729,48.6253 M54.8729,48.6253 L54.8729,63.6253 M84.8729,48.6253 L114.873,48.6253 M84.8729,48.6253 L84.8729,63.6253 M114.873,48.6253 L144.873,48.6253 M114.873,48.6253 L114.873,63.6253 M144.873,48.6253 L174.873,48.6253 M144.873,48.6253 L144.873,63.6253 M174.873,48.6253 L204.873,48.6253 M174.873,48.6253 L174.873,63.6253 M204.873,48.6253 L234.873,48.6253 M204.873,48.6253 L204.873,63.6253 M234.873,48.6253 L264.873,48.6253 M234.873,48.6253 L234.873,63.6253 M264.873,48.6253 L264.873,63.6253 M54.8729,63.6253 L28.8756,20.9154 M54.8729,63.6253 L84.8729,63.6253 M54.8729,63.6253 L54.8729,78.6253 M84.8729,63.6253 L114.873,63.6253 M84.8729,63.6253 L84.8729,78.6253 M114.873,63.6253 L144.873,63.6253 M114.873,63.6253 L114.873,78.6253 M144.873,63.6253 L174.873,63.6253 M144.873,63.6253 L144.873,78.6253 M174.873,63.6253 L204.873,63.6253 M174.873,63.6253 L174.873,78.6253 M204.873,63.6253 L234.873,63.6253 M204.873,63.6253 L204.873,78.6253 M234.873,63.6253 L264.873,63.6253 M234.873,63.6253 L234.873,78.6253 M264.873,63.6253 L264.873,78.6253 M54.8729,78.6253 L27.1379,37.0228 M54.8729,78.6253 L84.8729,78.6253 M54.8729,78.6253 L54.8729,93.6253 M84.8729,78.6253 L114.873,78.6253 M84.8729,78.6253 L84.8729,93.6253 M114.873,78.6253 L144.873,78.6253 M114.873,78.6253 L114.873,93.6253 M144.873,78.6253 L174.873,78.6253 M144.873,78.6253 L144.873,93.6253 M174.873,78.6253 L204.873,78.6253 M174.873,78.6253 L174.873,93.6253 M204.873,78.6253 L234.873,78.6253 M204.873,78.6253 L204.873,93.6253 M234.873,78.6253 L264.873,78.6253 M234.873,78.6253 L234.873,93.6253 M264.873,78.6253 L264.873,93.6253 M54.8729,93.6253 L25.213,53.3725 M54.8729,93.6253 L84.8729,93.6253 M54.8729,93.6253 L54.8729,108.625 M84.8729,93.6253 L114.873,93.6253 M84.8729,93.6253 L84.8729,108.625 M114.873,93.6253 L144.873,93.6253 M114.873,93.6253 L114.873,108.625 M144.873,93.6253 L174.873,93.6253 M144.873,93.6253 L144.873,108.625 M174.873,93.6253 L204.873,93.6253 M174.873,93.6253 L174.873,108.625 M204.873,93.6253 L234.873,93.6253 M204.873,93.6253 L204.873,108.625 M234.873,93.6253 L264.873,93.6253 M234.873,93.6253 L234.873,108.625 M264.873,93.6253 L264.873,108.625 M54.8729,108.625 L23.0876,70.0288 M54.8729,108.625 L84.8729,108.625 M54.8729,108.625 L54.8729,123.625 M84.8729,108.625 L114.873,108.625 M84.8729,108.625 L84.8729,123.625 M114.873,108.625 L144.873,108.625 M114.873,108.625 L114.873,123.625 M144.873,108.625 L174.873,108.625 M144.873,108.625 L144.873,123.625 M174.873,108.625 L204.873,108.625 M174.873,108.625 L174.873,123.625 M204.873,108.625 L234.873,108.625 M204.873,108.625 L204.873,123.625 M234.873,108.625 L264.873,108.625 M234.873,108.625 L234.873,123.625 M264.873,108.625 L264.873,123.625 M54.8729,123.625 L20.757,87.0725 M54.8729,123.625 L84.8729,123.625 M54.8729,123.625 L54.8729,138.625 M84.8729,123.625 L114.873,123.625 M84.8729,123.625 L84.8729,138.625 M114.873,123.625 L144.873,123.625 M114.873,123.625 L114.873,138.625 M144.873,123.625 L174.873,123.625 M144.873,123.625 L144.873,138.625 M174.873,123.625 L204.873,123.625 M174.873,123.625 L174.873,138.625 M204.873,123.625 L234.873,123.625 M204.873,123.625 L204.873,138.625 M234.873,123.625 L264.873,123.625 M234.873,123.625 L234.873,138.625 M264.873,123.625 L264.873,138.625 M54.8729,138.625 L18.2333,104.603 M54.8729,138.625 L84.8729,138.625 M54.8729,138.625 L54.8729,153.625 M84.8729,138.625 L114.873,138.625 M84.8729,138.625 L84.8729,153.625 M114.873,138.625 L144.873,138.625 M114.873,138.625 L114.873,153.625 M144.873,138.625 L174.873,138.625 M144.873,138.625 L144.873,153.625 M174.873,138.625 L204.873,138.625 M174.873,138.625 L174.873,153.625 M204.873,138.625 L234.873,138.625 M204.873,138.625 L204.873,153.625 M234.873,138.625 L264.873,138.625 M234.873,138.625 L234.873,153.625 M264.873,138.625 L264.873,153.625 M54.8729,153.625 L15.557,122.734 M54.8729,153.625 L84.8729,153.625 M54.8729,153.625 L54.8729,168.625 M84.8729,153.625 L114.873,153.625 M84.8729,153.625 L84.8729,168.625 M114.873,153.625 L144.873,153.625 M114.873,153.625 L114.873,168.625 M144.873,153.625 L174.873,153.625 M144.873,153.625 L144.873,168.625 M174.873,153.625 L204.873,153.625 M174.873,153.625 L174.873,168.625 M204.873,153.625 L234.873,153.625 M204.873,153.625 L204.873,168.625 M234.873,153.625 L264.873,153.625 M234.873,153.625 L234.873,168.625 M264.873,153.625 L264.873,168.625 M54.8729,168.625 L12.814,141.587 M54.8729,168.625 L84.8729,168.625 M54.8729,168.625 L54.8729,183.625 M84.8729,168.625 L114.873,168.625 M84.8729,168.625 L84.8729,183.625 M114.873,168.625 L144.873,168.625 M114.873,168.625 L114.873,183.625 M144.873,168.625 L174.873,168.625 M144.873,168.625 L144.873,183.625 M174.873,168.625 L204.873,168.625 M174.873,168.625 L174.873,183.625 M204.873,168.625 L234.873,168.625 M204.873,168.625 L204.873,183.625 M234.873,168.625 L264.873,168.625 M234.873,168.625 L234.873,183.625 M264.873,168.625 L264.873,183.625 M54.8729,183.625 L10.1516,161.265 M54.8729,183.625 L84.8729,183.625 M54.8729,183.625 L54.8729,198.625 M84.8729,183.625 L114.873,183.625 M84.8729,183.625 L84.8729,198.625 M114.873,183.625 L144.873,183.625 M114.873,183.625 L114.873,198.625 M144.873,183.625 L174.873,183.625 M144.873,183.625 L144.873,198.625 M174.873,183.625 L204.873,183.625 M174.873,183.625 L174.873,198.625 M204.873,183.625 L234.873,183.625 M204.873,183.625 L204.873,198.625 M234.873,183.625 L264.873,183.625 M234.873,183.625 L234.873,198.625 M264.873,183.625 L264.873,198.625 M54.8729,198.625 L7.78584,181.808 M54.8729,198.625 L84.8729,198.625 M54.8729,198.625 L54.8729,213.625 M84.8729,198.625 L114.873,198.625 M84.8729,198.625 L84.8729,213.625 M114.873,198.625 L144.873,198.625 M114.873,198.625 L114.873,213.625 M144.873,198.625 L174.873,198.625 M144.873,198.625 L144.873,213.625 M174.873,198.625 L204.873,198.625 M174.873,198.625 L174.873,213.625 M204.873,198.625 L234.873,198.625 M204.873,198.625 L204.873,213.625 M234.873,198.625 L264.873,198.625 M234.873,198.625 L234.873,213.625 M264.873,198.625 L264.873,213.625 M54.8729,213.625 L5.98281,203.149 M54.8729,213.625 L84.8729,213.625 M54.8729,213.625 L54.8729,228.625 M84.8729,213.625 L114.873,213.625 M84.8729,213.625 L84.8729,228.625 M114.873,213.625 L144.873,213.625 M114.873,213.625 L114.873,228.625 M144.873,213.625 L174.873,213.625 M144.873,213.625 L144.873,228.625 M174.873,213.625 L204.873,213.625 M174.873,213.625 L174.873,228.625 M204.873,213.625 L234.873,213.625 M204.873,213.625 L204.873,228.625 M234.873,213.625 L264.873,213.625 M234.873,213.625 L234.873,228.625 M264.873,213.625 L264.873,228.625 M54.8729,228.625 L5,225.063 M54.8729,228.625 L84.8729,228.625 M54.8729,228.625 L54.8729,243.625 M84.8729,228.625 L114.873,228.625 M84.8729,228.625 L84.8729,243.625 M114.873,228.625 L144.873,228.625 M114.873,228.625 L114.873,243.625 M144.873,228.625 L174.873,228.625 M144.873,228.625 L144.873,243.625 M174.873,228.625 L204.873,228.625 M174.873,228.625 L174.873,243.625 M204.873,228.625 L234.873,228.625 M204.873,228.625 L204.873,243.625 M234.873,228.625 L264.873,228.625 M234.873,228.625 L234.873,243.625 M264.873,228.625 L264.873,243.625 M54.8729,243.625 L5,247.188 M54.8729,243.625 L84.8729,243.625 M54.8729,243.625 L54.8729,258.625 M84.8729,243.625 L114.873,243.625 M84.8729,243.625 L84.8729,258.625 M114.873,243.625 L144.873,243.625 M114.873,243.625 L114.873,258.625 M144.873,243.625 L174.873,243.625 M144.873,243.625 L144.873,258.625 M174.873,243.625 L204.873,243.625 M174.873,243.625 L174.873,258.625 M204.873,243.625 L234.873,243.625 M204.873,243.625 L204.873,258.625 M234.873,243.625 L264.873,243.625 M234.873,243.625 L234.873,258.625 M264.873,243.625 L264.873,258.625 M54.8729,258.625 L5.98281,269.102 M54.8729,258.625 L84.8729,258.625 M54.8729,258.625 L54.8729,273.625 M84.8729,258.625 L114.873,258.625 M84.8729,258.625 L84.8729,273.625 M114.873,258.625 L144.873,258.625 M114.873,258.625 L114.873,273.625 M144.873,258.625 L174.873,258.625 M144.873,258.625 L144.873,273.625 M174.873,258.625 L204.873,258.625 M174.873,258.625 L174.873,273.625 M204.873,258.625 L234.873,258.625 M204.873,258.625 L204.873,273.625 M234.873,258.625 L264.873,258.625 M234.873,258.625 L234.873,273.625 M264.873,258.625 L264.873,273.625 M54.8729,273.625 L7.78584,290.442 M54.8729,273.625 L84.8729,273.625 M54.8729,273.625 L54.8729,288.625 M84.8729,273.625 L114.873,273.625 M84.8729,273.625 L84.8729,288.625 M114.873,273.625 L144.873,273.625 M114.873,273.625 L114.873,288.625 M144.873,273.625 L174.873,273.625 M144.873,273.625 L144.873,288.625 M174.873,273.625 L204.873,273.625 M174.873,273.625 L174.873,288.625 M204.873,273.625 L234.873,273.625 M204.873,273.625 L204.873,288.625 M234.873,273.625 L264.873,273.625 M234.873,273.625 L234.873,288.625 M264.873,273.625 L264.873,288.625 M54.8729,288.625 L10.1516,310.986 M54.8729,288.625 L84.8729,288.625 M54.8729,288.625 L54.8729,303.625 M84.8729,288.625 L114.873,288.625 M84.8729,288.625 L84.8729,303.625 M114.873,288.625 L144.873,288.625 M114.873,288.625 L114.873,303.625 M144.873,288.625 L174.873,288.625 M144.873,288.625 L144.873,303.625 M174.873,288.625 L204.873,288.625 M174.873,288.625 L174.873,303.625 M204.873,288.625 L234.873,288.625 M204.873,288.625 L204.873,303.625 M234.873,288.625 L264.873,288.625 M234.873,288.625 L234.873,303.625 M264.873,288.625 L264.873,303.625 M54.8729,303.625 L12.814,330.663 M54.8729,303.625 L84.8729,303.625 M54.8729,303.625 L54.8729,318.625 M84.8729,303.625 L114.873,303.625 M84.8729,303.625 L84.8729,318.625 M114.873,303.625 L144.873,303.625 M114.873,303.625 L114.873,318.625 M144.873,303.625 L174.873,303.625 M144.873,303.625 L144.873,318.625 M174.873,303.625 L204.873,303.625 M174.873,303.625 L174.873,318.625 M204.873,303.625 L234.873,303.625 M204.873,303.625 L204.873,318.625 M234.873,303.625 L264.873,303.625 M234.873,303.625 L234.873,318.625 M264.873,303.625 L264.873,318.625 M54.8729,318.625 L15.557,349.516 M54.8729,318.625 L84.8729,318.625 M54.8729,318.625 L54.8729,333.625 M84.8729,318.625 L114.873,318.625 M84.8729,318.625 L84.8729,333.625 M114.873,318.625 L144.873,318.625 M114.873,318.625 L114.873,333.625 M144.873,318.625 L174.873,318.625 M144.873,318.625 L144.873,333.625 M174.873,318.625 L204.873,318.625 M174.873,318.625 L174.873,333.625 M204.873,318.625 L234.873,318.625 M204.873,318.625 L204.873,333.625 M234.873,318.625 L264.873,318.625 M234.873,318.625 L234.873,333.625 M264.873,318.625 L264.873,333.625 M54.8729,333.625 L18.2333,367.648 M54.8729,333.625 L84.8729,333.625 M54.8729,333.625 L54.8729,348.625 M84.8729,333.625 L114.873,333.625 M84.8729,333.625 L84.8729,348.625 M114.873,333.625 L144.873,333.625 M114.873,333.625 L114.873,348.625 M144.873,333.625 L174.873,333.625 M144.873,333.625 L144.873,348.625 M174.873,333.625 L204.873,333.625 M174.873,333.625 L174.873,348.625 M204.873,333.625 L234.873,333.625 M204.873,333.625 L204.873,348.625 M234.873,333.625 L264.873,333.625 M234.873,333.625 L234.873,348.625 M264.873,333.625 L264.873,348.625 M54.8729,348.625 L20.757,385.178 M54.8729,348.625 L84.8729,348.625 M54.8729,348.625 L54.8729,363.625 M84.8729,348.625 L114.873,348.625 M84.8729,348.625 L84.8729,363.625 M114.873,348.625 L144.873,348.625 M114.873,348.625 L114.873,363.625 M144.873,348.625 L174.873,348.625 M144.873,348.625 L144.873,363.625 M174.873,348.625 L204.873,348.625 M174.873,348.625 L174.873,363.625 M204.873,348.625 L234.873,348.625 M204.873,348.625 L204.873,363.625 M234.873,348.625 L264.873,348.625 M234.873,348.625 L234.873,363.625 M264.873,348.625 L264.873,363.625 M54.8729,363.625 L23.0876,402.222 M54.8729,363.625 L84.8729,363.625 M54.8729,363.625 L54.8729,378.625 M84.8729,363.625 L114.873,363.625 M84.8729,363.625 L84.8729,378.625 M114.873,363.625 L144.873,363.625 M114.873,363.625 L114.873,378.625 M144.873,363.625 L174.873,363.625 M144.873,363.625 L144.873,378.625 M174.873,363.625 L204.873,363.625 M174.873,363.625 L174.873,378.625 M204.873,363.625 L234.873,363.625 M204.873,363.625 L204.873,378.625 M234.873,363.625 L264.873,363.625 M234.873,363.625 L234.873,378.625 M264.873,363.625 L264.873,378.625 M54.8729,378.625 L25.213,418.878 M54.8729,378.625 L84.8729,378.625 M54.8729,378.625 L54.8729,393.625 M84.8729,378.625 L114.873,378.625 M84.8729,378.625 L84.8729,393.625 M114.873,378.625 L144.873,378.625 M114.873,378.625 L114.873,393.625 M144.873,378.625 L174.873,378.625 M144.873,378.625 L144.873,393.625 M174.873,378.625 L204.873,378.625 M174.873,378.625 L174.873,393.625 M204.873,378.625 L234.873,378.625 M204.873,378.625 L204.873,393.625 M234.873,378.625 L264.873,378.625 M234.873,378.625 L234.873,393.625 M264.873,378.625 L264.873,393.625 M54.8729,393.625 L27.1379,435.228 M54.8729,393.625 L84.8729,393.625 M54.8729,393.625 L54.8729,408.625 M84.8729,393.625 L114.873,393.625 M84.8729,393.625 L84.8729,408.625 M114.873,393.625 L144.873,393.625 M114.873,393.625 L114.873,408.625 M144.873,393.625 L174.873,393.625 M144.873,393.625 L144.873,408.625 M174.873,393.625 L204.873,393.625 M174.873,393.625 L174.873,408.625 M204.873,393.625 L234.873,393.625 M204.873,393.625 L204.873,408.625 M234.873,393.625 L264.873,393.625 M234.873,393.625 L234.873,408.625 M264.873,393.625 L264.873,408.625 M54.8729,408.625 L28.8756,451.335 M54.8729,408.625 L84.8729,408.625 M54.8729,408.625 L54.8729,423.625 M84.8729,408.625 L114.873,408.625 M84.8729,408.625 L84.8729,423.625 M114.873,408.625 L144.873,408.625 M114.873,408.625 L114.873,423.625 M144.873,408.625 L174.873,408.625 M144.873,408.625 L144.873,423.625 M174.873,408.625 L204.873,408.625 M174.873,408.625 L174.873,423.625 M204.873,408.625 L234.873,408.625 M204.873,408.625 L204.873,423.625 M234.873,408.625 L264.873,408.625 M234.873,408.625 L234.873,423.625 M264.873,408.625 L264.873,423.625 M54.8729,423.625 L30.4428,467.251 M54.8729,423.625 L84.8729,423.625 M84.8729,423.625 L114.873,423.625 M114.873,423.625 L144.873,423.625 M144.873,423.625 L174.873,423.625 M174.873,423.625 L204.873,423.625 M204.873,423.625 L234.873,423.625 M234.873,423.625 L264.873,423.625\" stroke=\"black\" fill=\"none\" stroke-width=\"0.2\"/>\n",
       "<path d=\"M264.873,48.6253 L289.303,5 M264.873,63.6253 L290.87,20.9154 M264.873,78.6253 L292.608,37.0228 M264.873,93.6253 L294.533,53.3725 M264.873,108.625 L296.658,70.0288 M264.873,123.625 L298.989,87.0725 M264.873,138.625 L301.513,104.603 M264.873,153.625 L304.189,122.734 M264.873,168.625 L306.932,141.587 M264.873,183.625 L309.594,161.265 M264.873,198.625 L311.96,181.808 M264.873,213.625 L313.763,203.149 M264.873,228.625 L314.746,225.063 M264.873,243.625 L314.746,247.188 M264.873,258.625 L313.763,269.102 M264.873,273.625 L311.96,290.442 M264.873,288.625 L309.594,310.986 M264.873,303.625 L306.932,330.663 M264.873,318.625 L304.189,349.516 M264.873,333.625 L301.513,367.648 M264.873,348.625 L298.989,385.178 M264.873,363.625 L296.658,402.222 M264.873,378.625 L294.533,418.878 M264.873,393.625 L292.608,435.228 M264.873,408.625 L290.87,451.335 M264.873,423.625 L289.303,467.251\" stroke=\"red\" fill=\"none\" stroke-width=\"0.2\"/>\n",
       "<circle cx=\"54.8729\" cy=\"48.6253\" r=\"0.5\" stroke=\"none\" fill=\"black\"/>\n",
       "<circle cx=\"84.8729\" cy=\"48.6253\" r=\"0.5\" stroke=\"none\" fill=\"black\"/>\n",
       "<circle cx=\"114.873\" cy=\"48.6253\" r=\"0.5\" stroke=\"none\" fill=\"black\"/>\n",
       "<circle cx=\"144.873\" cy=\"48.6253\" r=\"0.5\" stroke=\"none\" fill=\"black\"/>\n",
       "<circle cx=\"174.873\" cy=\"48.6253\" r=\"0.5\" stroke=\"none\" fill=\"black\"/>\n",
       "<circle cx=\"204.873\" cy=\"48.6253\" r=\"0.5\" stroke=\"none\" fill=\"black\"/>\n",
       "<circle cx=\"234.873\" cy=\"48.6253\" r=\"0.5\" stroke=\"none\" fill=\"black\"/>\n",
       "<circle cx=\"264.873\" cy=\"48.6253\" r=\"0.5\" stroke=\"none\" fill=\"black\"/>\n",
       "<circle cx=\"54.8729\" cy=\"63.6253\" r=\"0.5\" stroke=\"none\" fill=\"black\"/>\n",
       "<circle cx=\"84.8729\" cy=\"63.6253\" r=\"0.5\" stroke=\"none\" fill=\"black\"/>\n",
       "<circle cx=\"114.873\" cy=\"63.6253\" r=\"0.5\" stroke=\"none\" fill=\"black\"/>\n",
       "<circle cx=\"144.873\" cy=\"63.6253\" r=\"0.5\" stroke=\"none\" fill=\"black\"/>\n",
       "<circle cx=\"174.873\" cy=\"63.6253\" r=\"0.5\" stroke=\"none\" fill=\"black\"/>\n",
       "<circle cx=\"204.873\" cy=\"63.6253\" r=\"0.5\" stroke=\"none\" fill=\"black\"/>\n",
       "<circle cx=\"234.873\" cy=\"63.6253\" r=\"0.5\" stroke=\"none\" fill=\"black\"/>\n",
       "<circle cx=\"264.873\" cy=\"63.6253\" r=\"0.5\" stroke=\"none\" fill=\"black\"/>\n",
       "<circle cx=\"54.8729\" cy=\"78.6253\" r=\"0.5\" stroke=\"none\" fill=\"black\"/>\n",
       "<circle cx=\"84.8729\" cy=\"78.6253\" r=\"0.5\" stroke=\"none\" fill=\"black\"/>\n",
       "<circle cx=\"114.873\" cy=\"78.6253\" r=\"0.5\" stroke=\"none\" fill=\"black\"/>\n",
       "<circle cx=\"144.873\" cy=\"78.6253\" r=\"0.5\" stroke=\"none\" fill=\"black\"/>\n",
       "<circle cx=\"174.873\" cy=\"78.6253\" r=\"0.5\" stroke=\"none\" fill=\"black\"/>\n",
       "<circle cx=\"204.873\" cy=\"78.6253\" r=\"0.5\" stroke=\"none\" fill=\"black\"/>\n",
       "<circle cx=\"234.873\" cy=\"78.6253\" r=\"0.5\" stroke=\"none\" fill=\"black\"/>\n",
       "<circle cx=\"264.873\" cy=\"78.6253\" r=\"0.5\" stroke=\"none\" fill=\"black\"/>\n",
       "<circle cx=\"54.8729\" cy=\"93.6253\" r=\"0.5\" stroke=\"none\" fill=\"black\"/>\n",
       "<circle cx=\"84.8729\" cy=\"93.6253\" r=\"0.5\" stroke=\"none\" fill=\"black\"/>\n",
       "<circle cx=\"114.873\" cy=\"93.6253\" r=\"0.5\" stroke=\"none\" fill=\"black\"/>\n",
       "<circle cx=\"144.873\" cy=\"93.6253\" r=\"0.5\" stroke=\"none\" fill=\"black\"/>\n",
       "<circle cx=\"174.873\" cy=\"93.6253\" r=\"0.5\" stroke=\"none\" fill=\"black\"/>\n",
       "<circle cx=\"204.873\" cy=\"93.6253\" r=\"0.5\" stroke=\"none\" fill=\"black\"/>\n",
       "<circle cx=\"234.873\" cy=\"93.6253\" r=\"0.5\" stroke=\"none\" fill=\"black\"/>\n",
       "<circle cx=\"264.873\" cy=\"93.6253\" r=\"0.5\" stroke=\"none\" fill=\"black\"/>\n",
       "<circle cx=\"54.8729\" cy=\"108.625\" r=\"0.5\" stroke=\"none\" fill=\"black\"/>\n",
       "<circle cx=\"84.8729\" cy=\"108.625\" r=\"0.5\" stroke=\"none\" fill=\"black\"/>\n",
       "<circle cx=\"114.873\" cy=\"108.625\" r=\"0.5\" stroke=\"none\" fill=\"black\"/>\n",
       "<circle cx=\"144.873\" cy=\"108.625\" r=\"0.5\" stroke=\"none\" fill=\"black\"/>\n",
       "<circle cx=\"174.873\" cy=\"108.625\" r=\"0.5\" stroke=\"none\" fill=\"black\"/>\n",
       "<circle cx=\"204.873\" cy=\"108.625\" r=\"0.5\" stroke=\"none\" fill=\"black\"/>\n",
       "<circle cx=\"234.873\" cy=\"108.625\" r=\"0.5\" stroke=\"none\" fill=\"black\"/>\n",
       "<circle cx=\"264.873\" cy=\"108.625\" r=\"0.5\" stroke=\"none\" fill=\"black\"/>\n",
       "<circle cx=\"54.8729\" cy=\"123.625\" r=\"0.5\" stroke=\"none\" fill=\"black\"/>\n",
       "<circle cx=\"84.8729\" cy=\"123.625\" r=\"0.5\" stroke=\"none\" fill=\"black\"/>\n",
       "<circle cx=\"114.873\" cy=\"123.625\" r=\"0.5\" stroke=\"none\" fill=\"black\"/>\n",
       "<circle cx=\"144.873\" cy=\"123.625\" r=\"0.5\" stroke=\"none\" fill=\"black\"/>\n",
       "<circle cx=\"174.873\" cy=\"123.625\" r=\"0.5\" stroke=\"none\" fill=\"black\"/>\n",
       "<circle cx=\"204.873\" cy=\"123.625\" r=\"0.5\" stroke=\"none\" fill=\"black\"/>\n",
       "<circle cx=\"234.873\" cy=\"123.625\" r=\"0.5\" stroke=\"none\" fill=\"black\"/>\n",
       "<circle cx=\"264.873\" cy=\"123.625\" r=\"0.5\" stroke=\"none\" fill=\"black\"/>\n",
       "<circle cx=\"54.8729\" cy=\"138.625\" r=\"0.5\" stroke=\"none\" fill=\"black\"/>\n",
       "<circle cx=\"84.8729\" cy=\"138.625\" r=\"0.5\" stroke=\"none\" fill=\"black\"/>\n",
       "<circle cx=\"114.873\" cy=\"138.625\" r=\"0.5\" stroke=\"none\" fill=\"black\"/>\n",
       "<circle cx=\"144.873\" cy=\"138.625\" r=\"0.5\" stroke=\"none\" fill=\"black\"/>\n",
       "<circle cx=\"174.873\" cy=\"138.625\" r=\"0.5\" stroke=\"none\" fill=\"black\"/>\n",
       "<circle cx=\"204.873\" cy=\"138.625\" r=\"0.5\" stroke=\"none\" fill=\"black\"/>\n",
       "<circle cx=\"234.873\" cy=\"138.625\" r=\"0.5\" stroke=\"none\" fill=\"black\"/>\n",
       "<circle cx=\"264.873\" cy=\"138.625\" r=\"0.5\" stroke=\"none\" fill=\"black\"/>\n",
       "<circle cx=\"54.8729\" cy=\"153.625\" r=\"0.5\" stroke=\"none\" fill=\"black\"/>\n",
       "<circle cx=\"84.8729\" cy=\"153.625\" r=\"0.5\" stroke=\"none\" fill=\"black\"/>\n",
       "<circle cx=\"114.873\" cy=\"153.625\" r=\"0.5\" stroke=\"none\" fill=\"black\"/>\n",
       "<circle cx=\"144.873\" cy=\"153.625\" r=\"0.5\" stroke=\"none\" fill=\"black\"/>\n",
       "<circle cx=\"174.873\" cy=\"153.625\" r=\"0.5\" stroke=\"none\" fill=\"black\"/>\n",
       "<circle cx=\"204.873\" cy=\"153.625\" r=\"0.5\" stroke=\"none\" fill=\"black\"/>\n",
       "<circle cx=\"234.873\" cy=\"153.625\" r=\"0.5\" stroke=\"none\" fill=\"black\"/>\n",
       "<circle cx=\"264.873\" cy=\"153.625\" r=\"0.5\" stroke=\"none\" fill=\"black\"/>\n",
       "<circle cx=\"54.8729\" cy=\"168.625\" r=\"0.5\" stroke=\"none\" fill=\"black\"/>\n",
       "<circle cx=\"84.8729\" cy=\"168.625\" r=\"0.5\" stroke=\"none\" fill=\"black\"/>\n",
       "<circle cx=\"114.873\" cy=\"168.625\" r=\"0.5\" stroke=\"none\" fill=\"black\"/>\n",
       "<circle cx=\"144.873\" cy=\"168.625\" r=\"0.5\" stroke=\"none\" fill=\"black\"/>\n",
       "<circle cx=\"174.873\" cy=\"168.625\" r=\"0.5\" stroke=\"none\" fill=\"black\"/>\n",
       "<circle cx=\"204.873\" cy=\"168.625\" r=\"0.5\" stroke=\"none\" fill=\"black\"/>\n",
       "<circle cx=\"234.873\" cy=\"168.625\" r=\"0.5\" stroke=\"none\" fill=\"black\"/>\n",
       "<circle cx=\"264.873\" cy=\"168.625\" r=\"0.5\" stroke=\"none\" fill=\"black\"/>\n",
       "<circle cx=\"54.8729\" cy=\"183.625\" r=\"0.5\" stroke=\"none\" fill=\"black\"/>\n",
       "<circle cx=\"84.8729\" cy=\"183.625\" r=\"0.5\" stroke=\"none\" fill=\"black\"/>\n",
       "<circle cx=\"114.873\" cy=\"183.625\" r=\"0.5\" stroke=\"none\" fill=\"black\"/>\n",
       "<circle cx=\"144.873\" cy=\"183.625\" r=\"0.5\" stroke=\"none\" fill=\"black\"/>\n",
       "<circle cx=\"174.873\" cy=\"183.625\" r=\"0.5\" stroke=\"none\" fill=\"black\"/>\n",
       "<circle cx=\"204.873\" cy=\"183.625\" r=\"0.5\" stroke=\"none\" fill=\"black\"/>\n",
       "<circle cx=\"234.873\" cy=\"183.625\" r=\"0.5\" stroke=\"none\" fill=\"black\"/>\n",
       "<circle cx=\"264.873\" cy=\"183.625\" r=\"0.5\" stroke=\"none\" fill=\"black\"/>\n",
       "<circle cx=\"54.8729\" cy=\"198.625\" r=\"0.5\" stroke=\"none\" fill=\"black\"/>\n",
       "<circle cx=\"84.8729\" cy=\"198.625\" r=\"0.5\" stroke=\"none\" fill=\"black\"/>\n",
       "<circle cx=\"114.873\" cy=\"198.625\" r=\"0.5\" stroke=\"none\" fill=\"black\"/>\n",
       "<circle cx=\"144.873\" cy=\"198.625\" r=\"0.5\" stroke=\"none\" fill=\"black\"/>\n",
       "<circle cx=\"174.873\" cy=\"198.625\" r=\"0.5\" stroke=\"none\" fill=\"black\"/>\n",
       "<circle cx=\"204.873\" cy=\"198.625\" r=\"0.5\" stroke=\"none\" fill=\"black\"/>\n",
       "<circle cx=\"234.873\" cy=\"198.625\" r=\"0.5\" stroke=\"none\" fill=\"black\"/>\n",
       "<circle cx=\"264.873\" cy=\"198.625\" r=\"0.5\" stroke=\"none\" fill=\"black\"/>\n",
       "<circle cx=\"54.8729\" cy=\"213.625\" r=\"0.5\" stroke=\"none\" fill=\"black\"/>\n",
       "<circle cx=\"84.8729\" cy=\"213.625\" r=\"0.5\" stroke=\"none\" fill=\"black\"/>\n",
       "<circle cx=\"114.873\" cy=\"213.625\" r=\"0.5\" stroke=\"none\" fill=\"black\"/>\n",
       "<circle cx=\"144.873\" cy=\"213.625\" r=\"0.5\" stroke=\"none\" fill=\"black\"/>\n",
       "<circle cx=\"174.873\" cy=\"213.625\" r=\"0.5\" stroke=\"none\" fill=\"black\"/>\n",
       "<circle cx=\"204.873\" cy=\"213.625\" r=\"0.5\" stroke=\"none\" fill=\"black\"/>\n",
       "<circle cx=\"234.873\" cy=\"213.625\" r=\"0.5\" stroke=\"none\" fill=\"black\"/>\n",
       "<circle cx=\"264.873\" cy=\"213.625\" r=\"0.5\" stroke=\"none\" fill=\"black\"/>\n",
       "<circle cx=\"54.8729\" cy=\"228.625\" r=\"0.5\" stroke=\"none\" fill=\"black\"/>\n",
       "<circle cx=\"84.8729\" cy=\"228.625\" r=\"0.5\" stroke=\"none\" fill=\"black\"/>\n",
       "<circle cx=\"114.873\" cy=\"228.625\" r=\"0.5\" stroke=\"none\" fill=\"black\"/>\n",
       "<circle cx=\"144.873\" cy=\"228.625\" r=\"0.5\" stroke=\"none\" fill=\"black\"/>\n",
       "<circle cx=\"174.873\" cy=\"228.625\" r=\"0.5\" stroke=\"none\" fill=\"black\"/>\n",
       "<circle cx=\"204.873\" cy=\"228.625\" r=\"0.5\" stroke=\"none\" fill=\"black\"/>\n",
       "<circle cx=\"234.873\" cy=\"228.625\" r=\"0.5\" stroke=\"none\" fill=\"black\"/>\n",
       "<circle cx=\"264.873\" cy=\"228.625\" r=\"0.5\" stroke=\"none\" fill=\"black\"/>\n",
       "<circle cx=\"54.8729\" cy=\"243.625\" r=\"0.5\" stroke=\"none\" fill=\"black\"/>\n",
       "<circle cx=\"84.8729\" cy=\"243.625\" r=\"0.5\" stroke=\"none\" fill=\"black\"/>\n",
       "<circle cx=\"114.873\" cy=\"243.625\" r=\"0.5\" stroke=\"none\" fill=\"black\"/>\n",
       "<circle cx=\"144.873\" cy=\"243.625\" r=\"0.5\" stroke=\"none\" fill=\"black\"/>\n",
       "<circle cx=\"174.873\" cy=\"243.625\" r=\"0.5\" stroke=\"none\" fill=\"black\"/>\n",
       "<circle cx=\"204.873\" cy=\"243.625\" r=\"0.5\" stroke=\"none\" fill=\"black\"/>\n",
       "<circle cx=\"234.873\" cy=\"243.625\" r=\"0.5\" stroke=\"none\" fill=\"black\"/>\n",
       "<circle cx=\"264.873\" cy=\"243.625\" r=\"0.5\" stroke=\"none\" fill=\"black\"/>\n",
       "<circle cx=\"54.8729\" cy=\"258.625\" r=\"0.5\" stroke=\"none\" fill=\"black\"/>\n",
       "<circle cx=\"84.8729\" cy=\"258.625\" r=\"0.5\" stroke=\"none\" fill=\"black\"/>\n",
       "<circle cx=\"114.873\" cy=\"258.625\" r=\"0.5\" stroke=\"none\" fill=\"black\"/>\n",
       "<circle cx=\"144.873\" cy=\"258.625\" r=\"0.5\" stroke=\"none\" fill=\"black\"/>\n",
       "<circle cx=\"174.873\" cy=\"258.625\" r=\"0.5\" stroke=\"none\" fill=\"black\"/>\n",
       "<circle cx=\"204.873\" cy=\"258.625\" r=\"0.5\" stroke=\"none\" fill=\"black\"/>\n",
       "<circle cx=\"234.873\" cy=\"258.625\" r=\"0.5\" stroke=\"none\" fill=\"black\"/>\n",
       "<circle cx=\"264.873\" cy=\"258.625\" r=\"0.5\" stroke=\"none\" fill=\"black\"/>\n",
       "<circle cx=\"54.8729\" cy=\"273.625\" r=\"0.5\" stroke=\"none\" fill=\"black\"/>\n",
       "<circle cx=\"84.8729\" cy=\"273.625\" r=\"0.5\" stroke=\"none\" fill=\"black\"/>\n",
       "<circle cx=\"114.873\" cy=\"273.625\" r=\"0.5\" stroke=\"none\" fill=\"black\"/>\n",
       "<circle cx=\"144.873\" cy=\"273.625\" r=\"0.5\" stroke=\"none\" fill=\"black\"/>\n",
       "<circle cx=\"174.873\" cy=\"273.625\" r=\"0.5\" stroke=\"none\" fill=\"black\"/>\n",
       "<circle cx=\"204.873\" cy=\"273.625\" r=\"0.5\" stroke=\"none\" fill=\"black\"/>\n",
       "<circle cx=\"234.873\" cy=\"273.625\" r=\"0.5\" stroke=\"none\" fill=\"black\"/>\n",
       "<circle cx=\"264.873\" cy=\"273.625\" r=\"0.5\" stroke=\"none\" fill=\"black\"/>\n",
       "<circle cx=\"54.8729\" cy=\"288.625\" r=\"0.5\" stroke=\"none\" fill=\"black\"/>\n",
       "<circle cx=\"84.8729\" cy=\"288.625\" r=\"0.5\" stroke=\"none\" fill=\"black\"/>\n",
       "<circle cx=\"114.873\" cy=\"288.625\" r=\"0.5\" stroke=\"none\" fill=\"black\"/>\n",
       "<circle cx=\"144.873\" cy=\"288.625\" r=\"0.5\" stroke=\"none\" fill=\"black\"/>\n",
       "<circle cx=\"174.873\" cy=\"288.625\" r=\"0.5\" stroke=\"none\" fill=\"black\"/>\n",
       "<circle cx=\"204.873\" cy=\"288.625\" r=\"0.5\" stroke=\"none\" fill=\"black\"/>\n",
       "<circle cx=\"234.873\" cy=\"288.625\" r=\"0.5\" stroke=\"none\" fill=\"black\"/>\n",
       "<circle cx=\"264.873\" cy=\"288.625\" r=\"0.5\" stroke=\"none\" fill=\"black\"/>\n",
       "<circle cx=\"54.8729\" cy=\"303.625\" r=\"0.5\" stroke=\"none\" fill=\"black\"/>\n",
       "<circle cx=\"84.8729\" cy=\"303.625\" r=\"0.5\" stroke=\"none\" fill=\"black\"/>\n",
       "<circle cx=\"114.873\" cy=\"303.625\" r=\"0.5\" stroke=\"none\" fill=\"black\"/>\n",
       "<circle cx=\"144.873\" cy=\"303.625\" r=\"0.5\" stroke=\"none\" fill=\"black\"/>\n",
       "<circle cx=\"174.873\" cy=\"303.625\" r=\"0.5\" stroke=\"none\" fill=\"black\"/>\n",
       "<circle cx=\"204.873\" cy=\"303.625\" r=\"0.5\" stroke=\"none\" fill=\"black\"/>\n",
       "<circle cx=\"234.873\" cy=\"303.625\" r=\"0.5\" stroke=\"none\" fill=\"black\"/>\n",
       "<circle cx=\"264.873\" cy=\"303.625\" r=\"0.5\" stroke=\"none\" fill=\"black\"/>\n",
       "<circle cx=\"54.8729\" cy=\"318.625\" r=\"0.5\" stroke=\"none\" fill=\"black\"/>\n",
       "<circle cx=\"84.8729\" cy=\"318.625\" r=\"0.5\" stroke=\"none\" fill=\"black\"/>\n",
       "<circle cx=\"114.873\" cy=\"318.625\" r=\"0.5\" stroke=\"none\" fill=\"black\"/>\n",
       "<circle cx=\"144.873\" cy=\"318.625\" r=\"0.5\" stroke=\"none\" fill=\"black\"/>\n",
       "<circle cx=\"174.873\" cy=\"318.625\" r=\"0.5\" stroke=\"none\" fill=\"black\"/>\n",
       "<circle cx=\"204.873\" cy=\"318.625\" r=\"0.5\" stroke=\"none\" fill=\"black\"/>\n",
       "<circle cx=\"234.873\" cy=\"318.625\" r=\"0.5\" stroke=\"none\" fill=\"black\"/>\n",
       "<circle cx=\"264.873\" cy=\"318.625\" r=\"0.5\" stroke=\"none\" fill=\"black\"/>\n",
       "<circle cx=\"54.8729\" cy=\"333.625\" r=\"0.5\" stroke=\"none\" fill=\"black\"/>\n",
       "<circle cx=\"84.8729\" cy=\"333.625\" r=\"0.5\" stroke=\"none\" fill=\"black\"/>\n",
       "<circle cx=\"114.873\" cy=\"333.625\" r=\"0.5\" stroke=\"none\" fill=\"black\"/>\n",
       "<circle cx=\"144.873\" cy=\"333.625\" r=\"0.5\" stroke=\"none\" fill=\"black\"/>\n",
       "<circle cx=\"174.873\" cy=\"333.625\" r=\"0.5\" stroke=\"none\" fill=\"black\"/>\n",
       "<circle cx=\"204.873\" cy=\"333.625\" r=\"0.5\" stroke=\"none\" fill=\"black\"/>\n",
       "<circle cx=\"234.873\" cy=\"333.625\" r=\"0.5\" stroke=\"none\" fill=\"black\"/>\n",
       "<circle cx=\"264.873\" cy=\"333.625\" r=\"0.5\" stroke=\"none\" fill=\"black\"/>\n",
       "<circle cx=\"54.8729\" cy=\"348.625\" r=\"0.5\" stroke=\"none\" fill=\"black\"/>\n",
       "<circle cx=\"84.8729\" cy=\"348.625\" r=\"0.5\" stroke=\"none\" fill=\"black\"/>\n",
       "<circle cx=\"114.873\" cy=\"348.625\" r=\"0.5\" stroke=\"none\" fill=\"black\"/>\n",
       "<circle cx=\"144.873\" cy=\"348.625\" r=\"0.5\" stroke=\"none\" fill=\"black\"/>\n",
       "<circle cx=\"174.873\" cy=\"348.625\" r=\"0.5\" stroke=\"none\" fill=\"black\"/>\n",
       "<circle cx=\"204.873\" cy=\"348.625\" r=\"0.5\" stroke=\"none\" fill=\"black\"/>\n",
       "<circle cx=\"234.873\" cy=\"348.625\" r=\"0.5\" stroke=\"none\" fill=\"black\"/>\n",
       "<circle cx=\"264.873\" cy=\"348.625\" r=\"0.5\" stroke=\"none\" fill=\"black\"/>\n",
       "<circle cx=\"54.8729\" cy=\"363.625\" r=\"0.5\" stroke=\"none\" fill=\"black\"/>\n",
       "<circle cx=\"84.8729\" cy=\"363.625\" r=\"0.5\" stroke=\"none\" fill=\"black\"/>\n",
       "<circle cx=\"114.873\" cy=\"363.625\" r=\"0.5\" stroke=\"none\" fill=\"black\"/>\n",
       "<circle cx=\"144.873\" cy=\"363.625\" r=\"0.5\" stroke=\"none\" fill=\"black\"/>\n",
       "<circle cx=\"174.873\" cy=\"363.625\" r=\"0.5\" stroke=\"none\" fill=\"black\"/>\n",
       "<circle cx=\"204.873\" cy=\"363.625\" r=\"0.5\" stroke=\"none\" fill=\"black\"/>\n",
       "<circle cx=\"234.873\" cy=\"363.625\" r=\"0.5\" stroke=\"none\" fill=\"black\"/>\n",
       "<circle cx=\"264.873\" cy=\"363.625\" r=\"0.5\" stroke=\"none\" fill=\"black\"/>\n",
       "<circle cx=\"54.8729\" cy=\"378.625\" r=\"0.5\" stroke=\"none\" fill=\"black\"/>\n",
       "<circle cx=\"84.8729\" cy=\"378.625\" r=\"0.5\" stroke=\"none\" fill=\"black\"/>\n",
       "<circle cx=\"114.873\" cy=\"378.625\" r=\"0.5\" stroke=\"none\" fill=\"black\"/>\n",
       "<circle cx=\"144.873\" cy=\"378.625\" r=\"0.5\" stroke=\"none\" fill=\"black\"/>\n",
       "<circle cx=\"174.873\" cy=\"378.625\" r=\"0.5\" stroke=\"none\" fill=\"black\"/>\n",
       "<circle cx=\"204.873\" cy=\"378.625\" r=\"0.5\" stroke=\"none\" fill=\"black\"/>\n",
       "<circle cx=\"234.873\" cy=\"378.625\" r=\"0.5\" stroke=\"none\" fill=\"black\"/>\n",
       "<circle cx=\"264.873\" cy=\"378.625\" r=\"0.5\" stroke=\"none\" fill=\"black\"/>\n",
       "<circle cx=\"54.8729\" cy=\"393.625\" r=\"0.5\" stroke=\"none\" fill=\"black\"/>\n",
       "<circle cx=\"84.8729\" cy=\"393.625\" r=\"0.5\" stroke=\"none\" fill=\"black\"/>\n",
       "<circle cx=\"114.873\" cy=\"393.625\" r=\"0.5\" stroke=\"none\" fill=\"black\"/>\n",
       "<circle cx=\"144.873\" cy=\"393.625\" r=\"0.5\" stroke=\"none\" fill=\"black\"/>\n",
       "<circle cx=\"174.873\" cy=\"393.625\" r=\"0.5\" stroke=\"none\" fill=\"black\"/>\n",
       "<circle cx=\"204.873\" cy=\"393.625\" r=\"0.5\" stroke=\"none\" fill=\"black\"/>\n",
       "<circle cx=\"234.873\" cy=\"393.625\" r=\"0.5\" stroke=\"none\" fill=\"black\"/>\n",
       "<circle cx=\"264.873\" cy=\"393.625\" r=\"0.5\" stroke=\"none\" fill=\"black\"/>\n",
       "<circle cx=\"54.8729\" cy=\"408.625\" r=\"0.5\" stroke=\"none\" fill=\"black\"/>\n",
       "<circle cx=\"84.8729\" cy=\"408.625\" r=\"0.5\" stroke=\"none\" fill=\"black\"/>\n",
       "<circle cx=\"114.873\" cy=\"408.625\" r=\"0.5\" stroke=\"none\" fill=\"black\"/>\n",
       "<circle cx=\"144.873\" cy=\"408.625\" r=\"0.5\" stroke=\"none\" fill=\"black\"/>\n",
       "<circle cx=\"174.873\" cy=\"408.625\" r=\"0.5\" stroke=\"none\" fill=\"black\"/>\n",
       "<circle cx=\"204.873\" cy=\"408.625\" r=\"0.5\" stroke=\"none\" fill=\"black\"/>\n",
       "<circle cx=\"234.873\" cy=\"408.625\" r=\"0.5\" stroke=\"none\" fill=\"black\"/>\n",
       "<circle cx=\"264.873\" cy=\"408.625\" r=\"0.5\" stroke=\"none\" fill=\"black\"/>\n",
       "<circle cx=\"54.8729\" cy=\"423.625\" r=\"0.5\" stroke=\"none\" fill=\"black\"/>\n",
       "<circle cx=\"84.8729\" cy=\"423.625\" r=\"0.5\" stroke=\"none\" fill=\"black\"/>\n",
       "<circle cx=\"114.873\" cy=\"423.625\" r=\"0.5\" stroke=\"none\" fill=\"black\"/>\n",
       "<circle cx=\"144.873\" cy=\"423.625\" r=\"0.5\" stroke=\"none\" fill=\"black\"/>\n",
       "<circle cx=\"174.873\" cy=\"423.625\" r=\"0.5\" stroke=\"none\" fill=\"black\"/>\n",
       "<circle cx=\"204.873\" cy=\"423.625\" r=\"0.5\" stroke=\"none\" fill=\"black\"/>\n",
       "<circle cx=\"234.873\" cy=\"423.625\" r=\"0.5\" stroke=\"none\" fill=\"black\"/>\n",
       "<circle cx=\"264.873\" cy=\"423.625\" r=\"0.5\" stroke=\"none\" fill=\"black\"/>\n",
       "</svg>"
      ],
      "text/plain": [
       "<svg viewBox=\"0 0 319.746 472.251\"  version=\"1.1\" xmlns=\"http://www.w3.org/2000/svg\">\n",
       "<path d=\"M54.8729,48.6253 L30.4428,5 M54.8729,48.6253 L84.8729,48.6253 M54.8729,48.6253 L54.8729,63.6253 M84.8729,48.6253 L114.873,48.6253 M84.8729,48.6253 L84.8729,63.6253 M114.873,48.6253 L144.873,48.6253 M114.873,48.6253 L114.873,63.6253 M144.873,48.6253 L174.873,48.6253 M144.873,48.6253 L144.873,63.6253 M174.873,48.6253 L204.873,48.6253 M174.873,48.6253 L174.873,63.6253 M204.873,48.6253 L234.873,48.6253 M204.873,48.6253 L204.873,63.6253 M234.873,48.6253 L264.873,48.6253 M234.873,48.6253 L234.873,63.6253 M264.873,48.6253 L264.873,63.6253 M54.8729,63.6253 L28.8756,20.9154 M54.8729,63.6253 L84.8729,63.6253 M54.8729,63.6253 L54.8729,78.6253 M84.8729,63.6253 L114.873,63.6253 M84.8729,63.6253 L84.8729,78.6253 M114.873,63.6253 L144.873,63.6253 M114.873,63.6253 L114.873,78.6253 M144.873,63.6253 L174.873,63.6253 M144.873,63.6253 L144.873,78.6253 M174.873,63.6253 L204.873,63.6253 M174.873,63.6253 L174.873,78.6253 M204.873,63.6253 L234.873,63.6253 M204.873,63.6253 L204.873,78.6253 M234.873,63.6253 L264.873,63.6253 M234.873,63.6253 L234.873,78.6253 M264.873,63.6253 L264.873,78.6253 M54.8729,78.6253 L27.1379,37.0228 M54.8729,78.6253 L84.8729,78.6253 M54.8729,78.6253 L54.8729,93.6253 M84.8729,78.6253 L114.873,78.6253 M84.8729,78.6253 L84.8729,93.6253 M114.873,78.6253 L144.873,78.6253 M114.873,78.6253 L114.873,93.6253 M144.873,78.6253 L174.873,78.6253 M144.873,78.6253 L144.873,93.6253 M174.873,78.6253 L204.873,78.6253 M174.873,78.6253 L174.873,93.6253 M204.873,78.6253 L234.873,78.6253 M204.873,78.6253 L204.873,93.6253 M234.873,78.6253 L264.873,78.6253 M234.873,78.6253 L234.873,93.6253 M264.873,78.6253 L264.873,93.6253 M54.8729,93.6253 L25.213,53.3725 M54.8729,93.6253 L84.8729,93.6253 M54.8729,93.6253 L54.8729,108.625 M84.8729,93.6253 L114.873,93.6253 M84.8729,93.6253 L84.8729,108.625 M114.873,93.6253 L144.873,93.6253 M114.873,93.6253 L114.873,108.625 M144.873,93.6253 L174.873,93.6253 M144.873,93.6253 L144.873,108.625 M174.873,93.6253 L204.873,93.6253 M174.873,93.6253 L174.873,108.625 M204.873,93.6253 L234.873,93.6253 M204.873,93.6253 L204.873,108.625 M234.873,93.6253 L264.873,93.6253 M234.873,93.6253 L234.873,108.625 M264.873,93.6253 L264.873,108.625 M54.8729,108.625 L23.0876,70.0288 M54.8729,108.625 L84.8729,108.625 M54.8729,108.625 L54.8729,123.625 M84.8729,108.625 L114.873,108.625 M84.8729,108.625 L84.8729,123.625 M114.873,108.625 L144.873,108.625 M114.873,108.625 L114.873,123.625 M144.873,108.625 L174.873,108.625 M144.873,108.625 L144.873,123.625 M174.873,108.625 L204.873,108.625 M174.873,108.625 L174.873,123.625 M204.873,108.625 L234.873,108.625 M204.873,108.625 L204.873,123.625 M234.873,108.625 L264.873,108.625 M234.873,108.625 L234.873,123.625 M264.873,108.625 L264.873,123.625 M54.8729,123.625 L20.757,87.0725 M54.8729,123.625 L84.8729,123.625 M54.8729,123.625 L54.8729,138.625 M84.8729,123.625 L114.873,123.625 M84.8729,123.625 L84.8729,138.625 M114.873,123.625 L144.873,123.625 M114.873,123.625 L114.873,138.625 M144.873,123.625 L174.873,123.625 M144.873,123.625 L144.873,138.625 M174.873,123.625 L204.873,123.625 M174.873,123.625 L174.873,138.625 M204.873,123.625 L234.873,123.625 M204.873,123.625 L204.873,138.625 M234.873,123.625 L264.873,123.625 M234.873,123.625 L234.873,138.625 M264.873,123.625 L264.873,138.625 M54.8729,138.625 L18.2333,104.603 M54.8729,138.625 L84.8729,138.625 M54.8729,138.625 L54.8729,153.625 M84.8729,138.625 L114.873,138.625 M84.8729,138.625 L84.8729,153.625 M114.873,138.625 L144.873,138.625 M114.873,138.625 L114.873,153.625 M144.873,138.625 L174.873,138.625 M144.873,138.625 L144.873,153.625 M174.873,138.625 L204.873,138.625 M174.873,138.625 L174.873,153.625 M204.873,138.625 L234.873,138.625 M204.873,138.625 L204.873,153.625 M234.873,138.625 L264.873,138.625 M234.873,138.625 L234.873,153.625 M264.873,138.625 L264.873,153.625 M54.8729,153.625 L15.557,122.734 M54.8729,153.625 L84.8729,153.625 M54.8729,153.625 L54.8729,168.625 M84.8729,153.625 L114.873,153.625 M84.8729,153.625 L84.8729,168.625 M114.873,153.625 L144.873,153.625 M114.873,153.625 L114.873,168.625 M144.873,153.625 L174.873,153.625 M144.873,153.625 L144.873,168.625 M174.873,153.625 L204.873,153.625 M174.873,153.625 L174.873,168.625 M204.873,153.625 L234.873,153.625 M204.873,153.625 L204.873,168.625 M234.873,153.625 L264.873,153.625 M234.873,153.625 L234.873,168.625 M264.873,153.625 L264.873,168.625 M54.8729,168.625 L12.814,141.587 M54.8729,168.625 L84.8729,168.625 M54.8729,168.625 L54.8729,183.625 M84.8729,168.625 L114.873,168.625 M84.8729,168.625 L84.8729,183.625 M114.873,168.625 L144.873,168.625 M114.873,168.625 L114.873,183.625 M144.873,168.625 L174.873,168.625 M144.873,168.625 L144.873,183.625 M174.873,168.625 L204.873,168.625 M174.873,168.625 L174.873,183.625 M204.873,168.625 L234.873,168.625 M204.873,168.625 L204.873,183.625 M234.873,168.625 L264.873,168.625 M234.873,168.625 L234.873,183.625 M264.873,168.625 L264.873,183.625 M54.8729,183.625 L10.1516,161.265 M54.8729,183.625 L84.8729,183.625 M54.8729,183.625 L54.8729,198.625 M84.8729,183.625 L114.873,183.625 M84.8729,183.625 L84.8729,198.625 M114.873,183.625 L144.873,183.625 M114.873,183.625 L114.873,198.625 M144.873,183.625 L174.873,183.625 M144.873,183.625 L144.873,198.625 M174.873,183.625 L204.873,183.625 M174.873,183.625 L174.873,198.625 M204.873,183.625 L234.873,183.625 M204.873,183.625 L204.873,198.625 M234.873,183.625 L264.873,183.625 M234.873,183.625 L234.873,198.625 M264.873,183.625 L264.873,198.625 M54.8729,198.625 L7.78584,181.808 M54.8729,198.625 L84.8729,198.625 M54.8729,198.625 L54.8729,213.625 M84.8729,198.625 L114.873,198.625 M84.8729,198.625 L84.8729,213.625 M114.873,198.625 L144.873,198.625 M114.873,198.625 L114.873,213.625 M144.873,198.625 L174.873,198.625 M144.873,198.625 L144.873,213.625 M174.873,198.625 L204.873,198.625 M174.873,198.625 L174.873,213.625 M204.873,198.625 L234.873,198.625 M204.873,198.625 L204.873,213.625 M234.873,198.625 L264.873,198.625 M234.873,198.625 L234.873,213.625 M264.873,198.625 L264.873,213.625 M54.8729,213.625 L5.98281,203.149 M54.8729,213.625 L84.8729,213.625 M54.8729,213.625 L54.8729,228.625 M84.8729,213.625 L114.873,213.625 M84.8729,213.625 L84.8729,228.625 M114.873,213.625 L144.873,213.625 M114.873,213.625 L114.873,228.625 M144.873,213.625 L174.873,213.625 M144.873,213.625 L144.873,228.625 M174.873,213.625 L204.873,213.625 M174.873,213.625 L174.873,228.625 M204.873,213.625 L234.873,213.625 M204.873,213.625 L204.873,228.625 M234.873,213.625 L264.873,213.625 M234.873,213.625 L234.873,228.625 M264.873,213.625 L264.873,228.625 M54.8729,228.625 L5,225.063 M54.8729,228.625 L84.8729,228.625 M54.8729,228.625 L54.8729,243.625 M84.8729,228.625 L114.873,228.625 M84.8729,228.625 L84.8729,243.625 M114.873,228.625 L144.873,228.625 M114.873,228.625 L114.873,243.625 M144.873,228.625 L174.873,228.625 M144.873,228.625 L144.873,243.625 M174.873,228.625 L204.873,228.625 M174.873,228.625 L174.873,243.625 M204.873,228.625 L234.873,228.625 M204.873,228.625 L204.873,243.625 M234.873,228.625 L264.873,228.625 M234.873,228.625 L234.873,243.625 M264.873,228.625 L264.873,243.625 M54.8729,243.625 L5,247.188 M54.8729,243.625 L84.8729,243.625 M54.8729,243.625 L54.8729,258.625 M84.8729,243.625 L114.873,243.625 M84.8729,243.625 L84.8729,258.625 M114.873,243.625 L144.873,243.625 M114.873,243.625 L114.873,258.625 M144.873,243.625 L174.873,243.625 M144.873,243.625 L144.873,258.625 M174.873,243.625 L204.873,243.625 M174.873,243.625 L174.873,258.625 M204.873,243.625 L234.873,243.625 M204.873,243.625 L204.873,258.625 M234.873,243.625 L264.873,243.625 M234.873,243.625 L234.873,258.625 M264.873,243.625 L264.873,258.625 M54.8729,258.625 L5.98281,269.102 M54.8729,258.625 L84.8729,258.625 M54.8729,258.625 L54.8729,273.625 M84.8729,258.625 L114.873,258.625 M84.8729,258.625 L84.8729,273.625 M114.873,258.625 L144.873,258.625 M114.873,258.625 L114.873,273.625 M144.873,258.625 L174.873,258.625 M144.873,258.625 L144.873,273.625 M174.873,258.625 L204.873,258.625 M174.873,258.625 L174.873,273.625 M204.873,258.625 L234.873,258.625 M204.873,258.625 L204.873,273.625 M234.873,258.625 L264.873,258.625 M234.873,258.625 L234.873,273.625 M264.873,258.625 L264.873,273.625 M54.8729,273.625 L7.78584,290.442 M54.8729,273.625 L84.8729,273.625 M54.8729,273.625 L54.8729,288.625 M84.8729,273.625 L114.873,273.625 M84.8729,273.625 L84.8729,288.625 M114.873,273.625 L144.873,273.625 M114.873,273.625 L114.873,288.625 M144.873,273.625 L174.873,273.625 M144.873,273.625 L144.873,288.625 M174.873,273.625 L204.873,273.625 M174.873,273.625 L174.873,288.625 M204.873,273.625 L234.873,273.625 M204.873,273.625 L204.873,288.625 M234.873,273.625 L264.873,273.625 M234.873,273.625 L234.873,288.625 M264.873,273.625 L264.873,288.625 M54.8729,288.625 L10.1516,310.986 M54.8729,288.625 L84.8729,288.625 M54.8729,288.625 L54.8729,303.625 M84.8729,288.625 L114.873,288.625 M84.8729,288.625 L84.8729,303.625 M114.873,288.625 L144.873,288.625 M114.873,288.625 L114.873,303.625 M144.873,288.625 L174.873,288.625 M144.873,288.625 L144.873,303.625 M174.873,288.625 L204.873,288.625 M174.873,288.625 L174.873,303.625 M204.873,288.625 L234.873,288.625 M204.873,288.625 L204.873,303.625 M234.873,288.625 L264.873,288.625 M234.873,288.625 L234.873,303.625 M264.873,288.625 L264.873,303.625 M54.8729,303.625 L12.814,330.663 M54.8729,303.625 L84.8729,303.625 M54.8729,303.625 L54.8729,318.625 M84.8729,303.625 L114.873,303.625 M84.8729,303.625 L84.8729,318.625 M114.873,303.625 L144.873,303.625 M114.873,303.625 L114.873,318.625 M144.873,303.625 L174.873,303.625 M144.873,303.625 L144.873,318.625 M174.873,303.625 L204.873,303.625 M174.873,303.625 L174.873,318.625 M204.873,303.625 L234.873,303.625 M204.873,303.625 L204.873,318.625 M234.873,303.625 L264.873,303.625 M234.873,303.625 L234.873,318.625 M264.873,303.625 L264.873,318.625 M54.8729,318.625 L15.557,349.516 M54.8729,318.625 L84.8729,318.625 M54.8729,318.625 L54.8729,333.625 M84.8729,318.625 L114.873,318.625 M84.8729,318.625 L84.8729,333.625 M114.873,318.625 L144.873,318.625 M114.873,318.625 L114.873,333.625 M144.873,318.625 L174.873,318.625 M144.873,318.625 L144.873,333.625 M174.873,318.625 L204.873,318.625 M174.873,318.625 L174.873,333.625 M204.873,318.625 L234.873,318.625 M204.873,318.625 L204.873,333.625 M234.873,318.625 L264.873,318.625 M234.873,318.625 L234.873,333.625 M264.873,318.625 L264.873,333.625 M54.8729,333.625 L18.2333,367.648 M54.8729,333.625 L84.8729,333.625 M54.8729,333.625 L54.8729,348.625 M84.8729,333.625 L114.873,333.625 M84.8729,333.625 L84.8729,348.625 M114.873,333.625 L144.873,333.625 M114.873,333.625 L114.873,348.625 M144.873,333.625 L174.873,333.625 M144.873,333.625 L144.873,348.625 M174.873,333.625 L204.873,333.625 M174.873,333.625 L174.873,348.625 M204.873,333.625 L234.873,333.625 M204.873,333.625 L204.873,348.625 M234.873,333.625 L264.873,333.625 M234.873,333.625 L234.873,348.625 M264.873,333.625 L264.873,348.625 M54.8729,348.625 L20.757,385.178 M54.8729,348.625 L84.8729,348.625 M54.8729,348.625 L54.8729,363.625 M84.8729,348.625 L114.873,348.625 M84.8729,348.625 L84.8729,363.625 M114.873,348.625 L144.873,348.625 M114.873,348.625 L114.873,363.625 M144.873,348.625 L174.873,348.625 M144.873,348.625 L144.873,363.625 M174.873,348.625 L204.873,348.625 M174.873,348.625 L174.873,363.625 M204.873,348.625 L234.873,348.625 M204.873,348.625 L204.873,363.625 M234.873,348.625 L264.873,348.625 M234.873,348.625 L234.873,363.625 M264.873,348.625 L264.873,363.625 M54.8729,363.625 L23.0876,402.222 M54.8729,363.625 L84.8729,363.625 M54.8729,363.625 L54.8729,378.625 M84.8729,363.625 L114.873,363.625 M84.8729,363.625 L84.8729,378.625 M114.873,363.625 L144.873,363.625 M114.873,363.625 L114.873,378.625 M144.873,363.625 L174.873,363.625 M144.873,363.625 L144.873,378.625 M174.873,363.625 L204.873,363.625 M174.873,363.625 L174.873,378.625 M204.873,363.625 L234.873,363.625 M204.873,363.625 L204.873,378.625 M234.873,363.625 L264.873,363.625 M234.873,363.625 L234.873,378.625 M264.873,363.625 L264.873,378.625 M54.8729,378.625 L25.213,418.878 M54.8729,378.625 L84.8729,378.625 M54.8729,378.625 L54.8729,393.625 M84.8729,378.625 L114.873,378.625 M84.8729,378.625 L84.8729,393.625 M114.873,378.625 L144.873,378.625 M114.873,378.625 L114.873,393.625 M144.873,378.625 L174.873,378.625 M144.873,378.625 L144.873,393.625 M174.873,378.625 L204.873,378.625 M174.873,378.625 L174.873,393.625 M204.873,378.625 L234.873,378.625 M204.873,378.625 L204.873,393.625 M234.873,378.625 L264.873,378.625 M234.873,378.625 L234.873,393.625 M264.873,378.625 L264.873,393.625 M54.8729,393.625 L27.1379,435.228 M54.8729,393.625 L84.8729,393.625 M54.8729,393.625 L54.8729,408.625 M84.8729,393.625 L114.873,393.625 M84.8729,393.625 L84.8729,408.625 M114.873,393.625 L144.873,393.625 M114.873,393.625 L114.873,408.625 M144.873,393.625 L174.873,393.625 M144.873,393.625 L144.873,408.625 M174.873,393.625 L204.873,393.625 M174.873,393.625 L174.873,408.625 M204.873,393.625 L234.873,393.625 M204.873,393.625 L204.873,408.625 M234.873,393.625 L264.873,393.625 M234.873,393.625 L234.873,408.625 M264.873,393.625 L264.873,408.625 M54.8729,408.625 L28.8756,451.335 M54.8729,408.625 L84.8729,408.625 M54.8729,408.625 L54.8729,423.625 M84.8729,408.625 L114.873,408.625 M84.8729,408.625 L84.8729,423.625 M114.873,408.625 L144.873,408.625 M114.873,408.625 L114.873,423.625 M144.873,408.625 L174.873,408.625 M144.873,408.625 L144.873,423.625 M174.873,408.625 L204.873,408.625 M174.873,408.625 L174.873,423.625 M204.873,408.625 L234.873,408.625 M204.873,408.625 L204.873,423.625 M234.873,408.625 L264.873,408.625 M234.873,408.625 L234.873,423.625 M264.873,408.625 L264.873,423.625 M54.8729,423.625 L30.4428,467.251 M54.8729,423.625 L84.8729,423.625 M84.8729,423.625 L114.873,423.625 M114.873,423.625 L144.873,423.625 M144.873,423.625 L174.873,423.625 M174.873,423.625 L204.873,423.625 M204.873,423.625 L234.873,423.625 M234.873,423.625 L264.873,423.625\" stroke=\"black\" fill=\"none\" stroke-width=\"0.2\"/>\n",
       "<path d=\"M264.873,48.6253 L289.303,5 M264.873,63.6253 L290.87,20.9154 M264.873,78.6253 L292.608,37.0228 M264.873,93.6253 L294.533,53.3725 M264.873,108.625 L296.658,70.0288 M264.873,123.625 L298.989,87.0725 M264.873,138.625 L301.513,104.603 M264.873,153.625 L304.189,122.734 M264.873,168.625 L306.932,141.587 M264.873,183.625 L309.594,161.265 M264.873,198.625 L311.96,181.808 M264.873,213.625 L313.763,203.149 M264.873,228.625 L314.746,225.063 M264.873,243.625 L314.746,247.188 M264.873,258.625 L313.763,269.102 M264.873,273.625 L311.96,290.442 M264.873,288.625 L309.594,310.986 M264.873,303.625 L306.932,330.663 M264.873,318.625 L304.189,349.516 M264.873,333.625 L301.513,367.648 M264.873,348.625 L298.989,385.178 M264.873,363.625 L296.658,402.222 M264.873,378.625 L294.533,418.878 M264.873,393.625 L292.608,435.228 M264.873,408.625 L290.87,451.335 M264.873,423.625 L289.303,467.251\" stroke=\"red\" fill=\"none\" stroke-width=\"0.2\"/>\n",
       "<circle cx=\"54.8729\" cy=\"48.6253\" r=\"0.5\" stroke=\"none\" fill=\"black\"/>\n",
       "<circle cx=\"84.8729\" cy=\"48.6253\" r=\"0.5\" stroke=\"none\" fill=\"black\"/>\n",
       "<circle cx=\"114.873\" cy=\"48.6253\" r=\"0.5\" stroke=\"none\" fill=\"black\"/>\n",
       "<circle cx=\"144.873\" cy=\"48.6253\" r=\"0.5\" stroke=\"none\" fill=\"black\"/>\n",
       "<circle cx=\"174.873\" cy=\"48.6253\" r=\"0.5\" stroke=\"none\" fill=\"black\"/>\n",
       "<circle cx=\"204.873\" cy=\"48.6253\" r=\"0.5\" stroke=\"none\" fill=\"black\"/>\n",
       "<circle cx=\"234.873\" cy=\"48.6253\" r=\"0.5\" stroke=\"none\" fill=\"black\"/>\n",
       "<circle cx=\"264.873\" cy=\"48.6253\" r=\"0.5\" stroke=\"none\" fill=\"black\"/>\n",
       "<circle cx=\"54.8729\" cy=\"63.6253\" r=\"0.5\" stroke=\"none\" fill=\"black\"/>\n",
       "<circle cx=\"84.8729\" cy=\"63.6253\" r=\"0.5\" stroke=\"none\" fill=\"black\"/>\n",
       "<circle cx=\"114.873\" cy=\"63.6253\" r=\"0.5\" stroke=\"none\" fill=\"black\"/>\n",
       "<circle cx=\"144.873\" cy=\"63.6253\" r=\"0.5\" stroke=\"none\" fill=\"black\"/>\n",
       "<circle cx=\"174.873\" cy=\"63.6253\" r=\"0.5\" stroke=\"none\" fill=\"black\"/>\n",
       "<circle cx=\"204.873\" cy=\"63.6253\" r=\"0.5\" stroke=\"none\" fill=\"black\"/>\n",
       "<circle cx=\"234.873\" cy=\"63.6253\" r=\"0.5\" stroke=\"none\" fill=\"black\"/>\n",
       "<circle cx=\"264.873\" cy=\"63.6253\" r=\"0.5\" stroke=\"none\" fill=\"black\"/>\n",
       "<circle cx=\"54.8729\" cy=\"78.6253\" r=\"0.5\" stroke=\"none\" fill=\"black\"/>\n",
       "<circle cx=\"84.8729\" cy=\"78.6253\" r=\"0.5\" stroke=\"none\" fill=\"black\"/>\n",
       "<circle cx=\"114.873\" cy=\"78.6253\" r=\"0.5\" stroke=\"none\" fill=\"black\"/>\n",
       "<circle cx=\"144.873\" cy=\"78.6253\" r=\"0.5\" stroke=\"none\" fill=\"black\"/>\n",
       "<circle cx=\"174.873\" cy=\"78.6253\" r=\"0.5\" stroke=\"none\" fill=\"black\"/>\n",
       "<circle cx=\"204.873\" cy=\"78.6253\" r=\"0.5\" stroke=\"none\" fill=\"black\"/>\n",
       "<circle cx=\"234.873\" cy=\"78.6253\" r=\"0.5\" stroke=\"none\" fill=\"black\"/>\n",
       "<circle cx=\"264.873\" cy=\"78.6253\" r=\"0.5\" stroke=\"none\" fill=\"black\"/>\n",
       "<circle cx=\"54.8729\" cy=\"93.6253\" r=\"0.5\" stroke=\"none\" fill=\"black\"/>\n",
       "<circle cx=\"84.8729\" cy=\"93.6253\" r=\"0.5\" stroke=\"none\" fill=\"black\"/>\n",
       "<circle cx=\"114.873\" cy=\"93.6253\" r=\"0.5\" stroke=\"none\" fill=\"black\"/>\n",
       "<circle cx=\"144.873\" cy=\"93.6253\" r=\"0.5\" stroke=\"none\" fill=\"black\"/>\n",
       "<circle cx=\"174.873\" cy=\"93.6253\" r=\"0.5\" stroke=\"none\" fill=\"black\"/>\n",
       "<circle cx=\"204.873\" cy=\"93.6253\" r=\"0.5\" stroke=\"none\" fill=\"black\"/>\n",
       "<circle cx=\"234.873\" cy=\"93.6253\" r=\"0.5\" stroke=\"none\" fill=\"black\"/>\n",
       "<circle cx=\"264.873\" cy=\"93.6253\" r=\"0.5\" stroke=\"none\" fill=\"black\"/>\n",
       "<circle cx=\"54.8729\" cy=\"108.625\" r=\"0.5\" stroke=\"none\" fill=\"black\"/>\n",
       "<circle cx=\"84.8729\" cy=\"108.625\" r=\"0.5\" stroke=\"none\" fill=\"black\"/>\n",
       "<circle cx=\"114.873\" cy=\"108.625\" r=\"0.5\" stroke=\"none\" fill=\"black\"/>\n",
       "<circle cx=\"144.873\" cy=\"108.625\" r=\"0.5\" stroke=\"none\" fill=\"black\"/>\n",
       "<circle cx=\"174.873\" cy=\"108.625\" r=\"0.5\" stroke=\"none\" fill=\"black\"/>\n",
       "<circle cx=\"204.873\" cy=\"108.625\" r=\"0.5\" stroke=\"none\" fill=\"black\"/>\n",
       "<circle cx=\"234.873\" cy=\"108.625\" r=\"0.5\" stroke=\"none\" fill=\"black\"/>\n",
       "<circle cx=\"264.873\" cy=\"108.625\" r=\"0.5\" stroke=\"none\" fill=\"black\"/>\n",
       "<circle cx=\"54.8729\" cy=\"123.625\" r=\"0.5\" stroke=\"none\" fill=\"black\"/>\n",
       "<circle cx=\"84.8729\" cy=\"123.625\" r=\"0.5\" stroke=\"none\" fill=\"black\"/>\n",
       "<circle cx=\"114.873\" cy=\"123.625\" r=\"0.5\" stroke=\"none\" fill=\"black\"/>\n",
       "<circle cx=\"144.873\" cy=\"123.625\" r=\"0.5\" stroke=\"none\" fill=\"black\"/>\n",
       "<circle cx=\"174.873\" cy=\"123.625\" r=\"0.5\" stroke=\"none\" fill=\"black\"/>\n",
       "<circle cx=\"204.873\" cy=\"123.625\" r=\"0.5\" stroke=\"none\" fill=\"black\"/>\n",
       "<circle cx=\"234.873\" cy=\"123.625\" r=\"0.5\" stroke=\"none\" fill=\"black\"/>\n",
       "<circle cx=\"264.873\" cy=\"123.625\" r=\"0.5\" stroke=\"none\" fill=\"black\"/>\n",
       "<circle cx=\"54.8729\" cy=\"138.625\" r=\"0.5\" stroke=\"none\" fill=\"black\"/>\n",
       "<circle cx=\"84.8729\" cy=\"138.625\" r=\"0.5\" stroke=\"none\" fill=\"black\"/>\n",
       "<circle cx=\"114.873\" cy=\"138.625\" r=\"0.5\" stroke=\"none\" fill=\"black\"/>\n",
       "<circle cx=\"144.873\" cy=\"138.625\" r=\"0.5\" stroke=\"none\" fill=\"black\"/>\n",
       "<circle cx=\"174.873\" cy=\"138.625\" r=\"0.5\" stroke=\"none\" fill=\"black\"/>\n",
       "<circle cx=\"204.873\" cy=\"138.625\" r=\"0.5\" stroke=\"none\" fill=\"black\"/>\n",
       "<circle cx=\"234.873\" cy=\"138.625\" r=\"0.5\" stroke=\"none\" fill=\"black\"/>\n",
       "<circle cx=\"264.873\" cy=\"138.625\" r=\"0.5\" stroke=\"none\" fill=\"black\"/>\n",
       "<circle cx=\"54.8729\" cy=\"153.625\" r=\"0.5\" stroke=\"none\" fill=\"black\"/>\n",
       "<circle cx=\"84.8729\" cy=\"153.625\" r=\"0.5\" stroke=\"none\" fill=\"black\"/>\n",
       "<circle cx=\"114.873\" cy=\"153.625\" r=\"0.5\" stroke=\"none\" fill=\"black\"/>\n",
       "<circle cx=\"144.873\" cy=\"153.625\" r=\"0.5\" stroke=\"none\" fill=\"black\"/>\n",
       "<circle cx=\"174.873\" cy=\"153.625\" r=\"0.5\" stroke=\"none\" fill=\"black\"/>\n",
       "<circle cx=\"204.873\" cy=\"153.625\" r=\"0.5\" stroke=\"none\" fill=\"black\"/>\n",
       "<circle cx=\"234.873\" cy=\"153.625\" r=\"0.5\" stroke=\"none\" fill=\"black\"/>\n",
       "<circle cx=\"264.873\" cy=\"153.625\" r=\"0.5\" stroke=\"none\" fill=\"black\"/>\n",
       "<circle cx=\"54.8729\" cy=\"168.625\" r=\"0.5\" stroke=\"none\" fill=\"black\"/>\n",
       "<circle cx=\"84.8729\" cy=\"168.625\" r=\"0.5\" stroke=\"none\" fill=\"black\"/>\n",
       "<circle cx=\"114.873\" cy=\"168.625\" r=\"0.5\" stroke=\"none\" fill=\"black\"/>\n",
       "<circle cx=\"144.873\" cy=\"168.625\" r=\"0.5\" stroke=\"none\" fill=\"black\"/>\n",
       "<circle cx=\"174.873\" cy=\"168.625\" r=\"0.5\" stroke=\"none\" fill=\"black\"/>\n",
       "<circle cx=\"204.873\" cy=\"168.625\" r=\"0.5\" stroke=\"none\" fill=\"black\"/>\n",
       "<circle cx=\"234.873\" cy=\"168.625\" r=\"0.5\" stroke=\"none\" fill=\"black\"/>\n",
       "<circle cx=\"264.873\" cy=\"168.625\" r=\"0.5\" stroke=\"none\" fill=\"black\"/>\n",
       "<circle cx=\"54.8729\" cy=\"183.625\" r=\"0.5\" stroke=\"none\" fill=\"black\"/>\n",
       "<circle cx=\"84.8729\" cy=\"183.625\" r=\"0.5\" stroke=\"none\" fill=\"black\"/>\n",
       "<circle cx=\"114.873\" cy=\"183.625\" r=\"0.5\" stroke=\"none\" fill=\"black\"/>\n",
       "<circle cx=\"144.873\" cy=\"183.625\" r=\"0.5\" stroke=\"none\" fill=\"black\"/>\n",
       "<circle cx=\"174.873\" cy=\"183.625\" r=\"0.5\" stroke=\"none\" fill=\"black\"/>\n",
       "<circle cx=\"204.873\" cy=\"183.625\" r=\"0.5\" stroke=\"none\" fill=\"black\"/>\n",
       "<circle cx=\"234.873\" cy=\"183.625\" r=\"0.5\" stroke=\"none\" fill=\"black\"/>\n",
       "<circle cx=\"264.873\" cy=\"183.625\" r=\"0.5\" stroke=\"none\" fill=\"black\"/>\n",
       "<circle cx=\"54.8729\" cy=\"198.625\" r=\"0.5\" stroke=\"none\" fill=\"black\"/>\n",
       "<circle cx=\"84.8729\" cy=\"198.625\" r=\"0.5\" stroke=\"none\" fill=\"black\"/>\n",
       "<circle cx=\"114.873\" cy=\"198.625\" r=\"0.5\" stroke=\"none\" fill=\"black\"/>\n",
       "<circle cx=\"144.873\" cy=\"198.625\" r=\"0.5\" stroke=\"none\" fill=\"black\"/>\n",
       "<circle cx=\"174.873\" cy=\"198.625\" r=\"0.5\" stroke=\"none\" fill=\"black\"/>\n",
       "<circle cx=\"204.873\" cy=\"198.625\" r=\"0.5\" stroke=\"none\" fill=\"black\"/>\n",
       "<circle cx=\"234.873\" cy=\"198.625\" r=\"0.5\" stroke=\"none\" fill=\"black\"/>\n",
       "<circle cx=\"264.873\" cy=\"198.625\" r=\"0.5\" stroke=\"none\" fill=\"black\"/>\n",
       "<circle cx=\"54.8729\" cy=\"213.625\" r=\"0.5\" stroke=\"none\" fill=\"black\"/>\n",
       "<circle cx=\"84.8729\" cy=\"213.625\" r=\"0.5\" stroke=\"none\" fill=\"black\"/>\n",
       "<circle cx=\"114.873\" cy=\"213.625\" r=\"0.5\" stroke=\"none\" fill=\"black\"/>\n",
       "<circle cx=\"144.873\" cy=\"213.625\" r=\"0.5\" stroke=\"none\" fill=\"black\"/>\n",
       "<circle cx=\"174.873\" cy=\"213.625\" r=\"0.5\" stroke=\"none\" fill=\"black\"/>\n",
       "<circle cx=\"204.873\" cy=\"213.625\" r=\"0.5\" stroke=\"none\" fill=\"black\"/>\n",
       "<circle cx=\"234.873\" cy=\"213.625\" r=\"0.5\" stroke=\"none\" fill=\"black\"/>\n",
       "<circle cx=\"264.873\" cy=\"213.625\" r=\"0.5\" stroke=\"none\" fill=\"black\"/>\n",
       "<circle cx=\"54.8729\" cy=\"228.625\" r=\"0.5\" stroke=\"none\" fill=\"black\"/>\n",
       "<circle cx=\"84.8729\" cy=\"228.625\" r=\"0.5\" stroke=\"none\" fill=\"black\"/>\n",
       "<circle cx=\"114.873\" cy=\"228.625\" r=\"0.5\" stroke=\"none\" fill=\"black\"/>\n",
       "<circle cx=\"144.873\" cy=\"228.625\" r=\"0.5\" stroke=\"none\" fill=\"black\"/>\n",
       "<circle cx=\"174.873\" cy=\"228.625\" r=\"0.5\" stroke=\"none\" fill=\"black\"/>\n",
       "<circle cx=\"204.873\" cy=\"228.625\" r=\"0.5\" stroke=\"none\" fill=\"black\"/>\n",
       "<circle cx=\"234.873\" cy=\"228.625\" r=\"0.5\" stroke=\"none\" fill=\"black\"/>\n",
       "<circle cx=\"264.873\" cy=\"228.625\" r=\"0.5\" stroke=\"none\" fill=\"black\"/>\n",
       "<circle cx=\"54.8729\" cy=\"243.625\" r=\"0.5\" stroke=\"none\" fill=\"black\"/>\n",
       "<circle cx=\"84.8729\" cy=\"243.625\" r=\"0.5\" stroke=\"none\" fill=\"black\"/>\n",
       "<circle cx=\"114.873\" cy=\"243.625\" r=\"0.5\" stroke=\"none\" fill=\"black\"/>\n",
       "<circle cx=\"144.873\" cy=\"243.625\" r=\"0.5\" stroke=\"none\" fill=\"black\"/>\n",
       "<circle cx=\"174.873\" cy=\"243.625\" r=\"0.5\" stroke=\"none\" fill=\"black\"/>\n",
       "<circle cx=\"204.873\" cy=\"243.625\" r=\"0.5\" stroke=\"none\" fill=\"black\"/>\n",
       "<circle cx=\"234.873\" cy=\"243.625\" r=\"0.5\" stroke=\"none\" fill=\"black\"/>\n",
       "<circle cx=\"264.873\" cy=\"243.625\" r=\"0.5\" stroke=\"none\" fill=\"black\"/>\n",
       "<circle cx=\"54.8729\" cy=\"258.625\" r=\"0.5\" stroke=\"none\" fill=\"black\"/>\n",
       "<circle cx=\"84.8729\" cy=\"258.625\" r=\"0.5\" stroke=\"none\" fill=\"black\"/>\n",
       "<circle cx=\"114.873\" cy=\"258.625\" r=\"0.5\" stroke=\"none\" fill=\"black\"/>\n",
       "<circle cx=\"144.873\" cy=\"258.625\" r=\"0.5\" stroke=\"none\" fill=\"black\"/>\n",
       "<circle cx=\"174.873\" cy=\"258.625\" r=\"0.5\" stroke=\"none\" fill=\"black\"/>\n",
       "<circle cx=\"204.873\" cy=\"258.625\" r=\"0.5\" stroke=\"none\" fill=\"black\"/>\n",
       "<circle cx=\"234.873\" cy=\"258.625\" r=\"0.5\" stroke=\"none\" fill=\"black\"/>\n",
       "<circle cx=\"264.873\" cy=\"258.625\" r=\"0.5\" stroke=\"none\" fill=\"black\"/>\n",
       "<circle cx=\"54.8729\" cy=\"273.625\" r=\"0.5\" stroke=\"none\" fill=\"black\"/>\n",
       "<circle cx=\"84.8729\" cy=\"273.625\" r=\"0.5\" stroke=\"none\" fill=\"black\"/>\n",
       "<circle cx=\"114.873\" cy=\"273.625\" r=\"0.5\" stroke=\"none\" fill=\"black\"/>\n",
       "<circle cx=\"144.873\" cy=\"273.625\" r=\"0.5\" stroke=\"none\" fill=\"black\"/>\n",
       "<circle cx=\"174.873\" cy=\"273.625\" r=\"0.5\" stroke=\"none\" fill=\"black\"/>\n",
       "<circle cx=\"204.873\" cy=\"273.625\" r=\"0.5\" stroke=\"none\" fill=\"black\"/>\n",
       "<circle cx=\"234.873\" cy=\"273.625\" r=\"0.5\" stroke=\"none\" fill=\"black\"/>\n",
       "<circle cx=\"264.873\" cy=\"273.625\" r=\"0.5\" stroke=\"none\" fill=\"black\"/>\n",
       "<circle cx=\"54.8729\" cy=\"288.625\" r=\"0.5\" stroke=\"none\" fill=\"black\"/>\n",
       "<circle cx=\"84.8729\" cy=\"288.625\" r=\"0.5\" stroke=\"none\" fill=\"black\"/>\n",
       "<circle cx=\"114.873\" cy=\"288.625\" r=\"0.5\" stroke=\"none\" fill=\"black\"/>\n",
       "<circle cx=\"144.873\" cy=\"288.625\" r=\"0.5\" stroke=\"none\" fill=\"black\"/>\n",
       "<circle cx=\"174.873\" cy=\"288.625\" r=\"0.5\" stroke=\"none\" fill=\"black\"/>\n",
       "<circle cx=\"204.873\" cy=\"288.625\" r=\"0.5\" stroke=\"none\" fill=\"black\"/>\n",
       "<circle cx=\"234.873\" cy=\"288.625\" r=\"0.5\" stroke=\"none\" fill=\"black\"/>\n",
       "<circle cx=\"264.873\" cy=\"288.625\" r=\"0.5\" stroke=\"none\" fill=\"black\"/>\n",
       "<circle cx=\"54.8729\" cy=\"303.625\" r=\"0.5\" stroke=\"none\" fill=\"black\"/>\n",
       "<circle cx=\"84.8729\" cy=\"303.625\" r=\"0.5\" stroke=\"none\" fill=\"black\"/>\n",
       "<circle cx=\"114.873\" cy=\"303.625\" r=\"0.5\" stroke=\"none\" fill=\"black\"/>\n",
       "<circle cx=\"144.873\" cy=\"303.625\" r=\"0.5\" stroke=\"none\" fill=\"black\"/>\n",
       "<circle cx=\"174.873\" cy=\"303.625\" r=\"0.5\" stroke=\"none\" fill=\"black\"/>\n",
       "<circle cx=\"204.873\" cy=\"303.625\" r=\"0.5\" stroke=\"none\" fill=\"black\"/>\n",
       "<circle cx=\"234.873\" cy=\"303.625\" r=\"0.5\" stroke=\"none\" fill=\"black\"/>\n",
       "<circle cx=\"264.873\" cy=\"303.625\" r=\"0.5\" stroke=\"none\" fill=\"black\"/>\n",
       "<circle cx=\"54.8729\" cy=\"318.625\" r=\"0.5\" stroke=\"none\" fill=\"black\"/>\n",
       "<circle cx=\"84.8729\" cy=\"318.625\" r=\"0.5\" stroke=\"none\" fill=\"black\"/>\n",
       "<circle cx=\"114.873\" cy=\"318.625\" r=\"0.5\" stroke=\"none\" fill=\"black\"/>\n",
       "<circle cx=\"144.873\" cy=\"318.625\" r=\"0.5\" stroke=\"none\" fill=\"black\"/>\n",
       "<circle cx=\"174.873\" cy=\"318.625\" r=\"0.5\" stroke=\"none\" fill=\"black\"/>\n",
       "<circle cx=\"204.873\" cy=\"318.625\" r=\"0.5\" stroke=\"none\" fill=\"black\"/>\n",
       "<circle cx=\"234.873\" cy=\"318.625\" r=\"0.5\" stroke=\"none\" fill=\"black\"/>\n",
       "<circle cx=\"264.873\" cy=\"318.625\" r=\"0.5\" stroke=\"none\" fill=\"black\"/>\n",
       "<circle cx=\"54.8729\" cy=\"333.625\" r=\"0.5\" stroke=\"none\" fill=\"black\"/>\n",
       "<circle cx=\"84.8729\" cy=\"333.625\" r=\"0.5\" stroke=\"none\" fill=\"black\"/>\n",
       "<circle cx=\"114.873\" cy=\"333.625\" r=\"0.5\" stroke=\"none\" fill=\"black\"/>\n",
       "<circle cx=\"144.873\" cy=\"333.625\" r=\"0.5\" stroke=\"none\" fill=\"black\"/>\n",
       "<circle cx=\"174.873\" cy=\"333.625\" r=\"0.5\" stroke=\"none\" fill=\"black\"/>\n",
       "<circle cx=\"204.873\" cy=\"333.625\" r=\"0.5\" stroke=\"none\" fill=\"black\"/>\n",
       "<circle cx=\"234.873\" cy=\"333.625\" r=\"0.5\" stroke=\"none\" fill=\"black\"/>\n",
       "<circle cx=\"264.873\" cy=\"333.625\" r=\"0.5\" stroke=\"none\" fill=\"black\"/>\n",
       "<circle cx=\"54.8729\" cy=\"348.625\" r=\"0.5\" stroke=\"none\" fill=\"black\"/>\n",
       "<circle cx=\"84.8729\" cy=\"348.625\" r=\"0.5\" stroke=\"none\" fill=\"black\"/>\n",
       "<circle cx=\"114.873\" cy=\"348.625\" r=\"0.5\" stroke=\"none\" fill=\"black\"/>\n",
       "<circle cx=\"144.873\" cy=\"348.625\" r=\"0.5\" stroke=\"none\" fill=\"black\"/>\n",
       "<circle cx=\"174.873\" cy=\"348.625\" r=\"0.5\" stroke=\"none\" fill=\"black\"/>\n",
       "<circle cx=\"204.873\" cy=\"348.625\" r=\"0.5\" stroke=\"none\" fill=\"black\"/>\n",
       "<circle cx=\"234.873\" cy=\"348.625\" r=\"0.5\" stroke=\"none\" fill=\"black\"/>\n",
       "<circle cx=\"264.873\" cy=\"348.625\" r=\"0.5\" stroke=\"none\" fill=\"black\"/>\n",
       "<circle cx=\"54.8729\" cy=\"363.625\" r=\"0.5\" stroke=\"none\" fill=\"black\"/>\n",
       "<circle cx=\"84.8729\" cy=\"363.625\" r=\"0.5\" stroke=\"none\" fill=\"black\"/>\n",
       "<circle cx=\"114.873\" cy=\"363.625\" r=\"0.5\" stroke=\"none\" fill=\"black\"/>\n",
       "<circle cx=\"144.873\" cy=\"363.625\" r=\"0.5\" stroke=\"none\" fill=\"black\"/>\n",
       "<circle cx=\"174.873\" cy=\"363.625\" r=\"0.5\" stroke=\"none\" fill=\"black\"/>\n",
       "<circle cx=\"204.873\" cy=\"363.625\" r=\"0.5\" stroke=\"none\" fill=\"black\"/>\n",
       "<circle cx=\"234.873\" cy=\"363.625\" r=\"0.5\" stroke=\"none\" fill=\"black\"/>\n",
       "<circle cx=\"264.873\" cy=\"363.625\" r=\"0.5\" stroke=\"none\" fill=\"black\"/>\n",
       "<circle cx=\"54.8729\" cy=\"378.625\" r=\"0.5\" stroke=\"none\" fill=\"black\"/>\n",
       "<circle cx=\"84.8729\" cy=\"378.625\" r=\"0.5\" stroke=\"none\" fill=\"black\"/>\n",
       "<circle cx=\"114.873\" cy=\"378.625\" r=\"0.5\" stroke=\"none\" fill=\"black\"/>\n",
       "<circle cx=\"144.873\" cy=\"378.625\" r=\"0.5\" stroke=\"none\" fill=\"black\"/>\n",
       "<circle cx=\"174.873\" cy=\"378.625\" r=\"0.5\" stroke=\"none\" fill=\"black\"/>\n",
       "<circle cx=\"204.873\" cy=\"378.625\" r=\"0.5\" stroke=\"none\" fill=\"black\"/>\n",
       "<circle cx=\"234.873\" cy=\"378.625\" r=\"0.5\" stroke=\"none\" fill=\"black\"/>\n",
       "<circle cx=\"264.873\" cy=\"378.625\" r=\"0.5\" stroke=\"none\" fill=\"black\"/>\n",
       "<circle cx=\"54.8729\" cy=\"393.625\" r=\"0.5\" stroke=\"none\" fill=\"black\"/>\n",
       "<circle cx=\"84.8729\" cy=\"393.625\" r=\"0.5\" stroke=\"none\" fill=\"black\"/>\n",
       "<circle cx=\"114.873\" cy=\"393.625\" r=\"0.5\" stroke=\"none\" fill=\"black\"/>\n",
       "<circle cx=\"144.873\" cy=\"393.625\" r=\"0.5\" stroke=\"none\" fill=\"black\"/>\n",
       "<circle cx=\"174.873\" cy=\"393.625\" r=\"0.5\" stroke=\"none\" fill=\"black\"/>\n",
       "<circle cx=\"204.873\" cy=\"393.625\" r=\"0.5\" stroke=\"none\" fill=\"black\"/>\n",
       "<circle cx=\"234.873\" cy=\"393.625\" r=\"0.5\" stroke=\"none\" fill=\"black\"/>\n",
       "<circle cx=\"264.873\" cy=\"393.625\" r=\"0.5\" stroke=\"none\" fill=\"black\"/>\n",
       "<circle cx=\"54.8729\" cy=\"408.625\" r=\"0.5\" stroke=\"none\" fill=\"black\"/>\n",
       "<circle cx=\"84.8729\" cy=\"408.625\" r=\"0.5\" stroke=\"none\" fill=\"black\"/>\n",
       "<circle cx=\"114.873\" cy=\"408.625\" r=\"0.5\" stroke=\"none\" fill=\"black\"/>\n",
       "<circle cx=\"144.873\" cy=\"408.625\" r=\"0.5\" stroke=\"none\" fill=\"black\"/>\n",
       "<circle cx=\"174.873\" cy=\"408.625\" r=\"0.5\" stroke=\"none\" fill=\"black\"/>\n",
       "<circle cx=\"204.873\" cy=\"408.625\" r=\"0.5\" stroke=\"none\" fill=\"black\"/>\n",
       "<circle cx=\"234.873\" cy=\"408.625\" r=\"0.5\" stroke=\"none\" fill=\"black\"/>\n",
       "<circle cx=\"264.873\" cy=\"408.625\" r=\"0.5\" stroke=\"none\" fill=\"black\"/>\n",
       "<circle cx=\"54.8729\" cy=\"423.625\" r=\"0.5\" stroke=\"none\" fill=\"black\"/>\n",
       "<circle cx=\"84.8729\" cy=\"423.625\" r=\"0.5\" stroke=\"none\" fill=\"black\"/>\n",
       "<circle cx=\"114.873\" cy=\"423.625\" r=\"0.5\" stroke=\"none\" fill=\"black\"/>\n",
       "<circle cx=\"144.873\" cy=\"423.625\" r=\"0.5\" stroke=\"none\" fill=\"black\"/>\n",
       "<circle cx=\"174.873\" cy=\"423.625\" r=\"0.5\" stroke=\"none\" fill=\"black\"/>\n",
       "<circle cx=\"204.873\" cy=\"423.625\" r=\"0.5\" stroke=\"none\" fill=\"black\"/>\n",
       "<circle cx=\"234.873\" cy=\"423.625\" r=\"0.5\" stroke=\"none\" fill=\"black\"/>\n",
       "<circle cx=\"264.873\" cy=\"423.625\" r=\"0.5\" stroke=\"none\" fill=\"black\"/>\n",
       "</svg>"
      ]
     },
     "execution_count": 18,
     "metadata": {},
     "output_type": "execute_result"
    }
   ],
   "source": [
    "dem.diagram(\"matchgraph-svg\")"
   ]
  },
  {
   "cell_type": "markdown",
   "metadata": {
    "id": "fLY3a5w9PT1L"
   },
   "source": [
    "<!-- In the diagram above, each node is a detector and each edge is an error mechanism. The matcher is going to decode errors by trying to match each excited node to another nearby excited node, or to the side boundaries, which minimizes the number of edges that were used.\n",
    "\n",
    "The detector error model format is easier for decoders to consume than a raw circuit, because everything is explained in terms of observable symptoms and hidden symptoms, which is how decoders usually conceptualize the problem space.\n",
    "For example, some decoders can be configured using a weighted graph, and [`stim.DetectorErrorModel`](https://github.com/quantumlib/Stim/blob/main/doc/python_api_reference_vDev.md#stim.DetectorErrorModel) is effectively just a weighted graph.\n",
    "It might be a pain to write the glue code that converts the [`stim.DetectorErrorModel`](https://github.com/quantumlib/Stim/blob/main/doc/python_api_reference_vDev.md#stim.DetectorErrorModel) into exactly the right kind of graph expected by the decoder, but it's much easier than starting from the circuit or generating the graph from scratch – and you only have to write that code once instead of once per circuit.\n",
    "\n",
    "For this tutorial, you'll use existing packages instead of writing your own glue code.\n",
    "Specifically, you'll use the open-source package [PyMatching](https://github.com/oscarhiggott/PyMatching) as your decoder.\n",
    "PyMatching is a minimum-weight perfect matching decoder written by Oscar Higgott.\n",
    "You can install it using `pip install pymatching`: -->\n",
    "\n",
    "上の図では、各ノードが検出器であり、各エッジがエラー・メカニズムで、デコーダはマッチングさせて復号しようとしています。\n",
    "\n",
    "このチュートリアルでは、独自のグルー・コードを書く代わりに、既存のパッケージを使います。\n",
    "具体的には、オープンソースのパッケージ[PyMatching](https://github.com/oscarhiggott/PyMatching)をデコーダとして使います。\n",
    "PyMatchingはOscar Higgottによって書かれた最小重み完全マッチングアルゴリズムを使ったデコーダです。\n",
    "pip install pymatching`でインストールできます："
   ]
  },
  {
   "cell_type": "code",
   "execution_count": 19,
   "metadata": {
    "colab": {
     "base_uri": "https://localhost:8080/"
    },
    "executionInfo": {
     "elapsed": 9148,
     "status": "ok",
     "timestamp": 1749668425452,
     "user": {
      "displayName": "西尾真",
      "userId": "00115546110162814399"
     },
     "user_tz": -60
    },
    "id": "xlH-hxBRPjNy",
    "outputId": "9ac9edf2-ae10-4f9d-8af7-5024e0f4315d"
   },
   "outputs": [
    {
     "name": "stdout",
     "output_type": "stream",
     "text": [
      "Requirement already satisfied: pymatching~=2.0 in ./.venv/lib/python3.10/site-packages (2.2.2)\n",
      "Requirement already satisfied: scipy in ./.venv/lib/python3.10/site-packages (from pymatching~=2.0) (1.15.3)\n",
      "Requirement already satisfied: numpy in ./.venv/lib/python3.10/site-packages (from pymatching~=2.0) (1.26.4)\n",
      "Requirement already satisfied: networkx in ./.venv/lib/python3.10/site-packages (from pymatching~=2.0) (3.4.2)\n",
      "Requirement already satisfied: matplotlib in ./.venv/lib/python3.10/site-packages (from pymatching~=2.0) (3.10.3)\n",
      "Requirement already satisfied: contourpy>=1.0.1 in ./.venv/lib/python3.10/site-packages (from matplotlib->pymatching~=2.0) (1.3.2)\n",
      "Requirement already satisfied: cycler>=0.10 in ./.venv/lib/python3.10/site-packages (from matplotlib->pymatching~=2.0) (0.12.1)\n",
      "Requirement already satisfied: fonttools>=4.22.0 in ./.venv/lib/python3.10/site-packages (from matplotlib->pymatching~=2.0) (4.58.2)\n",
      "Requirement already satisfied: kiwisolver>=1.3.1 in ./.venv/lib/python3.10/site-packages (from matplotlib->pymatching~=2.0) (1.4.8)\n",
      "Requirement already satisfied: packaging>=20.0 in ./.venv/lib/python3.10/site-packages (from matplotlib->pymatching~=2.0) (25.0)\n",
      "Requirement already satisfied: pillow>=8 in ./.venv/lib/python3.10/site-packages (from matplotlib->pymatching~=2.0) (11.2.1)\n",
      "Requirement already satisfied: pyparsing>=2.3.1 in ./.venv/lib/python3.10/site-packages (from matplotlib->pymatching~=2.0) (3.2.3)\n",
      "Requirement already satisfied: python-dateutil>=2.7 in ./.venv/lib/python3.10/site-packages (from matplotlib->pymatching~=2.0) (2.9.0.post0)\n",
      "Requirement already satisfied: six>=1.5 in ./.venv/lib/python3.10/site-packages (from python-dateutil>=2.7->matplotlib->pymatching~=2.0) (1.17.0)\n"
     ]
    }
   ],
   "source": [
    "!pip install pymatching~=2.0"
   ]
  },
  {
   "cell_type": "code",
   "execution_count": 20,
   "metadata": {
    "executionInfo": {
     "elapsed": 1671,
     "status": "ok",
     "timestamp": 1749668427125,
     "user": {
      "displayName": "西尾真",
      "userId": "00115546110162814399"
     },
     "user_tz": -60
    },
    "id": "cx7UkBiYQeOz"
   },
   "outputs": [],
   "source": [
    "import pymatching"
   ]
  },
  {
   "cell_type": "markdown",
   "metadata": {
    "id": "ewrxiwXMQ-Yz"
   },
   "source": [
    "<!-- Now you're going to write a method that will sample a circuit using Stim, decode it using PyMatching, and count how often it gets the right answer.\n",
    "\n",
    "First, you sample detection events and observable flips from the circuit.\n",
    "You do this by creating a sampler with [`circuit.compile_detector_sampler()`](https://github.com/quantumlib/Stim/blob/main/doc/python_api_reference_vDev.md#stim.Circuit.compile_detector_sampler) and then calling [`sampler.sample(shots, separate_observables=True)`](https://github.com/quantumlib/Stim/blob/main/doc/python_api_reference_vDev.md#stim.CompiledDetectorSampler.sample).\n",
    "The `separate_observables=True` argument is saying that you want the result of the method to be a tuple where the first entry is detection event data to give to the decoder and the second entry is the observable flip data the decoder is supposed to predict.\n",
    "\n",
    "Second, you extract decoder information by using [`stim.Circuit.detector_error_model(...)`](https://github.com/quantumlib/Stim/blob/main/doc/python_api_reference_vDev.md#stim.Circuit.detector_error_model) and create a decoder from this information using [`pymatching.Matching.from_detector_error_model`](https://pymatching.readthedocs.io/en/latest/api.html#pymatching.matching.Matching.from_detector_error_model).\n",
    "\n",
    "Third, you run `matching.predict` to get the predicted observable flips.\n",
    "\n",
    "Fourth, you compare the predictions made by PyMatching to the actual observable flip data that was sampled.\n",
    "Anytime the prediction differs, it indicates a logical error. -->\n",
    "\n",
    "では、Stimを使って回路をサンプリングし、PyMatchingを使ってデコードし、正しい答えが得られる頻度をカウントするメソッドを書きます。\n",
    "\n",
    "まず、回路から検出イベントと観測可能なフリップをサンプリングします。\n",
    "これは、[`circuit.compile_detector_sampler()`](https://github.com/quantumlib/Stim/blob/main/doc/python_api_reference_vDev.md#stim.Circuit.compile_detector_sampler)でサンプラーを作成し、[`sampler.sample(shots, separate_observables=True)`](https://github.com/quantumlib/Stim/blob/main/doc/python_api_reference_vDev.md#stim.CompiledDetectorSampler.sample)を呼び出すことで行います。\n",
    "separate_observables=True`の引数は、メソッドの結果をタプルにすることを意味しています。最初のエントリはデコーダに渡す検出イベントデータで、2番目のエントリはデコーダが予測する観測フリップデータです。\n",
    "\n",
    "次に、[`stim.Circuit.detector_error_model(...)`](https://github.com/quantumlib/Stim/blob/main/doc/python_api_reference_vDev.md#stim.Circuit.detector_error_model)を使用してデコーダ情報を抽出し、[`pymatching.Matching.from_detector_error_model`](https://pymatching.readthedocs.io/en/latest/api.html#pymatching.matching.Matching.from_detector_error_model)を使用してこの情報からデコーダを作成します。\n",
    "\n",
    "第三に、`matching.predict`を実行して、予測された観測可能なフリップを得る。\n",
    "\n",
    "4つ目は、PyMatchingによる予測と実際にサンプリングされた観測可能フリップデータを比較します。\n",
    "予測値が異なる場合はいつでも論理エラーを示します。"
   ]
  },
  {
   "cell_type": "code",
   "execution_count": 21,
   "metadata": {
    "executionInfo": {
     "elapsed": 3,
     "status": "ok",
     "timestamp": 1749668427126,
     "user": {
      "displayName": "西尾真",
      "userId": "00115546110162814399"
     },
     "user_tz": -60
    },
    "id": "32hBrUAQRbSc"
   },
   "outputs": [],
   "source": [
    "def count_logical_errors(circuit: stim.Circuit, num_shots: int) -> int:\n",
    "    # Sample the circuit.\n",
    "    sampler = circuit.compile_detector_sampler()\n",
    "    detection_events, observable_flips = sampler.sample(num_shots, separate_observables=True)\n",
    "\n",
    "    # Configure a decoder using the circuit.\n",
    "    detector_error_model = circuit.detector_error_model(decompose_errors=True)\n",
    "    matcher = pymatching.Matching.from_detector_error_model(detector_error_model)\n",
    "\n",
    "    # Run the decoder.\n",
    "    predictions = matcher.decode_batch(detection_events)\n",
    "\n",
    "    # Count the mistakes.\n",
    "    num_errors = 0\n",
    "    for shot in range(num_shots):\n",
    "        actual_for_shot = observable_flips[shot]\n",
    "        predicted_for_shot = predictions[shot]\n",
    "        if not np.array_equal(actual_for_shot, predicted_for_shot):\n",
    "            num_errors += 1\n",
    "    return num_errors"
   ]
  },
  {
   "cell_type": "markdown",
   "metadata": {
    "id": "gVvL0sbLSi4R"
   },
   "source": [
    "<!-- You can try this method on the repetition code circuit: -->\n",
    "この方法を繰り返し符号の回路で試すことができます。"
   ]
  },
  {
   "cell_type": "code",
   "execution_count": 22,
   "metadata": {
    "colab": {
     "base_uri": "https://localhost:8080/"
    },
    "executionInfo": {
     "elapsed": 2073,
     "status": "ok",
     "timestamp": 1749668429199,
     "user": {
      "displayName": "西尾真",
      "userId": "00115546110162814399"
     },
     "user_tz": -60
    },
    "id": "D93VJhBVS1Cn",
    "outputId": "65023fcf-b5b4-4519-d0f2-3a20b16f1812"
   },
   "outputs": [
    {
     "name": "stdout",
     "output_type": "stream",
     "text": [
      "there were 6 wrong predictions (logical errors) out of 100000 shots\n"
     ]
    }
   ],
   "source": [
    "circuit = stim.Circuit.generated(\"repetition_code:memory\", rounds=100, distance=9, before_round_data_depolarization=0.03)\n",
    "num_shots = 100_000\n",
    "num_logical_errors = count_logical_errors(circuit, num_shots)\n",
    "print(\"there were\", num_logical_errors, \"wrong predictions (logical errors) out of\", num_shots, \"shots\")"
   ]
  },
  {
   "cell_type": "markdown",
   "metadata": {
    "id": "jRbSSRC2TcBA"
   },
   "source": [
    "物理ノイズの強度を上げると、論理エラー率が増加することを確認できます。\n",
    "ラウンド間の脱分極強度を13%に増やしてみてください："
   ]
  },
  {
   "cell_type": "code",
   "execution_count": 23,
   "metadata": {
    "colab": {
     "base_uri": "https://localhost:8080/"
    },
    "executionInfo": {
     "elapsed": 763,
     "status": "ok",
     "timestamp": 1749668429964,
     "user": {
      "displayName": "西尾真",
      "userId": "00115546110162814399"
     },
     "user_tz": -60
    },
    "id": "MLHl2S91Tnpi",
    "outputId": "7e685b97-79a4-4d96-cfc9-b7c9a0a732b9"
   },
   "outputs": [
    {
     "name": "stdout",
     "output_type": "stream",
     "text": [
      "there were 1231 wrong predictions (logical errors) out of 10000 shots\n"
     ]
    }
   ],
   "source": [
    "circuit = stim.Circuit.generated(\n",
    "    \"repetition_code:memory\",\n",
    "    rounds=100,\n",
    "    distance=9,\n",
    "    before_round_data_depolarization=0.13,\n",
    "    before_measure_flip_probability=0.01)\n",
    "num_shots = 10_000\n",
    "num_logical_errors = count_logical_errors(circuit, num_shots)\n",
    "print(\"there were\", num_logical_errors, \"wrong predictions (logical errors) out of\", num_shots, \"shots\")"
   ]
  },
  {
   "cell_type": "markdown",
   "metadata": {
    "id": "j2WD8EIIYSsO"
   },
   "source": [
    "<!-- As you can see, you get a lot more wrong predictions with this higher noise strength. -->\n",
    "\n",
    "ご覧のように、ノイズ強度が高いほど、間違った予測が多くなります。"
   ]
  },
  {
   "cell_type": "markdown",
   "metadata": {
    "id": "pJt8euOoT1kQ"
   },
   "source": [
    "<a class=\"anchor\" id=\"rep-code\"></a>.\n",
    "# モンテカルロ・サンプリングを使って繰り返しコードの閾値を推定する\n",
    "\n",
    "誤り訂正符号のしきい値を推定するために必要なのは、物理的な誤り率と符号の距離をたくさん試すことだけです。\n",
    "各符号距離について論理誤り率対物理誤り率の曲線をプロットし、曲線がどこで交差するかを見ることで閾値がわかります。\n",
    "物理誤り率が十分に悪化し、距離を長くすると論理エラー率が良くなるどころか悪化し始める点、それが物理エラー率のしきい値です。\n",
    "\n",
    "様々な符号距離と物理誤り率における論理エラーレートをプロットすることで、使用している特定のタイプのノイズに対する繰り返し符号の閾値を推定することができます："
   ]
  },
  {
   "cell_type": "code",
   "execution_count": 24,
   "metadata": {
    "colab": {
     "base_uri": "https://localhost:8080/",
     "height": 454
    },
    "executionInfo": {
     "elapsed": 2175,
     "status": "ok",
     "timestamp": 1749668432140,
     "user": {
      "displayName": "西尾真",
      "userId": "00115546110162814399"
     },
     "user_tz": -60
    },
    "id": "qkWlL6pwT5xc",
    "outputId": "e2e87cda-7cba-4d9d-a729-f07819b8f94f"
   },
   "outputs": [
    {
     "data": {
      "image/png": "[encoded data removed]",
      "text/plain": [
       "<Figure size 640x480 with 1 Axes>"
      ]
     },
     "metadata": {},
     "output_type": "display_data"
    }
   ],
   "source": [
    "import matplotlib.pyplot as plt\n",
    "\n",
    "num_shots = 10_000\n",
    "for d in [3, 5, 7]:\n",
    "    xs = []\n",
    "    ys = []\n",
    "    for noise in [0.1, 0.2, 0.3, 0.4]:\n",
    "        circuit = stim.Circuit.generated(\n",
    "            \"repetition_code:memory\",\n",
    "            rounds=d * 3,\n",
    "            distance=d,\n",
    "            before_round_data_depolarization=noise)\n",
    "        num_errors_sampled = count_logical_errors(circuit, num_shots)\n",
    "        xs.append(noise)\n",
    "        ys.append(num_errors_sampled / num_shots)\n",
    "    plt.plot(xs, ys, label=\"d=\" + str(d))\n",
    "plt.loglog()\n",
    "plt.xlabel(\"physical error rate\")\n",
    "plt.ylabel(\"logical error rate per shot\")\n",
    "plt.legend()\n",
    "plt.show()"
   ]
  },
  {
   "cell_type": "markdown",
   "metadata": {
    "id": "J5TZ-AlJVGmk"
   },
   "source": [
    "<!-- From the results here you can see that the repetition code has amazingly good performance! Well... it's not *quite* so amazing when you remember that you're using a phenomenological noise model (instead of a circuit-level noise model) and also that you're inserting depolarizing errors instead of bit-flip errors (the repetition code is immune to Z errors, and when a depolarizing error occurs it's a Z error one third of the time).\n",
    "\n",
    "Still, you can see that it's not so hard to run a few different cases and plot them out. A bit tedious, maybe. -->\n",
    "\n",
    "この結果から、反復コードが驚くほど優れたパフォーマンスを持っていることがわかります！ただ、（回路レベルのノイズモデルではなく）現象論的ノイズモデルを使用していること、またビット反転エラーの代わりに脱分極エラーを挿入していること（繰り返し符号はZエラーに耐性があり、脱分極エラーが発生すると3分の1の確率でZエラーになるだけである）を思い出すと、それほど驚くべきことではありません。\n",
    "\n",
    "いずれにせよ、いくつかの異なるケースを実行し、それをプロットすることが簡単にできました。"
   ]
  },
  {
   "cell_type": "markdown",
   "metadata": {
    "id": "c88KJx_mVhZU"
   },
   "source": [
    "<!-- <a class=\"anchor\" id=\"use-sinter\"></a>\n",
    "# 8. Use `sinter` to streamline the Monte Carlo sampling process\n",
    "\n",
    "Now that you understand the basic workflow of sampling from a circuit, making a decoder predict the observable flips, and plotting out the result, you probably never want to do that by hand ever again. And that's without even getting into dividing work into batches, or across multiple CPU cores!\n",
    "\n",
    "Fortunately, you can use [Sinter](https://pypi.org/project/sinter/) to do almost the entire thing for you. Install Sinter using `pip install sinter`: -->\n",
    "\n",
    "<!-- <a class=\"anchor\" id=\"use-sinter\"></a>. -->\n",
    "# sinter`を使ってモンテカルロ・サンプリング処理を効率化する\n",
    "[Sinter](https://pypi.org/project/sinter/) を使えば、作業をバッチに分けたり、複数のCPUコアに分割したりといったことをやってくれます。pip install sinter`を使ってSinterをインストールしてください："
   ]
  },
  {
   "cell_type": "code",
   "execution_count": 25,
   "metadata": {
    "colab": {
     "base_uri": "https://localhost:8080/"
    },
    "executionInfo": {
     "elapsed": 10120,
     "status": "ok",
     "timestamp": 1749668442261,
     "user": {
      "displayName": "西尾真",
      "userId": "00115546110162814399"
     },
     "user_tz": -60
    },
    "id": "ogUrK7LhZyV-",
    "outputId": "bc0c71df-fb38-462f-eb74-9ad2d4de019f"
   },
   "outputs": [
    {
     "name": "stdout",
     "output_type": "stream",
     "text": [
      "Requirement already satisfied: sinter~=1.14 in ./.venv/lib/python3.10/site-packages (1.15.0)\n",
      "Requirement already satisfied: matplotlib in ./.venv/lib/python3.10/site-packages (from sinter~=1.14) (3.10.3)\n",
      "Requirement already satisfied: numpy in ./.venv/lib/python3.10/site-packages (from sinter~=1.14) (1.26.4)\n",
      "Requirement already satisfied: stim in ./.venv/lib/python3.10/site-packages (from sinter~=1.14) (1.15.0)\n",
      "Requirement already satisfied: scipy in ./.venv/lib/python3.10/site-packages (from sinter~=1.14) (1.15.3)\n",
      "Requirement already satisfied: contourpy>=1.0.1 in ./.venv/lib/python3.10/site-packages (from matplotlib->sinter~=1.14) (1.3.2)\n",
      "Requirement already satisfied: cycler>=0.10 in ./.venv/lib/python3.10/site-packages (from matplotlib->sinter~=1.14) (0.12.1)\n",
      "Requirement already satisfied: fonttools>=4.22.0 in ./.venv/lib/python3.10/site-packages (from matplotlib->sinter~=1.14) (4.58.2)\n",
      "Requirement already satisfied: kiwisolver>=1.3.1 in ./.venv/lib/python3.10/site-packages (from matplotlib->sinter~=1.14) (1.4.8)\n",
      "Requirement already satisfied: packaging>=20.0 in ./.venv/lib/python3.10/site-packages (from matplotlib->sinter~=1.14) (25.0)\n",
      "Requirement already satisfied: pillow>=8 in ./.venv/lib/python3.10/site-packages (from matplotlib->sinter~=1.14) (11.2.1)\n",
      "Requirement already satisfied: pyparsing>=2.3.1 in ./.venv/lib/python3.10/site-packages (from matplotlib->sinter~=1.14) (3.2.3)\n",
      "Requirement already satisfied: python-dateutil>=2.7 in ./.venv/lib/python3.10/site-packages (from matplotlib->sinter~=1.14) (2.9.0.post0)\n",
      "Requirement already satisfied: six>=1.5 in ./.venv/lib/python3.10/site-packages (from python-dateutil>=2.7->matplotlib->sinter~=1.14) (1.17.0)\n"
     ]
    }
   ],
   "source": [
    "!pip install sinter~=1.14"
   ]
  },
  {
   "cell_type": "code",
   "execution_count": 26,
   "metadata": {
    "executionInfo": {
     "elapsed": 3,
     "status": "ok",
     "timestamp": 1749668442263,
     "user": {
      "displayName": "西尾真",
      "userId": "00115546110162814399"
     },
     "user_tz": -60
    },
    "id": "VrayGWt0-qOW"
   },
   "outputs": [],
   "source": [
    "import sinter\n",
    "from typing import List"
   ]
  },
  {
   "cell_type": "markdown",
   "metadata": {
    "id": "dxTADjNX-qOW"
   },
   "source": [
    "<!-- Wrap your circuits into [`sinter.Task`](https://github.com/quantumlib/Stim/blob/main/doc/sinter_api.md#sinter.Task) instances, and give those tasks to [`sinter.collect`](https://github.com/quantumlib/Stim/blob/main/doc/sinter_api.md#sinter.collect).\n",
    "Sinter will spin up multiple worker processes to sample from and decode these circuits.\n",
    "[`sinter.collect`](https://github.com/quantumlib/Stim/blob/main/doc/sinter_api.md#sinter.collect) takes a variety of useful options, such as the maximum number of shots or errors to take from each task, as well as the number of workers to use: -->\n",
    "\n",
    "回路を[`sinter.Task`](https://github.com/quantumlib/Stim/blob/main/doc/sinter_api.md#sinter.Task)インスタンスにラップし、それらのタスクを[`sinter.collect`](https://github.com/quantumlib/Stim/blob/main/doc/sinter_api.md#sinter.collect)に渡します。\n",
    "Sinterは複数のワーカープロセスをスピンアップして、これらの回路からサンプリングしてデコードします。\n",
    "[`sinter.collect`](https://github.com/quantumlib/Stim/blob/main/doc/sinter_api.md#sinter.collect)は、使用するワーカーの数だけでなく、各タスクから取得するショット数やエラーの最大数など、様々な便利なオプションを取ります："
   ]
  },
  {
   "cell_type": "code",
   "execution_count": 36,
   "metadata": {
    "executionInfo": {
     "elapsed": 7120,
     "status": "ok",
     "timestamp": 1749668449384,
     "user": {
      "displayName": "西尾真",
      "userId": "00115546110162814399"
     },
     "user_tz": -60
    },
    "id": "4HmwlVCz-qOW"
   },
   "outputs": [],
   "source": [
    "tasks = [\n",
    "    sinter.Task(\n",
    "        circuit=stim.Circuit.generated(\n",
    "            \"repetition_code:memory\",\n",
    "            rounds=d * 3,\n",
    "            distance=d,\n",
    "            before_round_data_depolarization=noise,\n",
    "        ),\n",
    "        json_metadata={'d': d, 'p': noise},\n",
    "    )\n",
    "    for d in [3, 9, 15]\n",
    "    for noise in [0.001, 0.005, 0.01, 0.05, 0.1, 0.2, 0.3, 0.4, 0.5]\n",
    "]\n",
    "\n",
    "collected_stats: List[sinter.TaskStats] = sinter.collect(\n",
    "    num_workers=4,\n",
    "    tasks=tasks,\n",
    "    decoders=['pymatching'],\n",
    "    max_shots=100_000,\n",
    "    max_errors=500,\n",
    ")"
   ]
  },
  {
   "cell_type": "markdown",
   "metadata": {
    "id": "mVDInHcUbAc0"
   },
   "source": [
    "<!-- Sinter also has a [`sinter.plot_error_rate`](https://github.com/quantumlib/Stim/blob/main/doc/sinter_api.md#sinter.plot_error_rate) method which can be used to plot the logical error rates. This method automatically adds highlighted regions quantifying uncertainty in the estimates. -->\n",
    "\n",
    "Sinterには[`sinter.plot_error_rate`](https://github.com/quantumlib/Stim/blob/main/doc/sinter_api.md#sinter.plot_error_rate)メソッドもあり、論理誤り率をプロットするために使用することができます。このメソッドは、推定値の信頼区間を示すハイライト領域を自動的に追加します。"
   ]
  },
  {
   "cell_type": "code",
   "execution_count": 39,
   "metadata": {
    "colab": {
     "base_uri": "https://localhost:8080/",
     "height": 565
    },
    "executionInfo": {
     "elapsed": 1301,
     "status": "ok",
     "timestamp": 1749668450687,
     "user": {
      "displayName": "西尾真",
      "userId": "00115546110162814399"
     },
     "user_tz": -60
    },
    "id": "ZOsb01E0bFhw",
    "outputId": "c9ae9937-ee92-4cd6-8da5-c33a5777c572"
   },
   "outputs": [
    {
     "data": {
      "image/png": "[encoded data removed]",
      "text/plain": [
       "<Figure size 768x576 with 1 Axes>"
      ]
     },
     "metadata": {},
     "output_type": "display_data"
    }
   ],
   "source": [
    "fig, ax = plt.subplots(1, 1)\n",
    "sinter.plot_error_rate(\n",
    "    ax=ax,\n",
    "    stats=collected_stats,\n",
    "    x_func=lambda stats: stats.json_metadata['p'],\n",
    "    group_func=lambda stats: stats.json_metadata['d'],\n",
    ")\n",
    "ax.set_ylim(1e-4, 1e-0)\n",
    "ax.set_xlim(5e-2, 0.9)\n",
    "ax.loglog()\n",
    "ax.set_title(\"Repetition Code Error Rates (Phenomenological Noise)\")\n",
    "ax.set_xlabel(\"Phyical Error Rate\")\n",
    "ax.set_ylabel(\"Logical Error Rate per Shot\")\n",
    "ax.grid(which='major')\n",
    "ax.grid(which='minor')\n",
    "ax.legend()\n",
    "fig.set_dpi(120)  # Show it bigger"
   ]
  },
  {
   "cell_type": "markdown",
   "metadata": {
    "id": "gU4GZ66sZllH"
   },
   "source": [
    "<!-- `sinter`'s goal is to make getting these kinds of results fast and easy. -->\n",
    "sinter`の目標は、この種の結果を素早く簡単に得られるようにすることです。"
   ]
  },
  {
   "cell_type": "markdown",
   "metadata": {
    "id": "ncntTVnrZbC_"
   },
   "source": [
    "## 演習：量子誤り訂正符号の閾値の数値計算\n",
    "𝑛量子ビット繰り返し符号[[𝑛,1,𝑛]]の物理誤り率に対する論理誤り率がどうなるかをプロットしなさい。\n",
    "- 符号化-物理誤り-シンドローム測定-復号-訂正-論理誤りの確認の順でシミュレートされる。\n",
    "- まず異なる符号長(𝑛=3,5,7,9…) でプロットする。\n",
    "- 物理誤り率をより細かく刻んで、より正確に誤り閾値(符号長を変えた複数の曲線の交点のx座標)を導出すること。有効数字2桁で値を導出してください。\n",
    "- 信頼区間もプロットすること。"
   ]
  },
  {
   "cell_type": "markdown",
   "metadata": {
    "id": "lYPJMxqyEQvy"
   },
   "source": [
    "# Additional resources\n",
    "## Getting help\n",
    "\n",
    "- You can ask questions about quantum circuits, Stim, error correction, and related topics on the [Quantum Computing Stack Exchange](https://quantumcomputing.stackexchange.com/).\n",
    "Use the tag `stim`.\n",
    "\n",
    "## Stim reference material\n",
    "\n",
    "- [Stim Python API Reference](https://github.com/quantumlib/Stim/blob/main/doc/python_api_reference_vDev.md)\n",
    "- [Stim Supported Gates Reference](https://github.com/quantumlib/Stim/blob/main/doc/gates.md)\n",
    "- [Stim Command Line Reference](https://github.com/quantumlib/Stim/blob/main/doc/usage_command_line.md)\n",
    "- [Stim Circuit File Format (.stim)](https://github.com/quantumlib/Stim/blob/main/doc/file_format_stim_circuit.md)\n",
    "- [Stim Detector Error model Format (.dem)](https://github.com/quantumlib/Stim/blob/main/doc/file_format_dem_detector_error_model.md)\n",
    "- [Stim Results Format Reference](https://github.com/quantumlib/Stim/blob/main/doc/result_formats.md)\n",
    "\n",
    "## Talks and videos\n",
    "\n",
    "- [\"Software and the Honeycomb Code\"](https://www.youtube.com/watch?v=O3NaTGmY0Rw) by Craig Gidney at the weekly Duke/Pratt quantum computing seminar\n",
    "- [\"Estimating overheads for quantum fault-tolerance in the honeycomb code\"](https://www.youtube.com/watch?v=ND9OoqJ0NMw) by Mike Newman at the [APS March Meeting 2022](https://web.archive.org/web/20240716155117/https://meetings.aps.org/Meeting/MAR22/Content/4178)\n",
    "- [\"(Demo/Tutorial) Estimating the threshold of a new quantum code using Stim and PyMatching\"](https://www.youtube.com/watch?v=E9yj0o1LGII) by Craig Gidney\n",
    "- [\"Relaxing Hardware Requirements for Surface Code Circuits using Time Dynamics\"](https://www.youtube.com/watch?v=FuP1exdZJkg) by Matt McEwen at [QEC 2023](https://web.archive.org/web/20241013042627/https://quantum.sydney.edu.au/qec23)\n",
    "\n",
    "## Papers with Stim circuits\n",
    "\n",
    "- A list of papers known to have included downloadable Stim circuits is available from the [doc/circuit_data_references.md](circuit_data_references.md) file in the [Stim repository on GitHub](https://github.com/quantumlib/stim).\n",
    "\n",
    "## Learning Python\n",
    "\n",
    "- [Google's Python class](https://developers.google.com/edu/python)\n",
    "- [Google's Crash Course on Python](https://www.coursera.org/learn/python-crash-course) at Coursera\n",
    "- University of Michigan's [Python for Everybody](https://www.coursera.org/specializations/python) at Coursera\n",
    "- Python.org's [Python Tutorial](https://docs.python.org/3/tutorial/)\n",
    "\n",
    "## Learning quantum computing\n",
    "\n",
    "\n",
    "- [Quantum computing for the very curious](https://quantum.country/qcvc) by Andy Matuschak and Michael Nielsen\n",
    "- [Building Google's quantum computer]() by Marissa Giustina (2018)\n",
    "- MIT's [Quantum Information Science I](https://openlearninglibrary.mit.edu/courses/course-v1:MITx+8.370.1x+1T2018/about)\n",
    "- John Preskill's [Ph/CS 219A Quantum Computation](https://www.youtube.com/playlist?list=PL0ojjrEqIyPy-1RRD8cTD_lF1hflo89Iu) on YouTube\n",
    "- Quantum AI's YouTube content:\n",
    "  - [Quantum Programming with Cirq](https://www.youtube.com/playlist?list=PLpO2pyKisOjLVt_tDJ2K6ZTapZtHXPLB4)\n",
    "  - [QuantumCasts](https://www.youtube.com/playlist?list=PLQY2H8rRoyvwcpm6Nf-fL4sIYQUXtq3HR)\n",
    "- [Quantum computing for the determined](https://michaelnielsen.org/blog/quantum-computing-for-the-determined/) by Michael Nielsen\n",
    "- Michael Nielsen and Isaac Chuang's [Quantum Computation And Quantum Information](https://archive.org/embed/QuantumComputationAndQuantumInformation10thAnniversaryEdition)\n",
    "\n",
    "\n",
    "## Learning quantum error correction\n",
    "\n",
    "- Quantum AI's [quantum computing journey](https://quantumai.google/learn/map)\n",
    "- Coursera course [Hands-on quantum error correction with Google Quantum AI](https://www.coursera.org/learn/quantum-error-correction) by Austin Fowler"
   ]
  },
  {
   "cell_type": "markdown",
   "metadata": {
    "id": "QRqhIAWxNIvM"
   },
   "source": [
    "<img style=\"float:right\" width=\"65px\" align=\"right\" src=\"https://raw.githubusercontent.com/quantumlib/Stim/refs/heads/main/doc/logo_128x128.svg\">\n",
    "\n",
    "今回の資料は[Stim tutorial](https://github.com/quantumlib/Stim/blob/main/doc/getting_started.ipynb)をもとに作成した。"
   ]
  }
 ],
 "metadata": {
  "colab": {
   "provenance": []
  },
  "kernelspec": {
   "display_name": ".venv",
   "language": "python",
   "name": "python3"
  },
  "language_info": {
   "codemirror_mode": {
    "name": "ipython",
    "version": 3
   },
   "file_extension": ".py",
   "mimetype": "text/x-python",
   "name": "python",
   "nbconvert_exporter": "python",
   "pygments_lexer": "ipython3",
   "version": "3.10.16"
  }
 },
 "nbformat": 4,
 "nbformat_minor": 0
}
